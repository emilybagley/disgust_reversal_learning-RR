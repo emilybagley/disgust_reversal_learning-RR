{
 "cells": [
  {
   "cell_type": "markdown",
   "metadata": {},
   "source": [
    "<h3><b>DATA CHECKS.IPYNB</b><h3>\n",
    "<p>Loads in one file from jatos folder</p>\n",
    "<p>Allows you to quickly look at the data</p>\n",
    "<p>For the sole purpose of giving prolific bonuses/approvals in real time</p>\n",
    "<p>Will also allow adjustments to recruitment to be made in real time </p>\n",
    "<p>Will make exclusion decisions later</p>"
   ]
  },
  {
   "cell_type": "code",
   "execution_count": 2,
   "metadata": {},
   "outputs": [],
   "source": [
    "import numpy as np\n",
    "import pandas as pd\n",
    "import matplotlib.pyplot as plt\n",
    "import seaborn as sns\n",
    "import scipy.stats as stats\n",
    "import jsonlines\n",
    "from functools import reduce\n",
    "import statistics\n",
    "pd.options.mode.copy_on_write = True\n",
    "pd.set_option('display.max_colwidth', None)\n",
    "pd.set_option('future.no_silent_downcasting', True)"
   ]
  },
  {
   "cell_type": "markdown",
   "metadata": {},
   "source": [
    "PART 1: LOAD IN DATA"
   ]
  },
  {
   "cell_type": "code",
   "execution_count": 3,
   "metadata": {},
   "outputs": [],
   "source": [
    "##this is dummy data --> created in a test runthrough of the task by the experimenter\n",
    "    ##have removed all refs to prolific ID and demographic info\n",
    "file_name=\"csvs/jatos_results_20240221150726.txt\""
   ]
  },
  {
   "cell_type": "code",
   "execution_count": 4,
   "metadata": {},
   "outputs": [],
   "source": [
    "#LOAD IN DATA\n",
    "i = 0\n",
    "with jsonlines.open(file_name) as reader: ##second pilot data\n",
    "    for line in reader:\n",
    "        if i ==0:\n",
    "            df = pd.DataFrame(line)\n",
    "            i +=1\n",
    "        else:\n",
    "            df = pd.concat([df, pd.DataFrame(line)])\n",
    "            i +=1\n",
    "df.reset_index(inplace=True)"
   ]
  },
  {
   "cell_type": "markdown",
   "metadata": {},
   "source": [
    "PART 2: VIDEO RATINGS"
   ]
  },
  {
   "cell_type": "code",
   "execution_count": 5,
   "metadata": {},
   "outputs": [],
   "source": [
    "rating_vids_df=df[df.trial_var==\"rate_stim\"]\n",
    "rating_vids_df['response']=rating_vids_df['response'].replace('  ', np.nan)\n",
    "rating_vids_df= rating_vids_df.dropna(subset=['response'])\n",
    "rating_vids_df.sort_values(by=[\"stimulus\", \"trial_index\"], inplace=True) ##groups dataframe by video type - allows you to extract 1st, 2nd and 3rd presentation of each video"
   ]
  },
  {
   "cell_type": "code",
   "execution_count": 6,
   "metadata": {},
   "outputs": [
    {
     "data": {
      "text/html": [
       "<div>\n",
       "<style scoped>\n",
       "    .dataframe tbody tr th:only-of-type {\n",
       "        vertical-align: middle;\n",
       "    }\n",
       "\n",
       "    .dataframe tbody tr th {\n",
       "        vertical-align: top;\n",
       "    }\n",
       "\n",
       "    .dataframe thead th {\n",
       "        text-align: right;\n",
       "    }\n",
       "</style>\n",
       "<table border=\"1\" class=\"dataframe\">\n",
       "  <thead>\n",
       "    <tr style=\"text-align: right;\">\n",
       "      <th></th>\n",
       "      <th>Vid</th>\n",
       "      <th>trial_type</th>\n",
       "      <th>unpleasant_1</th>\n",
       "      <th>unpleasant_2</th>\n",
       "      <th>unpleasant_3</th>\n",
       "      <th>arousing_1</th>\n",
       "      <th>arousing_2</th>\n",
       "      <th>arousing_3</th>\n",
       "      <th>disgusting_1</th>\n",
       "      <th>disgusting_2</th>\n",
       "      <th>disgusting_3</th>\n",
       "      <th>frightening_1</th>\n",
       "      <th>frightening_2</th>\n",
       "      <th>frightening_3</th>\n",
       "      <th>disgust_stim</th>\n",
       "      <th>fear_stim</th>\n",
       "    </tr>\n",
       "  </thead>\n",
       "  <tbody>\n",
       "    <tr>\n",
       "      <th>0</th>\n",
       "      <td>0888</td>\n",
       "      <td>disgust</td>\n",
       "      <td>0</td>\n",
       "      <td>0</td>\n",
       "      <td>0</td>\n",
       "      <td>0</td>\n",
       "      <td>0</td>\n",
       "      <td>0</td>\n",
       "      <td>0</td>\n",
       "      <td>0</td>\n",
       "      <td>0</td>\n",
       "      <td>0</td>\n",
       "      <td>0</td>\n",
       "      <td>0</td>\n",
       "      <td>0</td>\n",
       "      <td>0</td>\n",
       "    </tr>\n",
       "    <tr>\n",
       "      <th>1</th>\n",
       "      <td>1414</td>\n",
       "      <td>disgust</td>\n",
       "      <td>4</td>\n",
       "      <td>4</td>\n",
       "      <td>4</td>\n",
       "      <td>0</td>\n",
       "      <td>0</td>\n",
       "      <td>0</td>\n",
       "      <td>4</td>\n",
       "      <td>4</td>\n",
       "      <td>5</td>\n",
       "      <td>0</td>\n",
       "      <td>0</td>\n",
       "      <td>0</td>\n",
       "      <td>1</td>\n",
       "      <td>0</td>\n",
       "    </tr>\n",
       "    <tr>\n",
       "      <th>2</th>\n",
       "      <td>1765</td>\n",
       "      <td>disgust</td>\n",
       "      <td>1</td>\n",
       "      <td>0</td>\n",
       "      <td>0</td>\n",
       "      <td>0</td>\n",
       "      <td>0</td>\n",
       "      <td>0</td>\n",
       "      <td>0</td>\n",
       "      <td>0</td>\n",
       "      <td>0</td>\n",
       "      <td>0</td>\n",
       "      <td>0</td>\n",
       "      <td>0</td>\n",
       "      <td>0</td>\n",
       "      <td>0</td>\n",
       "    </tr>\n",
       "    <tr>\n",
       "      <th>3</th>\n",
       "      <td>1987</td>\n",
       "      <td>disgust</td>\n",
       "      <td>0</td>\n",
       "      <td>0</td>\n",
       "      <td>0</td>\n",
       "      <td>0</td>\n",
       "      <td>0</td>\n",
       "      <td>0</td>\n",
       "      <td>0</td>\n",
       "      <td>0</td>\n",
       "      <td>0</td>\n",
       "      <td>0</td>\n",
       "      <td>0</td>\n",
       "      <td>0</td>\n",
       "      <td>0</td>\n",
       "      <td>0</td>\n",
       "    </tr>\n",
       "    <tr>\n",
       "      <th>4</th>\n",
       "      <td>2106</td>\n",
       "      <td>disgust</td>\n",
       "      <td>2</td>\n",
       "      <td>1</td>\n",
       "      <td>1</td>\n",
       "      <td>0</td>\n",
       "      <td>0</td>\n",
       "      <td>0</td>\n",
       "      <td>1</td>\n",
       "      <td>0</td>\n",
       "      <td>0</td>\n",
       "      <td>0</td>\n",
       "      <td>0</td>\n",
       "      <td>0</td>\n",
       "      <td>0</td>\n",
       "      <td>0</td>\n",
       "    </tr>\n",
       "    <tr>\n",
       "      <th>5</th>\n",
       "      <td>0046</td>\n",
       "      <td>fear</td>\n",
       "      <td>4</td>\n",
       "      <td>4</td>\n",
       "      <td>0</td>\n",
       "      <td>0</td>\n",
       "      <td>0</td>\n",
       "      <td>0</td>\n",
       "      <td>0</td>\n",
       "      <td>0</td>\n",
       "      <td>0</td>\n",
       "      <td>2</td>\n",
       "      <td>3</td>\n",
       "      <td>0</td>\n",
       "      <td>0</td>\n",
       "      <td>1</td>\n",
       "    </tr>\n",
       "    <tr>\n",
       "      <th>6</th>\n",
       "      <td>0374</td>\n",
       "      <td>fear</td>\n",
       "      <td>0</td>\n",
       "      <td>0</td>\n",
       "      <td>0</td>\n",
       "      <td>0</td>\n",
       "      <td>0</td>\n",
       "      <td>0</td>\n",
       "      <td>0</td>\n",
       "      <td>0</td>\n",
       "      <td>0</td>\n",
       "      <td>0</td>\n",
       "      <td>0</td>\n",
       "      <td>0</td>\n",
       "      <td>0</td>\n",
       "      <td>0</td>\n",
       "    </tr>\n",
       "    <tr>\n",
       "      <th>7</th>\n",
       "      <td>0548</td>\n",
       "      <td>fear</td>\n",
       "      <td>4</td>\n",
       "      <td>3</td>\n",
       "      <td>4</td>\n",
       "      <td>0</td>\n",
       "      <td>0</td>\n",
       "      <td>0</td>\n",
       "      <td>0</td>\n",
       "      <td>0</td>\n",
       "      <td>0</td>\n",
       "      <td>4</td>\n",
       "      <td>3</td>\n",
       "      <td>4</td>\n",
       "      <td>0</td>\n",
       "      <td>0</td>\n",
       "    </tr>\n",
       "    <tr>\n",
       "      <th>8</th>\n",
       "      <td>0877</td>\n",
       "      <td>fear</td>\n",
       "      <td>0</td>\n",
       "      <td>0</td>\n",
       "      <td>0</td>\n",
       "      <td>0</td>\n",
       "      <td>0</td>\n",
       "      <td>0</td>\n",
       "      <td>0</td>\n",
       "      <td>0</td>\n",
       "      <td>0</td>\n",
       "      <td>0</td>\n",
       "      <td>0</td>\n",
       "      <td>0</td>\n",
       "      <td>0</td>\n",
       "      <td>0</td>\n",
       "    </tr>\n",
       "    <tr>\n",
       "      <th>9</th>\n",
       "      <td>1202</td>\n",
       "      <td>fear</td>\n",
       "      <td>0</td>\n",
       "      <td>0</td>\n",
       "      <td>0</td>\n",
       "      <td>0</td>\n",
       "      <td>0</td>\n",
       "      <td>0</td>\n",
       "      <td>0</td>\n",
       "      <td>0</td>\n",
       "      <td>0</td>\n",
       "      <td>1</td>\n",
       "      <td>0</td>\n",
       "      <td>1</td>\n",
       "      <td>0</td>\n",
       "      <td>0</td>\n",
       "    </tr>\n",
       "  </tbody>\n",
       "</table>\n",
       "</div>"
      ],
      "text/plain": [
       "    Vid trial_type  unpleasant_1  unpleasant_2  unpleasant_3  arousing_1  \\\n",
       "0  0888    disgust             0             0             0           0   \n",
       "1  1414    disgust             4             4             4           0   \n",
       "2  1765    disgust             1             0             0           0   \n",
       "3  1987    disgust             0             0             0           0   \n",
       "4  2106    disgust             2             1             1           0   \n",
       "5  0046       fear             4             4             0           0   \n",
       "6  0374       fear             0             0             0           0   \n",
       "7  0548       fear             4             3             4           0   \n",
       "8  0877       fear             0             0             0           0   \n",
       "9  1202       fear             0             0             0           0   \n",
       "\n",
       "   arousing_2  arousing_3  disgusting_1  disgusting_2  disgusting_3  \\\n",
       "0           0           0             0             0             0   \n",
       "1           0           0             4             4             5   \n",
       "2           0           0             0             0             0   \n",
       "3           0           0             0             0             0   \n",
       "4           0           0             1             0             0   \n",
       "5           0           0             0             0             0   \n",
       "6           0           0             0             0             0   \n",
       "7           0           0             0             0             0   \n",
       "8           0           0             0             0             0   \n",
       "9           0           0             0             0             0   \n",
       "\n",
       "   frightening_1  frightening_2  frightening_3  disgust_stim  fear_stim  \n",
       "0              0              0              0             0          0  \n",
       "1              0              0              0             1          0  \n",
       "2              0              0              0             0          0  \n",
       "3              0              0              0             0          0  \n",
       "4              0              0              0             0          0  \n",
       "5              2              3              0             0          1  \n",
       "6              0              0              0             0          0  \n",
       "7              4              3              4             0          0  \n",
       "8              0              0              0             0          0  \n",
       "9              1              0              1             0          0  "
      ]
     },
     "execution_count": 6,
     "metadata": {},
     "output_type": "execute_result"
    }
   ],
   "source": [
    "#create a dataframe with all ratings (for one participant)\n",
    "rating_vids_a=[]\n",
    "rating_vids_b=[]\n",
    "rating_vids_c=[]\n",
    "\n",
    "vals = range(len(rating_vids_df.index))\n",
    "\n",
    "for val in vals:\n",
    "    stim = str(rating_vids_df.iloc[val].stimulus)\n",
    "    trial_type=rating_vids_df.iloc[val].type\n",
    "    response = rating_vids_df.iloc[val].response\n",
    "    unpleasant=response['Q0']\n",
    "    arousing=response['Q1']\n",
    "    disgusting=response['Q2']\n",
    "    frightening=response['Q3']\n",
    "\n",
    "    if \"0888.gif\" in stim:\n",
    "        vid=\"0888\"\n",
    "    elif \"1414.gif\" in stim:\n",
    "        vid=\"1414\"\n",
    "    elif \"1765.gif\" in stim:\n",
    "        vid=\"1765\"\n",
    "    elif \"1987.gif\" in stim:\n",
    "        vid=\"1987\"\n",
    "    elif \"2106.gif\" in stim:\n",
    "        vid=\"2106\"\n",
    "    elif \"0046.gif\" in stim:\n",
    "        vid = \"0046\"\n",
    "    elif \"0374.gif\" in stim:\n",
    "        vid = \"0374\"\n",
    "    elif \"0548.gif\" in stim:\n",
    "        vid = \"0548\"\n",
    "    elif \"0877.gif\" in stim:\n",
    "        vid = \"0877\"\n",
    "    elif \"1202.gif\" in stim:\n",
    "        vid = \"1202\"\n",
    "    else:\n",
    "        vid = \"ERROR\"\n",
    "\n",
    "    if val in range(0, 30, 3):\n",
    "        rating_vids_a.append({\n",
    "            'Vid' : vid,\n",
    "            'trial_type': trial_type,\n",
    "            'unpleasant_1': unpleasant,\n",
    "            'arousing_1': arousing,\n",
    "            'disgusting_1': disgusting,\n",
    "            'frightening_1': frightening,\n",
    "            'disgust_stim': 0,\n",
    "            'fear_stim': 0,\n",
    "        })\n",
    "    elif val in range(1,30,3):\n",
    "        rating_vids_b.append({\n",
    "            'Vid' : vid,\n",
    "            'trial_type': trial_type,\n",
    "            'unpleasant_2': unpleasant,\n",
    "            'arousing_2': arousing,\n",
    "            'disgusting_2': disgusting,\n",
    "            'frightening_2': frightening,\n",
    "            'disgust_stim': 0,\n",
    "            'fear_stim': 0,\n",
    "        })\n",
    "    elif val in range(2,30,3):\n",
    "        rating_vids_c.append({\n",
    "            'Vid' : vid,\n",
    "            'trial_type': trial_type,\n",
    "            'unpleasant_3': unpleasant,\n",
    "            'arousing_3': arousing,\n",
    "            'disgusting_3': disgusting,\n",
    "            'frightening_3': frightening,\n",
    "            'disgust_stim': 0,\n",
    "            'fear_stim': 0,\n",
    "        })\n",
    "\n",
    "rating_vids_a=pd.DataFrame(rating_vids_a)\n",
    "rating_vids_b=pd.DataFrame(rating_vids_b)\n",
    "rating_vids_c=pd.DataFrame(rating_vids_c)\n",
    "rating_vids=rating_vids_a.merge(rating_vids_b, on=['Vid', 'trial_type', 'disgust_stim', 'fear_stim'])\n",
    "rating_vids=rating_vids.merge(rating_vids_c, on=['Vid', 'trial_type', 'disgust_stim', 'fear_stim'])\n",
    "rating_vids=rating_vids[['Vid', 'trial_type','unpleasant_1', 'unpleasant_2', 'unpleasant_3', 'arousing_1', 'arousing_2', 'arousing_3', 'disgusting_1', 'disgusting_2', 'disgusting_3', 'frightening_1', 'frightening_2', 'frightening_3', 'disgust_stim', 'fear_stim']]\n",
    "\n",
    "#add which video was chosen for disgust and fear stim\n",
    "fear_stim=str(df.fear_stimulus.dropna())\n",
    "disgust_stim=str(df.disgust_stimulus.dropna())\n",
    "\n",
    "if \"0888.gif\" in disgust_stim:\n",
    "       rating_vids.loc[rating_vids['Vid']==\"0888\", ['disgust_stim']]=1\n",
    "elif \"1414.gif\" in disgust_stim:\n",
    "       rating_vids.loc[rating_vids['Vid']==\"1414\", ['disgust_stim']]=1\n",
    "elif \"1765.gif\" in disgust_stim:\n",
    "       rating_vids.loc[rating_vids['Vid']==\"1765\", ['disgust_stim']]=1\n",
    "elif \"1987.gif\" in disgust_stim:\n",
    "       rating_vids.loc[rating_vids['Vid']==\"1987\", ['disgust_stim']]=1\n",
    "elif \"2106.gif\" in disgust_stim:\n",
    "       rating_vids.loc[rating_vids['Vid']==\"2106\", ['disgust_stim']]=1\n",
    "else:\n",
    "       print(\"error\")\n",
    "\n",
    "if \"0046.gif\" in fear_stim:\n",
    "       rating_vids.loc[rating_vids['Vid']==\"0046\", ['fear_stim']]=1\n",
    "elif \"0374.gif\" in fear_stim:\n",
    "       rating_vids.loc[rating_vids['Vid']==\"0374\", ['fear_stim']]=1\n",
    "elif \"0548.gif\" in fear_stim:\n",
    "       rating_vids.loc[rating_vids['Vid']==\"0548\", ['fear_stim']]=1\n",
    "elif \"0877.gif\" in fear_stim:\n",
    "       rating_vids.loc[rating_vids['Vid']==\"0877\", ['fear_stim']]=1\n",
    "elif \"1202.gif\" in fear_stim:\n",
    "       rating_vids.loc[rating_vids['Vid']==\"1202\", ['fear_stim']]=1\n",
    "else:\n",
    "       print(\"error\")\n",
    "\n",
    "#add prolific ID\n",
    "#rating_vids['prolific_id']=df[0:1].prolific_id[0]\n",
    "rating_vids"
   ]
  },
  {
   "cell_type": "code",
   "execution_count": 7,
   "metadata": {},
   "outputs": [
    {
     "data": {
      "text/plain": [
       "Text(0.5, 1.0, 'Fear ratings')"
      ]
     },
     "execution_count": 7,
     "metadata": {},
     "output_type": "execute_result"
    },
    {
     "data": {
      "image/png": "[encoded data removed]",
      "text/plain": [
       "<Figure size 640x480 with 4 Axes>"
      ]
     },
     "metadata": {},
     "output_type": "display_data"
    }
   ],
   "source": [
    "#Checking chosen stim\n",
    "    ##want valence and arousal to be roughly similar\n",
    "    ##and not rated the fear or disugst images as 0 for fear/disgust (whichever the emotion of interest is)\n",
    "    \n",
    "chosen_stim=pd.concat([rating_vids[rating_vids.disgust_stim==1], rating_vids[rating_vids.fear_stim==1]])\n",
    "fig, ax = plt.subplots(nrows=2,ncols=2, sharey=False)\n",
    "fig.tight_layout(pad=2)\n",
    "\n",
    "ax[0,0].bar(['Disgust', 'Fear'], [np.mean(chosen_stim[chosen_stim.trial_type==\"disgust\"].unpleasant_2), np.mean(chosen_stim[chosen_stim.trial_type==\"fear\"].unpleasant_2)])\n",
    "ax[0,0].set_title(\"Valence ratings\")\n",
    "\n",
    "ax[0,1].bar(['Disgust', 'Fear'], [np.mean(chosen_stim[chosen_stim.trial_type==\"disgust\"].arousing_2), np.mean(chosen_stim[chosen_stim.trial_type==\"fear\"].arousing_2)])\n",
    "ax[0,1].set_title(\"Arousal ratings\")\n",
    "\n",
    "\n",
    "ax[1,0].bar(['Disgust', 'Fear'], [np.mean(chosen_stim[chosen_stim.trial_type==\"disgust\"].disgusting_2), np.mean(chosen_stim[chosen_stim.trial_type==\"fear\"].disgusting_2)])\n",
    "ax[1,0].set_title(\"Disgust ratings\")\n",
    "\n",
    "ax[1,1].bar(['Disgust', 'Fear'], [np.mean(chosen_stim[chosen_stim.trial_type==\"disgust\"].frightening_2), np.mean(chosen_stim[chosen_stim.trial_type==\"fear\"].frightening_2)])\n",
    "ax[1,1].set_title(\"Fear ratings\")"
   ]
  },
  {
   "cell_type": "markdown",
   "metadata": {},
   "source": [
    "PART 3: BEHAVIOUR"
   ]
  },
  {
   "cell_type": "code",
   "execution_count": 8,
   "metadata": {},
   "outputs": [
    {
     "data": {
      "text/html": [
       "<div>\n",
       "<style scoped>\n",
       "    .dataframe tbody tr th:only-of-type {\n",
       "        vertical-align: middle;\n",
       "    }\n",
       "\n",
       "    .dataframe tbody tr th {\n",
       "        vertical-align: top;\n",
       "    }\n",
       "\n",
       "    .dataframe thead th {\n",
       "        text-align: right;\n",
       "    }\n",
       "</style>\n",
       "<table border=\"1\" class=\"dataframe\">\n",
       "  <thead>\n",
       "    <tr style=\"text-align: right;\">\n",
       "      <th></th>\n",
       "      <th>instruction_repeats</th>\n",
       "      <th>practice_percent</th>\n",
       "    </tr>\n",
       "  </thead>\n",
       "  <tbody>\n",
       "    <tr>\n",
       "      <th>0</th>\n",
       "      <td>1</td>\n",
       "      <td>0.4</td>\n",
       "    </tr>\n",
       "  </tbody>\n",
       "</table>\n",
       "</div>"
      ],
      "text/plain": [
       "   instruction_repeats  practice_percent\n",
       "0                    1               0.4"
      ]
     },
     "execution_count": 8,
     "metadata": {},
     "output_type": "execute_result"
    }
   ],
   "source": [
    "#instructions quiz and practice % correct\n",
    "task_understood=pd.DataFrame([{'instruction_repeats': np.shape(df[df.trial_type==\"instructions\"])[0]}])\n",
    "\n",
    "practice_df=df[df.task==\"practice_task\"]\n",
    "practice_df=practice_df[practice_df['correct'].notna()]\n",
    "task_understood['practice_percent']=np.shape(practice_df[practice_df.correct==True])[0] / np.shape(practice_df)[0]\n",
    "\n",
    "#task_understood['prolific_id']=df[0:1].prolific_id[0]\n",
    "task_understood"
   ]
  },
  {
   "cell_type": "code",
   "execution_count": 9,
   "metadata": {},
   "outputs": [
    {
     "data": {
      "text/plain": [
       "[<matplotlib.lines.Line2D at 0x2336119a1b0>]"
      ]
     },
     "execution_count": 9,
     "metadata": {},
     "output_type": "execute_result"
    },
    {
     "data": {
      "image/png": "[encoded data removed]",
      "text/plain": [
       "<Figure size 640x480 with 1 Axes>"
      ]
     },
     "metadata": {},
     "output_type": "display_data"
    }
   ],
   "source": [
    "#plot practice decisions\n",
    "plt.plot(range(0,10), practice_df.correct, 'o')\n",
    "plt.plot(np.ones(10))"
   ]
  },
  {
   "cell_type": "code",
   "execution_count": 10,
   "metadata": {},
   "outputs": [
    {
     "data": {
      "text/html": [
       "<div>\n",
       "<style scoped>\n",
       "    .dataframe tbody tr th:only-of-type {\n",
       "        vertical-align: middle;\n",
       "    }\n",
       "\n",
       "    .dataframe tbody tr th {\n",
       "        vertical-align: top;\n",
       "    }\n",
       "\n",
       "    .dataframe thead th {\n",
       "        text-align: right;\n",
       "    }\n",
       "</style>\n",
       "<table border=\"1\" class=\"dataframe\">\n",
       "  <thead>\n",
       "    <tr style=\"text-align: right;\">\n",
       "      <th></th>\n",
       "      <th>block</th>\n",
       "      <th>correct</th>\n",
       "    </tr>\n",
       "  </thead>\n",
       "  <tbody>\n",
       "    <tr>\n",
       "      <th>0</th>\n",
       "      <td>block 1</td>\n",
       "      <td>2</td>\n",
       "    </tr>\n",
       "    <tr>\n",
       "      <th>1</th>\n",
       "      <td>block 2</td>\n",
       "      <td>2</td>\n",
       "    </tr>\n",
       "    <tr>\n",
       "      <th>2</th>\n",
       "      <td>block 3</td>\n",
       "      <td>2</td>\n",
       "    </tr>\n",
       "  </tbody>\n",
       "</table>\n",
       "</div>"
      ],
      "text/plain": [
       "     block  correct\n",
       "0  block 1        2\n",
       "1  block 2        2\n",
       "2  block 3        2"
      ]
     },
     "metadata": {},
     "output_type": "display_data"
    },
    {
     "name": "stdout",
     "output_type": "stream",
     "text": [
      "6\n"
     ]
    }
   ],
   "source": [
    "#attention checks \n",
    "attention=df[df.trial_var==\"attention_check\"]\n",
    "index=df.index[df.trial_var==\"attention_check\"]\n",
    "if attention.loc[index[0]].response == {'Q0': ['Apple', 'Banana']}:\n",
    "    block1=2\n",
    "elif (attention.loc[0].response == \"{'Q0': ['Banana']}\") or (attention.loc[0].response == \"{'Q0': ['Spoon']}\"):\n",
    "            block1=1\n",
    "else:\n",
    "    block1=0\n",
    "\n",
    "if attention.loc[index[1]].response== {'Q0': ['Bowl', 'Spoon']}:\n",
    "    block2=2\n",
    "elif (attention.loc[1].response== \"{'Q0': ['Bowl']}\") or (attention.loc[1].response== \"{'Q0': ['Spoon']}\"):\n",
    "            block2=1\n",
    "else:\n",
    "    block2=0\n",
    "\n",
    "if attention.loc[index[2]].response== {'Q0': ['River', 'Mountain']}:\n",
    "    block3=2\n",
    "elif (attention.loc[2].response== \"{'Q0': ['River']}\") or (attention.loc[2].response== \"{'Q0': ['Mountain']}\"):\n",
    "    block3=1\n",
    "else:\n",
    "    block3=0\n",
    "\n",
    "attention_checks = pd.DataFrame({\n",
    "    'block': ['block 1', 'block 2', 'block 3'],\n",
    "    'correct' :[block1, block2, block3]\n",
    "})\n",
    "\n",
    "task_understood['attention_checks']=np.sum(attention_checks.correct)\n",
    "display(attention_checks)\n",
    "print(np.sum(attention_checks.correct)) ##must be greater than or equal to 4 (i.e., they can't get more than 2 questions wrong)"
   ]
  },
  {
   "cell_type": "code",
   "execution_count": 11,
   "metadata": {},
   "outputs": [],
   "source": [
    "#create dataframe with just task data\n",
    "task=df[df.task==\"main_task\"]"
   ]
  },
  {
   "cell_type": "code",
   "execution_count": 12,
   "metadata": {},
   "outputs": [
    {
     "data": {
      "text/plain": [
       "feedback_congruent\n",
       "True     0.816514\n",
       "False    0.183486\n",
       "Name: proportion, dtype: float64"
      ]
     },
     "execution_count": 12,
     "metadata": {},
     "output_type": "execute_result"
    }
   ],
   "source": [
    "#Checking that contingencies were correct (should e about .8) -- sanity check that the task is working\n",
    "task.feedback_congruent.value_counts(normalize=True)"
   ]
  },
  {
   "cell_type": "code",
   "execution_count": 13,
   "metadata": {},
   "outputs": [],
   "source": [
    "#function to create a dataframe for each block\n",
    "def create_df(block_name):\n",
    "    block_df=pd.DataFrame(columns=['n_trial', 'rt', 'stim_selected', 'correct_stim', 'correct', 'feedback', 'feedback_congruent', 'correct_count', 'trial_till_correct', 'reversal', 'block_no', 'prolific_id', 'timed_out'])\n",
    "    block=task[task.block_type==block_name]\n",
    "    block.reset_index(inplace=True)\n",
    "    block.drop(['level_0', 'index'], axis=1, inplace=True)\n",
    "\n",
    "    for i in set(block.n_trial):\n",
    "        trial=block[block.n_trial==i]\n",
    "        trial.reset_index(inplace=True)\n",
    "\n",
    "        row = []\n",
    "        if \"red\" in trial.feedback[2]:\n",
    "            feedback='incorrect'\n",
    "        else:\n",
    "            feedback='correct'\n",
    "\n",
    "        row.append({\n",
    "            'n_trial': trial.n_trial[0], #\n",
    "            'stim_selected': trial.stim_selected[0],#\n",
    "            'correct_stim': trial.correct_stim[0],#\n",
    "            'correct': trial.correct[0],#\n",
    "            'feedback': feedback,\n",
    "            'feedback_congruent': trial.feedback_congruent[2],\n",
    "            'correct_count': trial.correct_count[0],#\n",
    "            'trial_till_correct': trial.trial_till_correct[0],#\n",
    "            'rt': trial.rt[0],\n",
    "            'reversal': trial.reversal[0],#\n",
    "            'block_no': trial.block_no[0],#\n",
    "            #'prolific_id': trial.prolific_id[0],#\n",
    "            'timed_out': 0,\n",
    "            'time_taken': (block.time_elapsed.iloc[-1]-block.time_elapsed[0])/60000 ##in minutes\n",
    "        })\n",
    "        block_df=pd.concat([block_df, pd.DataFrame(row)])\n",
    "    block_df.reset_index(inplace=True)\n",
    "\n",
    "    #replace stimuli with 0 and 1 (for plotting)\n",
    "    stim=list(set(block_df.correct_stim.to_list()))\n",
    "    stim0=\"<img src='\"+str(stim[0])+\"'</img>\"\n",
    "    stim0b=\"  <img src='\"+str(stim[0])+\"'</img>\"\n",
    "    stim1=\"<img src='\"+str(stim[1])+\"'</img>\"\n",
    "    stim1b=\"  <img src='\"+str(stim[1])+\"'</img>\"\n",
    "\n",
    "    block_df.replace([stim[0], stim[1]], [0, 1], inplace=True)\n",
    "    block_df.replace([stim0, stim1], [0,1], inplace=True)\n",
    "    block_df.replace([stim0b, stim1b], [0,1], inplace=True)\n",
    "\n",
    "    #did they time out before reaching 7 reversals\n",
    "    short_block=block[block.trial_till_correct.notna()] ##removes trials after they timed out (if they did)\n",
    "    if short_block.iloc[-1].reversal==7.0 and short_block.iloc[-1].correct_count>=5:\n",
    "        block_df.timed_out=0\n",
    "    else:\n",
    "        block_df.timed_out=1\n",
    "    \n",
    "    ##did reach reversal criteria for inclusion\n",
    "    criteria=5\n",
    "    if short_block.iloc[-1].reversal>=criteria: ##if they reached more reversals than criteria\n",
    "        block_df['criteria']=0 ##pass\n",
    "    else:\n",
    "        block_df['criteria']=1 ##fail\n",
    "\n",
    "    return block_df"
   ]
  },
  {
   "cell_type": "code",
   "execution_count": 14,
   "metadata": {},
   "outputs": [
    {
     "name": "stdout",
     "output_type": "stream",
     "text": [
      "Passed!\n",
      "Met criteria\n"
     ]
    },
    {
     "name": "stderr",
     "output_type": "stream",
     "text": [
      "C:\\Users\\eb08\\AppData\\Local\\Temp\\ipykernel_8716\\608250947.py:34: FutureWarning: The behavior of DataFrame concatenation with empty or all-NA entries is deprecated. In a future version, this will no longer exclude empty or all-NA columns when determining the result dtypes. To retain the old behavior, exclude the relevant entries before the concat operation.\n",
      "  block_df=pd.concat([block_df, pd.DataFrame(row)])\n"
     ]
    },
    {
     "data": {
      "image/png": "[encoded data removed]",
      "text/plain": [
       "<Figure size 640x480 with 1 Axes>"
      ]
     },
     "metadata": {},
     "output_type": "display_data"
    }
   ],
   "source": [
    "disgust_df=create_df(\"Disgust\")\n",
    "#disgust_df=create_block_df(\"Disgust\")\n",
    "plt.plot(disgust_df.stim_selected, 'o')\n",
    "plt.plot(disgust_df.correct_stim)\n",
    "\n",
    "if disgust_df.iloc[-1].reversal==7.0 and disgust_df.iloc[-1].correct_count==5:\n",
    "    task_understood['timed_out_d']=0\n",
    "    print(\"Passed!\")\n",
    "else:\n",
    "    task_understood['timed_out_d']=1\n",
    "    print(\"Timed out\")\n",
    "\n",
    "if disgust_df.iloc[0].criteria ==0:\n",
    "    task_understood['criteria_d']=0\n",
    "    print(\"Met criteria\")\n",
    "else:\n",
    "    task_understood['criteria_d']=1\n",
    "    print(\"Didn't meet criteria\")"
   ]
  },
  {
   "cell_type": "code",
   "execution_count": 15,
   "metadata": {},
   "outputs": [
    {
     "name": "stderr",
     "output_type": "stream",
     "text": [
      "C:\\Users\\eb08\\AppData\\Local\\Temp\\ipykernel_8716\\608250947.py:34: FutureWarning: The behavior of DataFrame concatenation with empty or all-NA entries is deprecated. In a future version, this will no longer exclude empty or all-NA columns when determining the result dtypes. To retain the old behavior, exclude the relevant entries before the concat operation.\n",
      "  block_df=pd.concat([block_df, pd.DataFrame(row)])\n"
     ]
    },
    {
     "name": "stdout",
     "output_type": "stream",
     "text": [
      "Passed!\n",
      "Met criteria\n"
     ]
    },
    {
     "data": {
      "image/png": "[encoded data removed]",
      "text/plain": [
       "<Figure size 640x480 with 1 Axes>"
      ]
     },
     "metadata": {},
     "output_type": "display_data"
    }
   ],
   "source": [
    "fear_df=create_df(\"Fear\")\n",
    "plt.plot(fear_df.stim_selected, 'o')\n",
    "plt.plot(fear_df.correct_stim)\n",
    "\n",
    "if fear_df.iloc[-1].reversal==7.0 and fear_df.iloc[-1].correct_count==5:\n",
    "    task_understood['timed_out_f']=0\n",
    "    print(\"Passed!\")\n",
    "else:\n",
    "    task_understood['timed_out_f']=1\n",
    "    print(\"Timed out\")\n",
    "\n",
    "\n",
    "if fear_df.iloc[0].criteria ==0:\n",
    "    task_understood['criteria_f']=0\n",
    "    print(\"Met criteria\")\n",
    "else:\n",
    "    task_understood['criteria_f']=1\n",
    "    print(\"Didn't meet criteria\")"
   ]
  },
  {
   "cell_type": "code",
   "execution_count": 16,
   "metadata": {},
   "outputs": [
    {
     "name": "stderr",
     "output_type": "stream",
     "text": [
      "C:\\Users\\eb08\\AppData\\Local\\Temp\\ipykernel_8716\\608250947.py:34: FutureWarning: The behavior of DataFrame concatenation with empty or all-NA entries is deprecated. In a future version, this will no longer exclude empty or all-NA columns when determining the result dtypes. To retain the old behavior, exclude the relevant entries before the concat operation.\n",
      "  block_df=pd.concat([block_df, pd.DataFrame(row)])\n"
     ]
    },
    {
     "name": "stdout",
     "output_type": "stream",
     "text": [
      "Passed!\n",
      "Met criteria\n"
     ]
    },
    {
     "data": {
      "image/png": "[encoded data removed]",
      "text/plain": [
       "<Figure size 640x480 with 1 Axes>"
      ]
     },
     "metadata": {},
     "output_type": "display_data"
    }
   ],
   "source": [
    "points_df=create_df(\"Points\")\n",
    "plt.plot(points_df.stim_selected, 'o')\n",
    "plt.plot(points_df.correct_stim)\n",
    "\n",
    "\n",
    "if points_df.iloc[-1].reversal==7.0 and points_df.iloc[-1].correct_count==5:\n",
    "    task_understood['timed_out_p']=0\n",
    "    print(\"Passed!\")\n",
    "else:\n",
    "    task_understood['timed_out_p']=1\n",
    "    print(\"Timed out\")\n",
    "\n",
    "\n",
    "if points_df.iloc[0].criteria ==0:\n",
    "    task_understood['criteria_p']=0\n",
    "    print(\"Met criteria\")\n",
    "else:\n",
    "    task_understood['criteria_p']=1\n",
    "    print(\"Didn't meet criteria\")"
   ]
  },
  {
   "cell_type": "code",
   "execution_count": 17,
   "metadata": {},
   "outputs": [
    {
     "name": "stdout",
     "output_type": "stream",
     "text": [
      "0\n"
     ]
    }
   ],
   "source": [
    "criteria=task_understood['criteria_p']+task_understood['criteria_d']+task_understood['criteria_f']\n",
    "task_understood['criteria_total']=criteria\n",
    "print(criteria[0]) ##must be less than 3"
   ]
  },
  {
   "cell_type": "code",
   "execution_count": 18,
   "metadata": {},
   "outputs": [
    {
     "name": "stdout",
     "output_type": "stream",
     "text": [
      "no\n"
     ]
    }
   ],
   "source": [
    "##did they take any breaks\n",
    "if len(task[task.rt/60000>10].index) ==0:\n",
    "    task_understood['long_breaks']=\"No\"\n",
    "    print(\"no\")\n",
    "else:\n",
    "    task_understood['long_breaks']=\"Yes\"\n",
    "    print(\"yes\")"
   ]
  },
  {
   "cell_type": "code",
   "execution_count": 20,
   "metadata": {},
   "outputs": [
    {
     "name": "stdout",
     "output_type": "stream",
     "text": [
      "Task understood\n"
     ]
    },
    {
     "data": {
      "text/html": [
       "<div>\n",
       "<style scoped>\n",
       "    .dataframe tbody tr th:only-of-type {\n",
       "        vertical-align: middle;\n",
       "    }\n",
       "\n",
       "    .dataframe tbody tr th {\n",
       "        vertical-align: top;\n",
       "    }\n",
       "\n",
       "    .dataframe thead th {\n",
       "        text-align: right;\n",
       "    }\n",
       "</style>\n",
       "<table border=\"1\" class=\"dataframe\">\n",
       "  <thead>\n",
       "    <tr style=\"text-align: right;\">\n",
       "      <th></th>\n",
       "      <th>instruction_repeats</th>\n",
       "      <th>practice_percent</th>\n",
       "      <th>attention_checks</th>\n",
       "      <th>timed_out_d</th>\n",
       "      <th>criteria_d</th>\n",
       "      <th>timed_out_f</th>\n",
       "      <th>criteria_f</th>\n",
       "      <th>timed_out_p</th>\n",
       "      <th>criteria_p</th>\n",
       "      <th>criteria_total</th>\n",
       "      <th>long_breaks</th>\n",
       "      <th>time_elapsed</th>\n",
       "      <th>task_understood</th>\n",
       "    </tr>\n",
       "  </thead>\n",
       "  <tbody>\n",
       "    <tr>\n",
       "      <th>0</th>\n",
       "      <td>1</td>\n",
       "      <td>0.4</td>\n",
       "      <td>6</td>\n",
       "      <td>0</td>\n",
       "      <td>0</td>\n",
       "      <td>0</td>\n",
       "      <td>0</td>\n",
       "      <td>0</td>\n",
       "      <td>0</td>\n",
       "      <td>0</td>\n",
       "      <td>No</td>\n",
       "      <td>No</td>\n",
       "      <td>Yes</td>\n",
       "    </tr>\n",
       "  </tbody>\n",
       "</table>\n",
       "</div>"
      ],
      "text/plain": [
       "   instruction_repeats  practice_percent  attention_checks  timed_out_d  \\\n",
       "0                    1               0.4                 6            0   \n",
       "\n",
       "   criteria_d  timed_out_f  criteria_f  timed_out_p  criteria_p  \\\n",
       "0           0            0           0            0           0   \n",
       "\n",
       "   criteria_total long_breaks time_elapsed task_understood  \n",
       "0               0          No           No             Yes  "
      ]
     },
     "execution_count": 20,
     "metadata": {},
     "output_type": "execute_result"
    }
   ],
   "source": [
    "##Checking they learnt the task correctly\n",
    "if task_understood.attention_checks[0]>4 and task_understood.criteria_total[0]<3  and task_understood.long_breaks[0]==\"No\" and task_understood.time_elapsed[0]==\"No\":\n",
    "    task_understood['task_understood']=\"Yes\"\n",
    "    print(\"Task understood\")\n",
    "else:\n",
    "    task_understood['task_understood']=\"No\"\n",
    "    print(\"Task failed\")\n",
    "task_understood"
   ]
  },
  {
   "cell_type": "markdown",
   "metadata": {},
   "source": [
    "<h3>Demography and psychiatric information</h3>\n",
    "<p>Check that this matches the info prolific gives you</p>\n",
    "<p>And also that the time taken was less than 120 minutes</p>"
   ]
  },
  {
   "cell_type": "code",
   "execution_count": 21,
   "metadata": {},
   "outputs": [
    {
     "ename": "KeyError",
     "evalue": "0",
     "output_type": "error",
     "traceback": [
      "\u001b[1;31m---------------------------------------------------------------------------\u001b[0m",
      "\u001b[1;31mValueError\u001b[0m                                Traceback (most recent call last)",
      "File \u001b[1;32mU:\\Documents\\envs\\reversal_learning_venv\\Lib\\site-packages\\pandas\\core\\indexes\\range.py:413\u001b[0m, in \u001b[0;36mRangeIndex.get_loc\u001b[1;34m(self, key)\u001b[0m\n\u001b[0;32m    <a href='file:///u%3A/Documents/envs/reversal_learning_venv/Lib/site-packages/pandas/core/indexes/range.py?line=411'>412</a>\u001b[0m \u001b[39mtry\u001b[39;00m:\n\u001b[1;32m--> <a href='file:///u%3A/Documents/envs/reversal_learning_venv/Lib/site-packages/pandas/core/indexes/range.py?line=412'>413</a>\u001b[0m     \u001b[39mreturn\u001b[39;00m \u001b[39mself\u001b[39;49m\u001b[39m.\u001b[39;49m_range\u001b[39m.\u001b[39;49mindex(new_key)\n\u001b[0;32m    <a href='file:///u%3A/Documents/envs/reversal_learning_venv/Lib/site-packages/pandas/core/indexes/range.py?line=413'>414</a>\u001b[0m \u001b[39mexcept\u001b[39;00m \u001b[39mValueError\u001b[39;00m \u001b[39mas\u001b[39;00m err:\n",
      "\u001b[1;31mValueError\u001b[0m: 0 is not in range",
      "\nThe above exception was the direct cause of the following exception:\n",
      "\u001b[1;31mKeyError\u001b[0m                                  Traceback (most recent call last)",
      "Cell \u001b[1;32mIn[21], line 4\u001b[0m\n\u001b[0;32m      2\u001b[0m demography\u001b[38;5;241m=\u001b[39mdf[df\u001b[38;5;241m.\u001b[39mtrial_var\u001b[38;5;241m==\u001b[39m\u001b[38;5;124m\"\u001b[39m\u001b[38;5;124mdemography\u001b[39m\u001b[38;5;124m\"\u001b[39m]\u001b[38;5;241m.\u001b[39mreset_index()\n\u001b[0;32m      3\u001b[0m demography\n\u001b[1;32m----> 4\u001b[0m demography_df \u001b[38;5;241m=\u001b[39m pd\u001b[38;5;241m.\u001b[39mDataFrame([\u001b[43mdemography\u001b[49m\u001b[38;5;241;43m.\u001b[39;49m\u001b[43mloc\u001b[49m\u001b[43m[\u001b[49m\u001b[38;5;241;43m0\u001b[39;49m\u001b[43m]\u001b[49m\u001b[38;5;241m.\u001b[39mresponse])\u001b[38;5;241m.\u001b[39mdrop([\u001b[38;5;124m\"\u001b[39m\u001b[38;5;124mtitle\u001b[39m\u001b[38;5;124m\"\u001b[39m, \u001b[38;5;124m\"\u001b[39m\u001b[38;5;124mfinal_goodbye\u001b[39m\u001b[38;5;124m\"\u001b[39m, \u001b[38;5;124m\"\u001b[39m\u001b[38;5;124mfeedback\u001b[39m\u001b[38;5;124m\"\u001b[39m], axis\u001b[38;5;241m=\u001b[39m\u001b[38;5;124m\"\u001b[39m\u001b[38;5;124mcolumns\u001b[39m\u001b[38;5;124m\"\u001b[39m)\n\u001b[0;32m      5\u001b[0m demography_df\n",
      "File \u001b[1;32mU:\\Documents\\envs\\reversal_learning_venv\\Lib\\site-packages\\pandas\\core\\indexing.py:1191\u001b[0m, in \u001b[0;36m_LocationIndexer.__getitem__\u001b[1;34m(self, key)\u001b[0m\n\u001b[0;32m   <a href='file:///u%3A/Documents/envs/reversal_learning_venv/Lib/site-packages/pandas/core/indexing.py?line=1188'>1189</a>\u001b[0m maybe_callable \u001b[39m=\u001b[39m com\u001b[39m.\u001b[39mapply_if_callable(key, \u001b[39mself\u001b[39m\u001b[39m.\u001b[39mobj)\n\u001b[0;32m   <a href='file:///u%3A/Documents/envs/reversal_learning_venv/Lib/site-packages/pandas/core/indexing.py?line=1189'>1190</a>\u001b[0m maybe_callable \u001b[39m=\u001b[39m \u001b[39mself\u001b[39m\u001b[39m.\u001b[39m_check_deprecated_callable_usage(key, maybe_callable)\n\u001b[1;32m-> <a href='file:///u%3A/Documents/envs/reversal_learning_venv/Lib/site-packages/pandas/core/indexing.py?line=1190'>1191</a>\u001b[0m \u001b[39mreturn\u001b[39;00m \u001b[39mself\u001b[39;49m\u001b[39m.\u001b[39;49m_getitem_axis(maybe_callable, axis\u001b[39m=\u001b[39;49maxis)\n",
      "File \u001b[1;32mU:\\Documents\\envs\\reversal_learning_venv\\Lib\\site-packages\\pandas\\core\\indexing.py:1431\u001b[0m, in \u001b[0;36m_LocIndexer._getitem_axis\u001b[1;34m(self, key, axis)\u001b[0m\n\u001b[0;32m   <a href='file:///u%3A/Documents/envs/reversal_learning_venv/Lib/site-packages/pandas/core/indexing.py?line=1428'>1429</a>\u001b[0m \u001b[39m# fall thru to straight lookup\u001b[39;00m\n\u001b[0;32m   <a href='file:///u%3A/Documents/envs/reversal_learning_venv/Lib/site-packages/pandas/core/indexing.py?line=1429'>1430</a>\u001b[0m \u001b[39mself\u001b[39m\u001b[39m.\u001b[39m_validate_key(key, axis)\n\u001b[1;32m-> <a href='file:///u%3A/Documents/envs/reversal_learning_venv/Lib/site-packages/pandas/core/indexing.py?line=1430'>1431</a>\u001b[0m \u001b[39mreturn\u001b[39;00m \u001b[39mself\u001b[39;49m\u001b[39m.\u001b[39;49m_get_label(key, axis\u001b[39m=\u001b[39;49maxis)\n",
      "File \u001b[1;32mU:\\Documents\\envs\\reversal_learning_venv\\Lib\\site-packages\\pandas\\core\\indexing.py:1381\u001b[0m, in \u001b[0;36m_LocIndexer._get_label\u001b[1;34m(self, label, axis)\u001b[0m\n\u001b[0;32m   <a href='file:///u%3A/Documents/envs/reversal_learning_venv/Lib/site-packages/pandas/core/indexing.py?line=1378'>1379</a>\u001b[0m \u001b[39mdef\u001b[39;00m \u001b[39m_get_label\u001b[39m(\u001b[39mself\u001b[39m, label, axis: AxisInt):\n\u001b[0;32m   <a href='file:///u%3A/Documents/envs/reversal_learning_venv/Lib/site-packages/pandas/core/indexing.py?line=1379'>1380</a>\u001b[0m     \u001b[39m# GH#5567 this will fail if the label is not present in the axis.\u001b[39;00m\n\u001b[1;32m-> <a href='file:///u%3A/Documents/envs/reversal_learning_venv/Lib/site-packages/pandas/core/indexing.py?line=1380'>1381</a>\u001b[0m     \u001b[39mreturn\u001b[39;00m \u001b[39mself\u001b[39;49m\u001b[39m.\u001b[39;49mobj\u001b[39m.\u001b[39;49mxs(label, axis\u001b[39m=\u001b[39;49maxis)\n",
      "File \u001b[1;32mU:\\Documents\\envs\\reversal_learning_venv\\Lib\\site-packages\\pandas\\core\\generic.py:4301\u001b[0m, in \u001b[0;36mNDFrame.xs\u001b[1;34m(self, key, axis, level, drop_level)\u001b[0m\n\u001b[0;32m   <a href='file:///u%3A/Documents/envs/reversal_learning_venv/Lib/site-packages/pandas/core/generic.py?line=4298'>4299</a>\u001b[0m             new_index \u001b[39m=\u001b[39m index[loc]\n\u001b[0;32m   <a href='file:///u%3A/Documents/envs/reversal_learning_venv/Lib/site-packages/pandas/core/generic.py?line=4299'>4300</a>\u001b[0m \u001b[39melse\u001b[39;00m:\n\u001b[1;32m-> <a href='file:///u%3A/Documents/envs/reversal_learning_venv/Lib/site-packages/pandas/core/generic.py?line=4300'>4301</a>\u001b[0m     loc \u001b[39m=\u001b[39m index\u001b[39m.\u001b[39;49mget_loc(key)\n\u001b[0;32m   <a href='file:///u%3A/Documents/envs/reversal_learning_venv/Lib/site-packages/pandas/core/generic.py?line=4302'>4303</a>\u001b[0m     \u001b[39mif\u001b[39;00m \u001b[39misinstance\u001b[39m(loc, np\u001b[39m.\u001b[39mndarray):\n\u001b[0;32m   <a href='file:///u%3A/Documents/envs/reversal_learning_venv/Lib/site-packages/pandas/core/generic.py?line=4303'>4304</a>\u001b[0m         \u001b[39mif\u001b[39;00m loc\u001b[39m.\u001b[39mdtype \u001b[39m==\u001b[39m np\u001b[39m.\u001b[39mbool_:\n",
      "File \u001b[1;32mU:\\Documents\\envs\\reversal_learning_venv\\Lib\\site-packages\\pandas\\core\\indexes\\range.py:415\u001b[0m, in \u001b[0;36mRangeIndex.get_loc\u001b[1;34m(self, key)\u001b[0m\n\u001b[0;32m    <a href='file:///u%3A/Documents/envs/reversal_learning_venv/Lib/site-packages/pandas/core/indexes/range.py?line=412'>413</a>\u001b[0m         \u001b[39mreturn\u001b[39;00m \u001b[39mself\u001b[39m\u001b[39m.\u001b[39m_range\u001b[39m.\u001b[39mindex(new_key)\n\u001b[0;32m    <a href='file:///u%3A/Documents/envs/reversal_learning_venv/Lib/site-packages/pandas/core/indexes/range.py?line=413'>414</a>\u001b[0m     \u001b[39mexcept\u001b[39;00m \u001b[39mValueError\u001b[39;00m \u001b[39mas\u001b[39;00m err:\n\u001b[1;32m--> <a href='file:///u%3A/Documents/envs/reversal_learning_venv/Lib/site-packages/pandas/core/indexes/range.py?line=414'>415</a>\u001b[0m         \u001b[39mraise\u001b[39;00m \u001b[39mKeyError\u001b[39;00m(key) \u001b[39mfrom\u001b[39;00m \u001b[39merr\u001b[39;00m\n\u001b[0;32m    <a href='file:///u%3A/Documents/envs/reversal_learning_venv/Lib/site-packages/pandas/core/indexes/range.py?line=415'>416</a>\u001b[0m \u001b[39mif\u001b[39;00m \u001b[39misinstance\u001b[39m(key, Hashable):\n\u001b[0;32m    <a href='file:///u%3A/Documents/envs/reversal_learning_venv/Lib/site-packages/pandas/core/indexes/range.py?line=416'>417</a>\u001b[0m     \u001b[39mraise\u001b[39;00m \u001b[39mKeyError\u001b[39;00m(key)\n",
      "\u001b[1;31mKeyError\u001b[0m: 0"
     ]
    }
   ],
   "source": [
    "##demography - missing from this dummy data so code won't work\n",
    "    #will check by hand whether it matches prolific and whether time taken was >120 mins\n",
    "demography=df[df.trial_var==\"demography\"].reset_index()\n",
    "demography\n",
    "demography_df = pd.DataFrame([demography.loc[0].response]).drop([\"title\", \"final_goodbye\", \"feedback\"], axis=\"columns\")\n",
    "demography_df"
   ]
  },
  {
   "cell_type": "code",
   "execution_count": null,
   "metadata": {},
   "outputs": [],
   "source": [
    "##again psychiatric diagnosis is missing from this dummy data so won't work\n",
    "ind=df.index[df.trial_var==\"psychiatric diagnosis\"]\n",
    "diagnosis=df.iloc[ind].response[ind[0]]\n",
    "diagnosis=pd.DataFrame([diagnosis])\n",
    "diagnosis.rename(columns={\"Q0\": \"diagnosis\"}, inplace=True)\n",
    "diagnosis['prolific_id']=df[0:1].prolific_id[0]\n",
    "diagnosis"
   ]
  },
  {
   "cell_type": "markdown",
   "metadata": {},
   "source": [
    "<h3>Digit span task</h3>\n",
    "<p>Check that they didn't score 0</p>"
   ]
  },
  {
   "cell_type": "code",
   "execution_count": null,
   "metadata": {},
   "outputs": [],
   "source": [
    "def make_digit_span(df):\n",
    "    digit_span=pd.DataFrame()\n",
    "    for i in set(df.participant_no): \n",
    "        sub_df=df[df.participant_no==float(i)]\n",
    "        digit_span_df=sub_df.dropna(subset=['digit_span']).reset_index()\n",
    "        if len(digit_span_df.index)==0:\n",
    "            temp_digit_span=pd.DataFrame({'digit_span': \"task failed\", 'participant_no': [sub_df.participant_no.iloc[0]] })\n",
    "        else:\n",
    "            temp_digit_span=pd.DataFrame({'digit_span': [digit_span_df.digit_span[0]], 'participant_no': [digit_span_df.participant_no[0]]})\n",
    "        digit_span=pd.concat([digit_span, temp_digit_span])\n",
    "    return digit_span"
   ]
  },
  {
   "cell_type": "code",
   "execution_count": null,
   "metadata": {},
   "outputs": [],
   "source": [
    "make_digit_span(df) ##doesn't work in dummy data but will create df with digit span result - which should be greater than 1"
   ]
  }
 ],
 "metadata": {
  "interpreter": {
   "hash": "a19328ca44b954ed06e43a2e0ca9e2fb64feda7c5658a8f92922d9dadf68cb6c"
  },
  "kernelspec": {
   "display_name": "Python 3.11.5 64-bit ('anaconda3')",
   "language": "python",
   "name": "python3"
  },
  "language_info": {
   "codemirror_mode": {
    "name": "ipython",
    "version": 3
   },
   "file_extension": ".py",
   "mimetype": "text/x-python",
   "name": "python",
   "nbconvert_exporter": "python",
   "pygments_lexer": "ipython3",
   "version": "3.12.1"
  },
  "orig_nbformat": 4
 },
 "nbformat": 4,
 "nbformat_minor": 2
}
