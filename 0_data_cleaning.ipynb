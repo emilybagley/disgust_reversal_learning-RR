{
 "cells": [
  {
   "cell_type": "markdown",
   "metadata": {},
   "source": [
    "<h3><b>CREATE DATA FRAMES.IPYNB</b><h3>\n",
    "<p>Creates dataframes with all data and without excluded participants<p>\n",
    "<p>outputs: chosen_stim, ratings, questionnaire_scores, questionnaire_complete, complete_task (full and excluded) <p>"
   ]
  },
  {
   "cell_type": "code",
   "execution_count": 1,
   "metadata": {},
   "outputs": [],
   "source": [
    "import numpy as np\n",
    "import pandas as pd\n",
    "import matplotlib.pyplot as plt\n",
    "import seaborn as sns\n",
    "import scipy.stats as stats\n",
    "import jsonlines\n",
    "from functools import reduce\n",
    "import statistics\n",
    "import math\n",
    "import os\n",
    "import json\n",
    "import ast\n",
    "import warnings\n",
    "pd.options.mode.copy_on_write = True\n",
    "pd.set_option('display.max_colwidth', None)\n",
    "pd.set_option('future.no_silent_downcasting', True)\n",
    "warnings.simplefilter(action='ignore', category=FutureWarning)\n",
    "\n",
    "#uses various functions\n",
    "from dataclean_func import *"
   ]
  },
  {
   "cell_type": "code",
   "execution_count": 2,
   "metadata": {},
   "outputs": [],
   "source": [
    "#load in dataframe\n",
    "df = pd.read_csv(\"/Documents/Disgust learning project/pilot/pilot_analysis_all/dummy_data.csv\", low_memory=False)\n",
    "demographics=pd.read_csv(\"/Documents/Disgust learning project/pilot/pilot_analysis_all/dummy_demographic.csv\", low_memory=False)\n",
    "df.drop('Unnamed: 0', axis=\"columns\", inplace=True)\n",
    "demographics.drop('Unnamed: 0', axis=\"columns\", inplace=True)"
   ]
  },
  {
   "cell_type": "code",
   "execution_count": 3,
   "metadata": {},
   "outputs": [],
   "source": [
    "excluded_list=[] #create empty list of excluded participants"
   ]
  },
  {
   "cell_type": "markdown",
   "metadata": {},
   "source": [
    "DEMOGRAPHICS, DIGITSPAN AND DIAGNOSIS"
   ]
  },
  {
   "cell_type": "code",
   "execution_count": 4,
   "metadata": {},
   "outputs": [],
   "source": [
    "##check for people who's demographic info doesn't align\n",
    "demographics[demographics.aligns!=True].dropna() ##dropping those with missing data \n",
    "\n",
    "for i in list(demographics[demographics.aligns!=True].dropna().participant_no):\n",
    "    excluded_list.append(i)\n",
    "\n",
    "#digit span and diagnosis\n",
    "digit_span=make_digit_span(df)\n",
    "diagnosis=make_diagnosis(df)\n",
    "\n",
    "##exclude those with digit span of 0 \n",
    "for i in list(digit_span[digit_span.digit_span==0].participant_no):\n",
    "    excluded_list.append(i)\n",
    "\n",
    "dem_df=(diagnosis.merge(digit_span, on='participant_no')).merge(demographics, on='participant_no')"
   ]
  },
  {
   "cell_type": "markdown",
   "metadata": {},
   "source": [
    "VIDEO RATINGS"
   ]
  },
  {
   "cell_type": "code",
   "execution_count": 5,
   "metadata": {},
   "outputs": [],
   "source": [
    "#create video ratings dataframes\n",
    "total_participant=len(list(set(df.participant_no)))\n",
    "ratings_df=pd.DataFrame()\n",
    "chosen_stim_df=pd.DataFrame()\n",
    "points_rating_df=pd.DataFrame()\n",
    "for i in set(df.participant_no):     \n",
    "    ##vid_ratings(df, i, \"plot\")\n",
    "    vid_ratings_temp=vid_ratings(df, i, \"rating_vids\")\n",
    "    ratings_df=pd.concat([ratings_df, vid_ratings_temp])\n",
    "    chosen_stim_temp=vid_ratings(df, i, \"chosen_stim\")\n",
    "    chosen_stim_df=pd.concat([chosen_stim_df, chosen_stim_temp])\n",
    "    ###NB WILL NEED TO ALTER LINE 124 ONCE HAVE ACTUAL POINTS RATINGS\n",
    "    points_rating_temp=vid_ratings(df, i, \"points_rating\") \n",
    "    points_rating_df=pd.concat([points_rating_df, points_rating_temp])\n",
    "\n",
    "chosen_stim_df=pd.concat([chosen_stim_df, points_rating_df])\n",
    "chosen_stim_df=chosen_stim_df.fillna(0).sort_values(by='participant_no').reset_index().drop('index',axis=1)#\n",
    "\n",
    "wide_ratings_df=wide_ratings(chosen_stim_df)"
   ]
  },
  {
   "cell_type": "code",
   "execution_count": 6,
   "metadata": {},
   "outputs": [
    {
     "data": {
      "text/plain": [
       "[]"
      ]
     },
     "execution_count": 6,
     "metadata": {},
     "output_type": "execute_result"
    }
   ],
   "source": [
    "##exclude any with 0 for a rating of interest\n",
    "disgust_stim_check=chosen_stim_df[chosen_stim_df.trial_type==\"disgust\"]\n",
    "fear_stim_check=chosen_stim_df[chosen_stim_df.trial_type==\"fear\"]\n",
    "exclude=[]\n",
    "for i in set(chosen_stim_df.participant_no):\n",
    "    participant_disgust=disgust_stim_check[disgust_stim_check.participant_no==i].reset_index()\n",
    "    if participant_disgust.disgusting_2[0]==0: ##ONLY 2 RATINGS\n",
    "        exclude.append(i)\n",
    "\n",
    "    participant_fear=fear_stim_check[fear_stim_check.participant_no==i].reset_index()\n",
    "    if participant_fear.frightening_2[0]==0:\n",
    "        exclude.append(i)\n",
    "\n",
    "#exclude ones with a zero\n",
    "for i in list(exclude):\n",
    "    excluded_list.append(i)\n",
    "excluded_list"
   ]
  },
  {
   "cell_type": "markdown",
   "metadata": {},
   "source": [
    "BEHAVIOURAL TASK"
   ]
  },
  {
   "cell_type": "code",
   "execution_count": 7,
   "metadata": {},
   "outputs": [],
   "source": [
    "##create dataframe with all task information\n",
    "complete_task_df=create_task_df(df, \"no plot\")"
   ]
  },
  {
   "cell_type": "code",
   "execution_count": 8,
   "metadata": {},
   "outputs": [
    {
     "data": {
      "text/plain": [
       "[7.0]"
      ]
     },
     "execution_count": 8,
     "metadata": {},
     "output_type": "execute_result"
    }
   ],
   "source": [
    "#exclusions on the basis of this dataframe\n",
    "task_understood=make_task_understood(df, complete_task_df, \"no plot\")\n",
    "#task_understood[task_understood.task_understood==\"No\"]\n",
    "\n",
    "for i in list(task_understood[task_understood.task_understood==\"No\"].participant_no):\n",
    "    excluded_list.append(i)\n",
    "excluded_list"
   ]
  },
  {
   "cell_type": "code",
   "execution_count": 9,
   "metadata": {},
   "outputs": [
    {
     "data": {
      "text/html": [
       "<div>\n",
       "<style scoped>\n",
       "    .dataframe tbody tr th:only-of-type {\n",
       "        vertical-align: middle;\n",
       "    }\n",
       "\n",
       "    .dataframe tbody tr th {\n",
       "        vertical-align: top;\n",
       "    }\n",
       "\n",
       "    .dataframe thead th {\n",
       "        text-align: right;\n",
       "    }\n",
       "</style>\n",
       "<table border=\"1\" class=\"dataframe\">\n",
       "  <thead>\n",
       "    <tr style=\"text-align: right;\">\n",
       "      <th></th>\n",
       "      <th>percentage_correct</th>\n",
       "      <th>mean_perseverative_er</th>\n",
       "      <th>mean_regressive_er</th>\n",
       "      <th>median_till_correct</th>\n",
       "      <th>mean_till_correct</th>\n",
       "      <th>win_stay</th>\n",
       "      <th>lose_shift</th>\n",
       "      <th>timed_out</th>\n",
       "      <th>block_no</th>\n",
       "      <th>block_type</th>\n",
       "      <th>disgust_block</th>\n",
       "      <th>fear_block</th>\n",
       "      <th>points_block</th>\n",
       "      <th>participant_no</th>\n",
       "    </tr>\n",
       "  </thead>\n",
       "  <tbody>\n",
       "    <tr>\n",
       "      <th>0</th>\n",
       "      <td>0.704545</td>\n",
       "      <td>0.428571</td>\n",
       "      <td>2.428571</td>\n",
       "      <td>9.5</td>\n",
       "      <td>11.000000</td>\n",
       "      <td>0.822581</td>\n",
       "      <td>0.760000</td>\n",
       "      <td>0</td>\n",
       "      <td>2.0</td>\n",
       "      <td>Disgust</td>\n",
       "      <td>1</td>\n",
       "      <td>0</td>\n",
       "      <td>0</td>\n",
       "      <td>8.0</td>\n",
       "    </tr>\n",
       "    <tr>\n",
       "      <th>0</th>\n",
       "      <td>0.575000</td>\n",
       "      <td>0.600000</td>\n",
       "      <td>15.600000</td>\n",
       "      <td>30.5</td>\n",
       "      <td>33.333333</td>\n",
       "      <td>0.663158</td>\n",
       "      <td>0.557692</td>\n",
       "      <td>1</td>\n",
       "      <td>1.0</td>\n",
       "      <td>Fear</td>\n",
       "      <td>0</td>\n",
       "      <td>1</td>\n",
       "      <td>0</td>\n",
       "      <td>8.0</td>\n",
       "    </tr>\n",
       "    <tr>\n",
       "      <th>0</th>\n",
       "      <td>0.690909</td>\n",
       "      <td>0.142857</td>\n",
       "      <td>4.000000</td>\n",
       "      <td>13.0</td>\n",
       "      <td>13.750000</td>\n",
       "      <td>0.876923</td>\n",
       "      <td>0.772727</td>\n",
       "      <td>0</td>\n",
       "      <td>3.0</td>\n",
       "      <td>Points</td>\n",
       "      <td>0</td>\n",
       "      <td>0</td>\n",
       "      <td>1</td>\n",
       "      <td>8.0</td>\n",
       "    </tr>\n",
       "    <tr>\n",
       "      <th>0</th>\n",
       "      <td>0.662500</td>\n",
       "      <td>0.857143</td>\n",
       "      <td>2.285714</td>\n",
       "      <td>8.5</td>\n",
       "      <td>10.000000</td>\n",
       "      <td>0.931818</td>\n",
       "      <td>0.542857</td>\n",
       "      <td>0</td>\n",
       "      <td>1.0</td>\n",
       "      <td>Disgust</td>\n",
       "      <td>1</td>\n",
       "      <td>0</td>\n",
       "      <td>0</td>\n",
       "      <td>9.0</td>\n",
       "    </tr>\n",
       "    <tr>\n",
       "      <th>0</th>\n",
       "      <td>0.580000</td>\n",
       "      <td>1.428571</td>\n",
       "      <td>3.571429</td>\n",
       "      <td>8.0</td>\n",
       "      <td>12.500000</td>\n",
       "      <td>0.976744</td>\n",
       "      <td>0.553571</td>\n",
       "      <td>0</td>\n",
       "      <td>2.0</td>\n",
       "      <td>Fear</td>\n",
       "      <td>0</td>\n",
       "      <td>1</td>\n",
       "      <td>0</td>\n",
       "      <td>9.0</td>\n",
       "    </tr>\n",
       "    <tr>\n",
       "      <th>0</th>\n",
       "      <td>0.671233</td>\n",
       "      <td>0.285714</td>\n",
       "      <td>2.142857</td>\n",
       "      <td>6.5</td>\n",
       "      <td>9.125000</td>\n",
       "      <td>1.000000</td>\n",
       "      <td>0.655172</td>\n",
       "      <td>0</td>\n",
       "      <td>3.0</td>\n",
       "      <td>Points</td>\n",
       "      <td>0</td>\n",
       "      <td>0</td>\n",
       "      <td>1</td>\n",
       "      <td>9.0</td>\n",
       "    </tr>\n",
       "    <tr>\n",
       "      <th>0</th>\n",
       "      <td>0.455000</td>\n",
       "      <td>5.000000</td>\n",
       "      <td>49.000000</td>\n",
       "      <td>46.0</td>\n",
       "      <td>66.666667</td>\n",
       "      <td>0.478261</td>\n",
       "      <td>0.448598</td>\n",
       "      <td>1</td>\n",
       "      <td>3.0</td>\n",
       "      <td>Disgust</td>\n",
       "      <td>1</td>\n",
       "      <td>0</td>\n",
       "      <td>0</td>\n",
       "      <td>7.0</td>\n",
       "    </tr>\n",
       "    <tr>\n",
       "      <th>0</th>\n",
       "      <td>0.561728</td>\n",
       "      <td>0.571429</td>\n",
       "      <td>9.000000</td>\n",
       "      <td>19.5</td>\n",
       "      <td>20.250000</td>\n",
       "      <td>0.608696</td>\n",
       "      <td>0.507246</td>\n",
       "      <td>0</td>\n",
       "      <td>1.0</td>\n",
       "      <td>Fear</td>\n",
       "      <td>0</td>\n",
       "      <td>1</td>\n",
       "      <td>0</td>\n",
       "      <td>7.0</td>\n",
       "    </tr>\n",
       "    <tr>\n",
       "      <th>0</th>\n",
       "      <td>0.563953</td>\n",
       "      <td>1.857143</td>\n",
       "      <td>8.285714</td>\n",
       "      <td>21.0</td>\n",
       "      <td>21.500000</td>\n",
       "      <td>0.645161</td>\n",
       "      <td>0.525641</td>\n",
       "      <td>0</td>\n",
       "      <td>2.0</td>\n",
       "      <td>Points</td>\n",
       "      <td>0</td>\n",
       "      <td>0</td>\n",
       "      <td>1</td>\n",
       "      <td>7.0</td>\n",
       "    </tr>\n",
       "  </tbody>\n",
       "</table>\n",
       "</div>"
      ],
      "text/plain": [
       "   percentage_correct  mean_perseverative_er  mean_regressive_er  \\\n",
       "0            0.704545               0.428571            2.428571   \n",
       "0            0.575000               0.600000           15.600000   \n",
       "0            0.690909               0.142857            4.000000   \n",
       "0            0.662500               0.857143            2.285714   \n",
       "0            0.580000               1.428571            3.571429   \n",
       "0            0.671233               0.285714            2.142857   \n",
       "0            0.455000               5.000000           49.000000   \n",
       "0            0.561728               0.571429            9.000000   \n",
       "0            0.563953               1.857143            8.285714   \n",
       "\n",
       "   median_till_correct  mean_till_correct  win_stay  lose_shift  timed_out  \\\n",
       "0                  9.5          11.000000  0.822581    0.760000          0   \n",
       "0                 30.5          33.333333  0.663158    0.557692          1   \n",
       "0                 13.0          13.750000  0.876923    0.772727          0   \n",
       "0                  8.5          10.000000  0.931818    0.542857          0   \n",
       "0                  8.0          12.500000  0.976744    0.553571          0   \n",
       "0                  6.5           9.125000  1.000000    0.655172          0   \n",
       "0                 46.0          66.666667  0.478261    0.448598          1   \n",
       "0                 19.5          20.250000  0.608696    0.507246          0   \n",
       "0                 21.0          21.500000  0.645161    0.525641          0   \n",
       "\n",
       "   block_no block_type  disgust_block  fear_block  points_block  \\\n",
       "0       2.0    Disgust              1           0             0   \n",
       "0       1.0       Fear              0           1             0   \n",
       "0       3.0     Points              0           0             1   \n",
       "0       1.0    Disgust              1           0             0   \n",
       "0       2.0       Fear              0           1             0   \n",
       "0       3.0     Points              0           0             1   \n",
       "0       3.0    Disgust              1           0             0   \n",
       "0       1.0       Fear              0           1             0   \n",
       "0       2.0     Points              0           0             1   \n",
       "\n",
       "   participant_no  \n",
       "0             8.0  \n",
       "0             8.0  \n",
       "0             8.0  \n",
       "0             9.0  \n",
       "0             9.0  \n",
       "0             9.0  \n",
       "0             7.0  \n",
       "0             7.0  \n",
       "0             7.0  "
      ]
     },
     "execution_count": 9,
     "metadata": {},
     "output_type": "execute_result"
    }
   ],
   "source": [
    "#extract task outcomes - i.e., error types, error rates, win-stay/lose-shift\n",
    "task_summary=make_task_outcomes(complete_task_df.drop('index', axis=1))\n",
    "task_summary"
   ]
  },
  {
   "cell_type": "code",
   "execution_count": 17,
   "metadata": {},
   "outputs": [],
   "source": [
    "##combine demographics, video ratings and task performance into one dataframe\n",
    "dfs = [task_summary, dem_df, wide_ratings_df]\n",
    "dem_vids_task = reduce(lambda  left,right: pd.merge(left,right,on=['participant_no'],\n",
    "                                            how='outer'), dfs)"
   ]
  },
  {
   "cell_type": "markdown",
   "metadata": {},
   "source": [
    "SAVE OUT as CSVs"
   ]
  },
  {
   "cell_type": "code",
   "execution_count": 18,
   "metadata": {},
   "outputs": [],
   "source": [
    "chosen_stim_df.to_csv('csvs/chosen_stim_full.csv')\n",
    "ratings_df.to_csv('csvs/ratings_full.csv')\n",
    "complete_task_df.to_csv('csvs/complete_task_full.csv')\n",
    "dem_vids_task.to_csv('csvs/dem_vids_task_full.csv')"
   ]
  },
  {
   "cell_type": "code",
   "execution_count": 24,
   "metadata": {},
   "outputs": [
    {
     "data": {
      "text/plain": [
       "{7.0}"
      ]
     },
     "execution_count": 24,
     "metadata": {},
     "output_type": "execute_result"
    }
   ],
   "source": [
    "##remove excluded participants\n",
    "if [] in list(excluded_list):\n",
    "    excluded_list.remove([])\n",
    "excluded_list=(set(excluded_list))\n",
    "excluded_list"
   ]
  },
  {
   "cell_type": "code",
   "execution_count": 25,
   "metadata": {},
   "outputs": [],
   "source": [
    "##remove these participants\n",
    "excluded_chosen_stim=chosen_stim_df\n",
    "excluded_ratings=ratings_df\n",
    "excluded_complete_task=complete_task_df\n",
    "excluded_demographics=demographics\n",
    "excluded_dem_vids_task=dem_vids_task\n",
    "\n",
    "for participant in excluded_list:\n",
    "    excluded_chosen_stim=excluded_chosen_stim.loc[excluded_chosen_stim.participant_no!=participant]\n",
    "    excluded_ratings=excluded_ratings.loc[excluded_ratings.participant_no!=participant]\n",
    "    excluded_complete_task=excluded_complete_task.loc[excluded_complete_task.participant_no!=participant]\n",
    "    excluded_demographics=excluded_demographics.loc[excluded_demographics.participant_no!=participant]\n",
    "    excluded_dem_vids_task=excluded_dem_vids_task.loc[excluded_dem_vids_task.participant_no!=participant]\n",
    "\n",
    "excluded_chosen_stim.to_csv('csvs/chosen_stim_excluded.csv')\n",
    "excluded_ratings.to_csv('csvs/ratings_excluded.csv')\n",
    "excluded_complete_task.to_csv('csvs/complete_task_excluded.csv')\n",
    "excluded_demographics.to_csv('csvs/demographics_excluded.csv')\n",
    "excluded_dem_vids_task.to_csv('csvs/dem_vids_task_excluded.csv')"
   ]
  },
  {
   "cell_type": "markdown",
   "metadata": {},
   "source": [
    "GET DEMOGRAPHIC INFORMATION"
   ]
  },
  {
   "cell_type": "code",
   "execution_count": 14,
   "metadata": {},
   "outputs": [
    {
     "data": {
      "text/plain": [
       "np.float64(31.333333333333332)"
      ]
     },
     "execution_count": 14,
     "metadata": {},
     "output_type": "execute_result"
    }
   ],
   "source": [
    "np.mean(excluded_demographics.prolific_age)"
   ]
  },
  {
   "cell_type": "code",
   "execution_count": 15,
   "metadata": {},
   "outputs": [
    {
     "data": {
      "text/plain": [
       "prolific_sex\n",
       "Female    2\n",
       "Male      1\n",
       "Name: count, dtype: int64"
      ]
     },
     "execution_count": 15,
     "metadata": {},
     "output_type": "execute_result"
    }
   ],
   "source": [
    "excluded_demographics['prolific_sex'].value_counts(normalize=False)"
   ]
  }
 ],
 "metadata": {
  "interpreter": {
   "hash": "a19328ca44b954ed06e43a2e0ca9e2fb64feda7c5658a8f92922d9dadf68cb6c"
  },
  "kernelspec": {
   "display_name": "Python 3.11.5 64-bit ('anaconda3')",
   "language": "python",
   "name": "python3"
  },
  "language_info": {
   "codemirror_mode": {
    "name": "ipython",
    "version": 3
   },
   "file_extension": ".py",
   "mimetype": "text/x-python",
   "name": "python",
   "nbconvert_exporter": "python",
   "pygments_lexer": "ipython3",
   "version": "3.12.1"
  },
  "orig_nbformat": 4
 },
 "nbformat": 4,
 "nbformat_minor": 2
}
