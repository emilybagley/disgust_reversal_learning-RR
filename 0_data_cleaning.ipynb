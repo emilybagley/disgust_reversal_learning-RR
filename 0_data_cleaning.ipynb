{
 "cells": [
  {
   "cell_type": "markdown",
   "metadata": {},
   "source": [
    "<h3><b>CREATE DATA FRAMES.IPYNB</b><h3>\n",
    "<p>Creates dataframes with all data and without excluded participants<p>\n",
    "<p>outputs: chosen_stim, ratings, questionnaire_scores, questionnaire_complete, complete_task (having excluded faulty participants) <p>\n",
    "<br>\n",
    "<p>This script has been run using a subset of pilot data to confirm that it works</p>"
   ]
  },
  {
   "cell_type": "code",
   "execution_count": 43,
   "metadata": {},
   "outputs": [],
   "source": [
    "import numpy as np\n",
    "import pandas as pd\n",
    "import matplotlib.pyplot as plt\n",
    "import seaborn as sns\n",
    "import scipy.stats as stats\n",
    "import jsonlines\n",
    "from functools import reduce\n",
    "import statistics\n",
    "import math\n",
    "import os\n",
    "import json\n",
    "import ast\n",
    "import warnings\n",
    "pd.options.mode.copy_on_write = True\n",
    "pd.set_option('display.max_colwidth', None)\n",
    "pd.set_option('future.no_silent_downcasting', True)\n",
    "warnings.simplefilter(action='ignore', category=FutureWarning)\n",
    "\n",
    "#uses various functions\n",
    "from dataclean_func import *"
   ]
  },
  {
   "cell_type": "code",
   "execution_count": 44,
   "metadata": {},
   "outputs": [],
   "source": [
    "#load in dataframes\n",
    "    ##for example script: using a subset of pilot data to show how data cleaning works\n",
    "df = pd.read_csv(\"csvs/dummy_data.csv\", low_memory=False)\n",
    "demographics=pd.read_csv(\"csvs/dummy_demographic.csv\", low_memory=False)\n",
    "df.drop('Unnamed: 0', axis=\"columns\", inplace=True)\n",
    "demographics.drop('Unnamed: 0', axis=\"columns\", inplace=True)"
   ]
  },
  {
   "cell_type": "code",
   "execution_count": 45,
   "metadata": {},
   "outputs": [],
   "source": [
    "excluded_list=[] #create empty list of excluded participants"
   ]
  },
  {
   "cell_type": "markdown",
   "metadata": {},
   "source": [
    "DEMOGRAPHICS, DIGITSPAN AND DIAGNOSIS"
   ]
  },
  {
   "cell_type": "code",
   "execution_count": 46,
   "metadata": {},
   "outputs": [],
   "source": [
    "##check for people who's demographic info doesn't align\n",
    "demographics[demographics.aligns!=True].dropna() ##dropping those with missing data \n",
    "\n",
    "for i in list(demographics[demographics.aligns!=True].dropna().participant_no):\n",
    "    excluded_list.append(i)\n",
    "\n",
    "#digit span and diagnosis\n",
    "digit_span=make_digit_span(df)\n",
    "diagnosis=make_diagnosis(df)\n",
    "\n",
    "##exclude those with digit span of 0 \n",
    "for i in list(digit_span[digit_span.digit_span==0].participant_no):\n",
    "    excluded_list.append(i)\n",
    "\n",
    "dem_df=(diagnosis.merge(digit_span, on='participant_no')).merge(demographics, on='participant_no')"
   ]
  },
  {
   "cell_type": "markdown",
   "metadata": {},
   "source": [
    "TIME LIMIT"
   ]
  },
  {
   "cell_type": "code",
   "execution_count": 47,
   "metadata": {},
   "outputs": [
    {
     "data": {
      "text/html": [
       "<div>\n",
       "<style scoped>\n",
       "    .dataframe tbody tr th:only-of-type {\n",
       "        vertical-align: middle;\n",
       "    }\n",
       "\n",
       "    .dataframe tbody tr th {\n",
       "        vertical-align: top;\n",
       "    }\n",
       "\n",
       "    .dataframe thead th {\n",
       "        text-align: right;\n",
       "    }\n",
       "</style>\n",
       "<table border=\"1\" class=\"dataframe\">\n",
       "  <thead>\n",
       "    <tr style=\"text-align: right;\">\n",
       "      <th></th>\n",
       "      <th>prolific_age</th>\n",
       "      <th>prolific_sex</th>\n",
       "      <th>time taken</th>\n",
       "      <th>participant_no</th>\n",
       "      <th>self_report_gender</th>\n",
       "      <th>self_report_assigned-at-birth</th>\n",
       "      <th>self_report_age</th>\n",
       "      <th>aligns</th>\n",
       "    </tr>\n",
       "  </thead>\n",
       "  <tbody>\n",
       "  </tbody>\n",
       "</table>\n",
       "</div>"
      ],
      "text/plain": [
       "Empty DataFrame\n",
       "Columns: [prolific_age, prolific_sex, time taken, participant_no, self_report_gender, self_report_assigned-at-birth, self_report_age, aligns]\n",
       "Index: []"
      ]
     },
     "execution_count": 47,
     "metadata": {},
     "output_type": "execute_result"
    }
   ],
   "source": [
    "demographics[demographics['time taken']>120]"
   ]
  },
  {
   "cell_type": "code",
   "execution_count": 48,
   "metadata": {},
   "outputs": [
    {
     "data": {
      "text/plain": [
       "[]"
      ]
     },
     "execution_count": 48,
     "metadata": {},
     "output_type": "execute_result"
    }
   ],
   "source": [
    "#exclude those who took too long\n",
    "for i in list(demographics[demographics['time taken']>120].participant_no):\n",
    "    excluded_list.append(i)\n",
    "excluded_list"
   ]
  },
  {
   "cell_type": "markdown",
   "metadata": {},
   "source": [
    "VIDEO RATINGS"
   ]
  },
  {
   "cell_type": "code",
   "execution_count": 49,
   "metadata": {},
   "outputs": [],
   "source": [
    "#create video ratings dataframes\n",
    "total_participant=len(list(set(df.participant_no)))\n",
    "ratings_df=pd.DataFrame()\n",
    "chosen_stim_df=pd.DataFrame()\n",
    "points_rating_df=pd.DataFrame()\n",
    "for i in set(df.participant_no):     \n",
    "    ##vid_ratings(df, i, \"plot\")\n",
    "    vid_ratings_temp=vid_ratings(df, i, \"rating_vids\")\n",
    "    ratings_df=pd.concat([ratings_df, vid_ratings_temp])\n",
    "    chosen_stim_temp=vid_ratings(df, i, \"chosen_stim\")\n",
    "    chosen_stim_df=pd.concat([chosen_stim_df, chosen_stim_temp])\n",
    "    \n",
    "    ###NB WILL NEED TO ALTER LINE 124 ONCE HAVE ACTUAL POINTS RATINGS###\n",
    "        #this is new to the full study - without these ratings in the pilot data\n",
    "    points_rating_temp=vid_ratings(df, i, \"points_rating\") \n",
    "    points_rating_df=pd.concat([points_rating_df, points_rating_temp])\n",
    "\n",
    "chosen_stim_df=pd.concat([chosen_stim_df, points_rating_df])\n",
    "chosen_stim_df=chosen_stim_df.fillna(0).sort_values(by='participant_no').reset_index().drop('index',axis=1)#"
   ]
  },
  {
   "cell_type": "code",
   "execution_count": 50,
   "metadata": {},
   "outputs": [
    {
     "data": {
      "text/plain": [
       "[]"
      ]
     },
     "execution_count": 50,
     "metadata": {},
     "output_type": "execute_result"
    }
   ],
   "source": [
    "##exclude any with 0 for a rating of interest\n",
    "disgust_stim_check=chosen_stim_df[chosen_stim_df.trial_type==\"disgust\"]\n",
    "fear_stim_check=chosen_stim_df[chosen_stim_df.trial_type==\"fear\"]\n",
    "exclude=[]\n",
    "for i in set(chosen_stim_df.participant_no):\n",
    "    participant_disgust=disgust_stim_check[disgust_stim_check.participant_no==i].reset_index()\n",
    "    if participant_disgust.disgusting_2[0]==0: ##ONLY 2 RATINGS\n",
    "        exclude.append(i)\n",
    "\n",
    "    participant_fear=fear_stim_check[fear_stim_check.participant_no==i].reset_index()\n",
    "    if participant_fear.frightening_2[0]==0:\n",
    "        exclude.append(i)\n",
    "\n",
    "#exclude ones with a zero\n",
    "for i in list(exclude):\n",
    "    excluded_list.append(i)\n",
    "excluded_list"
   ]
  },
  {
   "cell_type": "code",
   "execution_count": 51,
   "metadata": {},
   "outputs": [],
   "source": [
    "#combine with demographic information\n",
    "chosen_stim_df=pd.merge(chosen_stim_df, dem_df, on='participant_no', how='outer')"
   ]
  },
  {
   "cell_type": "markdown",
   "metadata": {},
   "source": [
    "BEHAVIOURAL TASK"
   ]
  },
  {
   "cell_type": "code",
   "execution_count": 52,
   "metadata": {},
   "outputs": [],
   "source": [
    "##create dataframe with all task information\n",
    "complete_task_df=create_task_df(df, \"no plot\")"
   ]
  },
  {
   "cell_type": "code",
   "execution_count": 54,
   "metadata": {},
   "outputs": [
    {
     "data": {
      "text/plain": [
       "[]"
      ]
     },
     "execution_count": 54,
     "metadata": {},
     "output_type": "execute_result"
    }
   ],
   "source": [
    "#exclusions on the basis of this dataframe\n",
    "task_understood=make_task_understood(df, complete_task_df, \"no plot\")\n",
    "#task_understood[task_understood.task_understood==\"No\"]\n",
    "\n",
    "for i in list(task_understood[task_understood.task_understood==\"No\"].participant_no):\n",
    "    excluded_list.append(i)\n",
    "excluded_list"
   ]
  },
  {
   "cell_type": "code",
   "execution_count": 55,
   "metadata": {},
   "outputs": [
    {
     "data": {
      "text/html": [
       "<div>\n",
       "<style scoped>\n",
       "    .dataframe tbody tr th:only-of-type {\n",
       "        vertical-align: middle;\n",
       "    }\n",
       "\n",
       "    .dataframe tbody tr th {\n",
       "        vertical-align: top;\n",
       "    }\n",
       "\n",
       "    .dataframe thead th {\n",
       "        text-align: right;\n",
       "    }\n",
       "</style>\n",
       "<table border=\"1\" class=\"dataframe\">\n",
       "  <thead>\n",
       "    <tr style=\"text-align: right;\">\n",
       "      <th></th>\n",
       "      <th>percentage_correct</th>\n",
       "      <th>mean_perseverative_er</th>\n",
       "      <th>mean_regressive_er</th>\n",
       "      <th>median_till_correct</th>\n",
       "      <th>mean_till_correct</th>\n",
       "      <th>win_stay</th>\n",
       "      <th>lose_shift</th>\n",
       "      <th>timed_out</th>\n",
       "      <th>block_no</th>\n",
       "      <th>block_type</th>\n",
       "      <th>disgust_block</th>\n",
       "      <th>fear_block</th>\n",
       "      <th>points_block</th>\n",
       "      <th>participant_no</th>\n",
       "      <th>fractals</th>\n",
       "    </tr>\n",
       "  </thead>\n",
       "  <tbody>\n",
       "    <tr>\n",
       "      <th>0</th>\n",
       "      <td>0.485000</td>\n",
       "      <td>2.400000</td>\n",
       "      <td>17.200000</td>\n",
       "      <td>11.5</td>\n",
       "      <td>33.333333</td>\n",
       "      <td>0.689320</td>\n",
       "      <td>0.447917</td>\n",
       "      <td>1</td>\n",
       "      <td>1.0</td>\n",
       "      <td>Disgust</td>\n",
       "      <td>1</td>\n",
       "      <td>0</td>\n",
       "      <td>0</td>\n",
       "      <td>8.0</td>\n",
       "      <td>['F014', 'F020']</td>\n",
       "    </tr>\n",
       "    <tr>\n",
       "      <th>0</th>\n",
       "      <td>0.465000</td>\n",
       "      <td>7.000000</td>\n",
       "      <td>45.000000</td>\n",
       "      <td>52.0</td>\n",
       "      <td>66.666667</td>\n",
       "      <td>0.526316</td>\n",
       "      <td>0.490385</td>\n",
       "      <td>1</td>\n",
       "      <td>3.0</td>\n",
       "      <td>Fear</td>\n",
       "      <td>0</td>\n",
       "      <td>1</td>\n",
       "      <td>0</td>\n",
       "      <td>8.0</td>\n",
       "      <td>['F009', 'F012']</td>\n",
       "    </tr>\n",
       "    <tr>\n",
       "      <th>0</th>\n",
       "      <td>0.565000</td>\n",
       "      <td>0.500000</td>\n",
       "      <td>13.666667</td>\n",
       "      <td>11.0</td>\n",
       "      <td>28.571429</td>\n",
       "      <td>0.542857</td>\n",
       "      <td>0.553191</td>\n",
       "      <td>1</td>\n",
       "      <td>2.0</td>\n",
       "      <td>Points</td>\n",
       "      <td>0</td>\n",
       "      <td>0</td>\n",
       "      <td>1</td>\n",
       "      <td>8.0</td>\n",
       "      <td>['F010', 'F018']</td>\n",
       "    </tr>\n",
       "    <tr>\n",
       "      <th>0</th>\n",
       "      <td>0.525000</td>\n",
       "      <td>2.285714</td>\n",
       "      <td>10.571429</td>\n",
       "      <td>16.5</td>\n",
       "      <td>25.000000</td>\n",
       "      <td>0.626168</td>\n",
       "      <td>0.695652</td>\n",
       "      <td>1</td>\n",
       "      <td>2.0</td>\n",
       "      <td>Disgust</td>\n",
       "      <td>1</td>\n",
       "      <td>0</td>\n",
       "      <td>0</td>\n",
       "      <td>9.0</td>\n",
       "      <td>['F010', 'F020']</td>\n",
       "    </tr>\n",
       "    <tr>\n",
       "      <th>0</th>\n",
       "      <td>0.507538</td>\n",
       "      <td>0.857143</td>\n",
       "      <td>12.285714</td>\n",
       "      <td>15.0</td>\n",
       "      <td>24.875000</td>\n",
       "      <td>0.677083</td>\n",
       "      <td>0.686275</td>\n",
       "      <td>0</td>\n",
       "      <td>1.0</td>\n",
       "      <td>Fear</td>\n",
       "      <td>0</td>\n",
       "      <td>1</td>\n",
       "      <td>0</td>\n",
       "      <td>9.0</td>\n",
       "      <td>['F012', 'F015']</td>\n",
       "    </tr>\n",
       "    <tr>\n",
       "      <th>0</th>\n",
       "      <td>0.445000</td>\n",
       "      <td>2.000000</td>\n",
       "      <td>24.750000</td>\n",
       "      <td>23.0</td>\n",
       "      <td>40.000000</td>\n",
       "      <td>0.693182</td>\n",
       "      <td>0.567568</td>\n",
       "      <td>1</td>\n",
       "      <td>3.0</td>\n",
       "      <td>Points</td>\n",
       "      <td>0</td>\n",
       "      <td>0</td>\n",
       "      <td>1</td>\n",
       "      <td>9.0</td>\n",
       "      <td>['F009', 'F018']</td>\n",
       "    </tr>\n",
       "    <tr>\n",
       "      <th>0</th>\n",
       "      <td>0.784810</td>\n",
       "      <td>0.714286</td>\n",
       "      <td>1.000000</td>\n",
       "      <td>9.0</td>\n",
       "      <td>9.875000</td>\n",
       "      <td>0.924528</td>\n",
       "      <td>0.520000</td>\n",
       "      <td>0</td>\n",
       "      <td>2.0</td>\n",
       "      <td>Disgust</td>\n",
       "      <td>1</td>\n",
       "      <td>0</td>\n",
       "      <td>0</td>\n",
       "      <td>7.0</td>\n",
       "      <td>['F000', 'F020']</td>\n",
       "    </tr>\n",
       "    <tr>\n",
       "      <th>0</th>\n",
       "      <td>0.729927</td>\n",
       "      <td>0.000000</td>\n",
       "      <td>4.714286</td>\n",
       "      <td>13.0</td>\n",
       "      <td>17.125000</td>\n",
       "      <td>0.875000</td>\n",
       "      <td>0.729167</td>\n",
       "      <td>0</td>\n",
       "      <td>1.0</td>\n",
       "      <td>Fear</td>\n",
       "      <td>0</td>\n",
       "      <td>1</td>\n",
       "      <td>0</td>\n",
       "      <td>7.0</td>\n",
       "      <td>['F012', 'F014']</td>\n",
       "    </tr>\n",
       "    <tr>\n",
       "      <th>0</th>\n",
       "      <td>0.617450</td>\n",
       "      <td>1.142857</td>\n",
       "      <td>6.000000</td>\n",
       "      <td>12.0</td>\n",
       "      <td>18.625000</td>\n",
       "      <td>0.896552</td>\n",
       "      <td>0.540984</td>\n",
       "      <td>0</td>\n",
       "      <td>3.0</td>\n",
       "      <td>Points</td>\n",
       "      <td>0</td>\n",
       "      <td>0</td>\n",
       "      <td>1</td>\n",
       "      <td>7.0</td>\n",
       "      <td>['F015', 'F018']</td>\n",
       "    </tr>\n",
       "  </tbody>\n",
       "</table>\n",
       "</div>"
      ],
      "text/plain": [
       "   percentage_correct  mean_perseverative_er  mean_regressive_er  \\\n",
       "0            0.485000               2.400000           17.200000   \n",
       "0            0.465000               7.000000           45.000000   \n",
       "0            0.565000               0.500000           13.666667   \n",
       "0            0.525000               2.285714           10.571429   \n",
       "0            0.507538               0.857143           12.285714   \n",
       "0            0.445000               2.000000           24.750000   \n",
       "0            0.784810               0.714286            1.000000   \n",
       "0            0.729927               0.000000            4.714286   \n",
       "0            0.617450               1.142857            6.000000   \n",
       "\n",
       "   median_till_correct  mean_till_correct  win_stay  lose_shift  timed_out  \\\n",
       "0                 11.5          33.333333  0.689320    0.447917          1   \n",
       "0                 52.0          66.666667  0.526316    0.490385          1   \n",
       "0                 11.0          28.571429  0.542857    0.553191          1   \n",
       "0                 16.5          25.000000  0.626168    0.695652          1   \n",
       "0                 15.0          24.875000  0.677083    0.686275          0   \n",
       "0                 23.0          40.000000  0.693182    0.567568          1   \n",
       "0                  9.0           9.875000  0.924528    0.520000          0   \n",
       "0                 13.0          17.125000  0.875000    0.729167          0   \n",
       "0                 12.0          18.625000  0.896552    0.540984          0   \n",
       "\n",
       "   block_no block_type  disgust_block  fear_block  points_block  \\\n",
       "0       1.0    Disgust              1           0             0   \n",
       "0       3.0       Fear              0           1             0   \n",
       "0       2.0     Points              0           0             1   \n",
       "0       2.0    Disgust              1           0             0   \n",
       "0       1.0       Fear              0           1             0   \n",
       "0       3.0     Points              0           0             1   \n",
       "0       2.0    Disgust              1           0             0   \n",
       "0       1.0       Fear              0           1             0   \n",
       "0       3.0     Points              0           0             1   \n",
       "\n",
       "   participant_no          fractals  \n",
       "0             8.0  ['F014', 'F020']  \n",
       "0             8.0  ['F009', 'F012']  \n",
       "0             8.0  ['F010', 'F018']  \n",
       "0             9.0  ['F010', 'F020']  \n",
       "0             9.0  ['F012', 'F015']  \n",
       "0             9.0  ['F009', 'F018']  \n",
       "0             7.0  ['F000', 'F020']  \n",
       "0             7.0  ['F012', 'F014']  \n",
       "0             7.0  ['F015', 'F018']  "
      ]
     },
     "execution_count": 55,
     "metadata": {},
     "output_type": "execute_result"
    }
   ],
   "source": [
    "#extract task outcomes - i.e., error types, error rates, win-stay/lose-shift\n",
    "task_summary=make_task_outcomes(complete_task_df.drop('index', axis=1))\n",
    "task_summary"
   ]
  },
  {
   "cell_type": "markdown",
   "metadata": {},
   "source": [
    "Add relevant video rating outcomes and demographic info to this 'task_summary' df - for hypothesis testing"
   ]
  },
  {
   "cell_type": "code",
   "execution_count": 56,
   "metadata": {},
   "outputs": [],
   "source": [
    "##adding video information to task dataframe (for hypothesis testing)\n",
    "stim_ratings_covariates=pd.DataFrame()\n",
    "block_feedback=pd.DataFrame()\n",
    "for participant_no in set(chosen_stim_df.participant_no):\n",
    "    participant_df=chosen_stim_df[chosen_stim_df.participant_no==participant_no]\n",
    "    disgust=participant_df[participant_df.trial_type==\"disgust\"]\n",
    "    fear=participant_df[participant_df.trial_type==\"fear\"]\n",
    "    valence_diff=int(fear.unpleasant_1)-int(disgust.unpleasant_1)\n",
    "    arousal_diff=int(fear.arousing_1)-int(disgust.arousing_1)\n",
    "\n",
    "    valence_habdiff=(int(fear.unpleasant_1)-int(fear.unpleasant_2))-(int(disgust.unpleasant_1)-int(disgust.unpleasant_2))\n",
    "    arousal_habdiff=(int(fear.arousing_1)-int(fear.arousing_2))-(int(disgust.arousing_1)-int(disgust.arousing_2))\n",
    "    \n",
    "    row=pd.DataFrame({\n",
    "        'participant_no': [participant_no],\n",
    "        'valence_diff': [valence_diff],\n",
    "        'arousal_diff': [arousal_diff],\n",
    "        'valence_habdiff': [valence_habdiff],\n",
    "        'arousal_habdiff': [arousal_habdiff],\n",
    "    })\n",
    "    stim_ratings_covariates=pd.concat([stim_ratings_covariates, row])\n",
    "\n",
    "    block_feedback_row=pd.DataFrame({\n",
    "        'participant_no': [participant_no, participant_no, participant_no],\n",
    "        'block_type': ['Fear', 'Disgust', 'Points'],\n",
    "        'feedback_details': [fear['Vid'].iloc[-1], disgust['Vid'].iloc[-1], 'Lose 10 Points']\n",
    "        #'disgust_vid': [disgust['Vid'].iloc[-1]],\n",
    "        #'fear_vid': [fear['Vid'].iloc[-1]],\n",
    "        #'points_feedback': 'Lose 10 Points'\n",
    "    })\n",
    "    block_feedback=pd.concat([block_feedback, block_feedback_row])"
   ]
  },
  {
   "cell_type": "code",
   "execution_count": 57,
   "metadata": {},
   "outputs": [],
   "source": [
    "##combine demographics, video ratings and task performance into one dataframe\n",
    "task_and_ratings_summary=pd.merge(task_summary, stim_ratings_covariates, on='participant_no', how='outer')\n",
    "task_and_ratings_summary=pd.merge(task_and_ratings_summary, block_feedback, on=['participant_no', 'block_type'], how='outer')\n",
    "dfs = [task_and_ratings_summary, dem_df]\n",
    "dem_vids_task = reduce(lambda  left,right: pd.merge(left,right,on=['participant_no'],\n",
    "                                            how='outer'), dfs)"
   ]
  },
  {
   "cell_type": "markdown",
   "metadata": {},
   "source": [
    "SAVE OUT as CSVs"
   ]
  },
  {
   "cell_type": "code",
   "execution_count": 58,
   "metadata": {},
   "outputs": [
    {
     "data": {
      "text/plain": [
       "set()"
      ]
     },
     "execution_count": 58,
     "metadata": {},
     "output_type": "execute_result"
    }
   ],
   "source": [
    "##remove excluded participants\n",
    "if [] in list(excluded_list):\n",
    "    excluded_list.remove([])\n",
    "excluded_list=(set(excluded_list))\n",
    "excluded_list"
   ]
  },
  {
   "cell_type": "code",
   "execution_count": 59,
   "metadata": {},
   "outputs": [],
   "source": [
    "##remove these participants and save out as csvs\n",
    "excluded_chosen_stim=chosen_stim_df\n",
    "excluded_ratings=ratings_df\n",
    "excluded_complete_task=complete_task_df\n",
    "excluded_demographics=demographics\n",
    "excluded_dem_vids_task=dem_vids_task\n",
    "\n",
    "for participant in excluded_list:\n",
    "    excluded_chosen_stim=excluded_chosen_stim.loc[excluded_chosen_stim.participant_no!=participant]\n",
    "    excluded_ratings=excluded_ratings.loc[excluded_ratings.participant_no!=participant]\n",
    "    excluded_complete_task=excluded_complete_task.loc[excluded_complete_task.participant_no!=participant]\n",
    "    excluded_demographics=excluded_demographics.loc[excluded_demographics.participant_no!=participant]\n",
    "    excluded_dem_vids_task=excluded_dem_vids_task.loc[excluded_dem_vids_task.participant_no!=participant]\n",
    "\n",
    "#excluded_chosen_stim.to_csv('csvs/chosen_stim_excluded.csv')\n",
    "#excluded_ratings.to_csv('csvs/ratings_excluded.csv')\n",
    "#excluded_complete_task.to_csv('csvs/complete_task_excluded.csv')\n",
    "#excluded_demographics.to_csv('csvs/demographics_excluded.csv')\n",
    "#excluded_dem_vids_task.to_csv('csvs/dem_vids_task_excluded.csv')"
   ]
  },
  {
   "cell_type": "markdown",
   "metadata": {},
   "source": [
    "<p><b>GET DEMOGRAPHIC INFORMATION</b></p>\n",
    "<p>e.g., for summary in results section</p>"
   ]
  },
  {
   "cell_type": "code",
   "execution_count": 60,
   "metadata": {},
   "outputs": [
    {
     "data": {
      "text/plain": [
       "40.333333333333336"
      ]
     },
     "execution_count": 60,
     "metadata": {},
     "output_type": "execute_result"
    }
   ],
   "source": [
    "np.mean(excluded_demographics.prolific_age)"
   ]
  },
  {
   "cell_type": "code",
   "execution_count": 61,
   "metadata": {},
   "outputs": [
    {
     "data": {
      "text/plain": [
       "prolific_sex\n",
       "Female    2\n",
       "Male      1\n",
       "Name: count, dtype: int64"
      ]
     },
     "execution_count": 61,
     "metadata": {},
     "output_type": "execute_result"
    }
   ],
   "source": [
    "excluded_demographics['prolific_sex'].value_counts(normalize=False)"
   ]
  }
 ],
 "metadata": {
  "interpreter": {
   "hash": "a19328ca44b954ed06e43a2e0ca9e2fb64feda7c5658a8f92922d9dadf68cb6c"
  },
  "kernelspec": {
   "display_name": "Python 3.11.5 64-bit ('anaconda3')",
   "language": "python",
   "name": "python3"
  },
  "language_info": {
   "codemirror_mode": {
    "name": "ipython",
    "version": 3
   },
   "file_extension": ".py",
   "mimetype": "text/x-python",
   "name": "python",
   "nbconvert_exporter": "python",
   "pygments_lexer": "ipython3",
   "version": "3.12.1"
  },
  "orig_nbformat": 4
 },
 "nbformat": 4,
 "nbformat_minor": 2
}
