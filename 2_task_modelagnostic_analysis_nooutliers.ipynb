{
 "cells": [
  {
   "cell_type": "markdown",
   "metadata": {},
   "source": [
    "<h2><b>Main task analysis - excluding outliers</b></h2>\n",
    "<p>Takes the summary table from the task analysis and tests H1a - <b>regressive errors are reduced and perseverative errors are increased in disgust learning</b></p>\n",
    "<p>Exactly the same as the analyses done before but excluding outliers this time </p>\n",
    "<p> Includes:</p>\n",
    "<li>Hypothesis testing\n",
    "<li>Model assumption tests \n",
    "<li>Adding covariates\n",
    "<li>Adding video rating scores\n",
    "<li>Bayesian t-tests to assess strength of any null findings\n",
    "<li>Follow-up, win-stay/lose-shift analyses\n",
    "<br>\n",
    "<p>NB this current version is run on fake data - randomly generated so won't see any expected effects"
   ]
  },
  {
   "cell_type": "code",
   "execution_count": 90,
   "metadata": {},
   "outputs": [],
   "source": [
    "import numpy as np\n",
    "import pandas as pd\n",
    "import matplotlib.pyplot as plt\n",
    "import seaborn as sns\n",
    "import scipy.stats as stats\n",
    "import jsonlines\n",
    "from functools import reduce\n",
    "import statistics\n",
    "import scipy.stats\n",
    "import seaborn as sns\n",
    "import math\n",
    "import os\n",
    "import json\n",
    "import ast\n",
    "import statsmodels.api as sm\n",
    "import statsmodels.formula.api as smf\n",
    "import pingouin as pg\n",
    "import warnings\n",
    "from scipy.stats import ttest_rel\n",
    "#from statannotations.Annotator import Annotator\n",
    "from scipy.stats import skew\n",
    "from statsmodels.stats.diagnostic import het_white\n",
    "from sklearn.preprocessing import PowerTransformer\n",
    "import statannot\n",
    "from scipy.stats import ttest_ind\n",
    "import itertools\n",
    "\n",
    "from dataclean_func import *\n",
    "warnings.simplefilter(action='ignore', category=FutureWarning)\n",
    "pd.options.mode.copy_on_write = True"
   ]
  },
  {
   "cell_type": "code",
   "execution_count": 91,
   "metadata": {},
   "outputs": [],
   "source": [
    "task_summary=pd.read_csv('csvs/task_summary_dummy.csv')\n",
    "#df.drop(['Unnamed: 0', 'index'], axis=\"columns\", inplace=True)"
   ]
  },
  {
   "cell_type": "markdown",
   "metadata": {},
   "source": [
    "<h3><b>Exclude outliers from the dataframe</b></h3>\n",
    "<p>Outliers defined as >1.5 IQR below LQ or above UQ"
   ]
  },
  {
   "cell_type": "code",
   "execution_count": 92,
   "metadata": {},
   "outputs": [
    {
     "data": {
      "text/html": [
       "<div>\n",
       "<style scoped>\n",
       "    .dataframe tbody tr th:only-of-type {\n",
       "        vertical-align: middle;\n",
       "    }\n",
       "\n",
       "    .dataframe tbody tr th {\n",
       "        vertical-align: top;\n",
       "    }\n",
       "\n",
       "    .dataframe thead th {\n",
       "        text-align: right;\n",
       "    }\n",
       "</style>\n",
       "<table border=\"1\" class=\"dataframe\">\n",
       "  <thead>\n",
       "    <tr style=\"text-align: right;\">\n",
       "      <th></th>\n",
       "      <th>Unnamed: 0</th>\n",
       "      <th>percentage_correct</th>\n",
       "      <th>mean_perseverative_er</th>\n",
       "      <th>mean_regressive_er</th>\n",
       "      <th>win_stay</th>\n",
       "      <th>lose_shift</th>\n",
       "      <th>block_no</th>\n",
       "      <th>block_type</th>\n",
       "      <th>disgust_block</th>\n",
       "      <th>fear_block</th>\n",
       "      <th>points_block</th>\n",
       "      <th>participant_no</th>\n",
       "      <th>prolific_age</th>\n",
       "      <th>prolific_sex</th>\n",
       "      <th>digit_span</th>\n",
       "    </tr>\n",
       "  </thead>\n",
       "  <tbody>\n",
       "    <tr>\n",
       "      <th>25</th>\n",
       "      <td>25</td>\n",
       "      <td>0.684696</td>\n",
       "      <td>7.625754</td>\n",
       "      <td>NaN</td>\n",
       "      <td>9.265103</td>\n",
       "      <td>7.904819</td>\n",
       "      <td>2.0</td>\n",
       "      <td>Fear</td>\n",
       "      <td>0</td>\n",
       "      <td>1</td>\n",
       "      <td>0</td>\n",
       "      <td>9.0</td>\n",
       "      <td>25</td>\n",
       "      <td>Male</td>\n",
       "      <td>1</td>\n",
       "    </tr>\n",
       "  </tbody>\n",
       "</table>\n",
       "</div>"
      ],
      "text/plain": [
       "    Unnamed: 0  percentage_correct  mean_perseverative_er  mean_regressive_er  \\\n",
       "25          25            0.684696               7.625754                 NaN   \n",
       "\n",
       "    win_stay  lose_shift  block_no block_type  disgust_block  fear_block  \\\n",
       "25  9.265103    7.904819       2.0       Fear              0           1   \n",
       "\n",
       "    points_block  participant_no  prolific_age prolific_sex  digit_span  \n",
       "25             0             9.0            25         Male           1  "
      ]
     },
     "execution_count": 92,
     "metadata": {},
     "output_type": "execute_result"
    }
   ],
   "source": [
    "#create outliers df --> removing those >1.5 IQRs above or below UQ and LQ\n",
    "for col in task_summary.select_dtypes(include=np.number).columns:\n",
    "    task_summary=replace_outliers_with_nan(task_summary, col)\n",
    "\n",
    "#check for outliers - this dataframe only has one outlier in the mean regressive error outcome\n",
    "task_summary[task_summary.isna().any(axis=1)]"
   ]
  },
  {
   "cell_type": "markdown",
   "metadata": {},
   "source": [
    "<h3><b>Main hypothesis test</b></h3>\n",
    "<p>Testing whether there are differences in perseverative and regressive errors across block type </p>\n",
    "<p>Models to run: </p>\n",
    "<li> 1) 'mean_perseverative_er ~ block_type + age + sex + digit span'\n",
    "<li> 2) 'mean_regressive_er ~ block_type + age + sex + digit_span'"
   ]
  },
  {
   "cell_type": "markdown",
   "metadata": {},
   "source": [
    "<b> MODEL 1: PERSEVERATIVE ERRORS </b>"
   ]
  },
  {
   "cell_type": "markdown",
   "metadata": {},
   "source": [
    "Firstly - check the outcome for skewness"
   ]
  },
  {
   "cell_type": "code",
   "execution_count": 93,
   "metadata": {},
   "outputs": [
    {
     "name": "stdout",
     "output_type": "stream",
     "text": [
      "Perseverative error skew: -0.24465583278566425\n"
     ]
    },
    {
     "data": {
      "image/png": "[encoded data removed]",
      "text/plain": [
       "<Figure size 640x480 with 1 Axes>"
      ]
     },
     "metadata": {},
     "output_type": "display_data"
    }
   ],
   "source": [
    "sns.histplot(data=task_summary, x=\"mean_perseverative_er\") \n",
    "print('Perseverative error skew: '+str(skew(task_summary.mean_perseverative_er)))\n",
    "#if skew isn't greater than 0.5 or less than -0.5 then nothing needs to be done\n",
    "    #for an example of a skewed outcome (and what we would do) see regressive errors section"
   ]
  },
  {
   "cell_type": "markdown",
   "metadata": {},
   "source": [
    "Now run the initial hypothesis testing model"
   ]
  },
  {
   "cell_type": "code",
   "execution_count": 94,
   "metadata": {},
   "outputs": [
    {
     "name": "stdout",
     "output_type": "stream",
     "text": [
      "               Mixed Linear Model Regression Results\n",
      "===================================================================\n",
      "Model:            MixedLM Dependent Variable: mean_perseverative_er\n",
      "No. Observations: 42      Method:             REML                 \n",
      "No. Groups:       14      Scale:              6.7159               \n",
      "Min. group size:  3       Log-Likelihood:     -99.6841             \n",
      "Max. group size:  3       Converged:          Yes                  \n",
      "Mean group size:  3.0                                              \n",
      "-------------------------------------------------------------------\n",
      "                         Coef.  Std.Err.   z    P>|z| [0.025 0.975]\n",
      "-------------------------------------------------------------------\n",
      "Intercept                 6.848    1.685  4.064 0.000  3.545 10.151\n",
      "prolific_sex[T.Male]      0.831    0.967  0.859 0.390 -1.064  2.725\n",
      "block_type                0.060    0.490  0.122 0.903 -0.900  1.020\n",
      "prolific_age             -0.009    0.040 -0.226 0.821 -0.087  0.069\n",
      "digit_span               -0.235    0.172 -1.368 0.171 -0.572  0.102\n",
      "Group Var                 0.132    0.479                           \n",
      "===================================================================\n",
      "\n"
     ]
    }
   ],
   "source": [
    "data=task_summary.reset_index()\n",
    "data=data.replace(['Disgust', 'Fear', 'Points'], [1.0,2.0,3.0])\n",
    "formula = 'mean_perseverative_er ~ block_type+prolific_age+prolific_sex+digit_span'\n",
    "md=smf.mixedlm(formula, data, groups=data['participant_no'], missing='drop')\n",
    "results1 = md.fit()\n",
    "print(results1.summary())"
   ]
  },
  {
   "cell_type": "markdown",
   "metadata": {},
   "source": [
    "If covariates (age, sex, working memory) are not significant, remove them from the analysis in order to maximise power."
   ]
  },
  {
   "cell_type": "code",
   "execution_count": 95,
   "metadata": {},
   "outputs": [
    {
     "name": "stdout",
     "output_type": "stream",
     "text": [
      "               Mixed Linear Model Regression Results\n",
      "===================================================================\n",
      "Model:            MixedLM Dependent Variable: mean_perseverative_er\n",
      "No. Observations: 42      Method:             REML                 \n",
      "No. Groups:       14      Scale:              6.6533               \n",
      "Min. group size:  3       Log-Likelihood:     -97.3847             \n",
      "Max. group size:  3       Converged:          Yes                  \n",
      "Mean group size:  3.0                                              \n",
      "-------------------------------------------------------------------\n",
      "                         Coef.  Std.Err.   z    P>|z| [0.025 0.975]\n",
      "-------------------------------------------------------------------\n",
      "Intercept                 6.592    1.229  5.363 0.000  4.183  9.001\n",
      "prolific_sex[T.Male]      0.753    0.874  0.862 0.389 -0.959  2.465\n",
      "block_type                0.060    0.487  0.122 0.903 -0.896  1.015\n",
      "digit_span               -0.242    0.164 -1.480 0.139 -0.563  0.079\n",
      "Group Var                 0.000    0.445                           \n",
      "===================================================================\n",
      "\n"
     ]
    },
    {
     "name": "stderr",
     "output_type": "stream",
     "text": [
      "C:\\Users\\eb08\\AppData\\Local\\Programs\\Python\\Python312\\Lib\\site-packages\\statsmodels\\regression\\mixed_linear_model.py:2237: ConvergenceWarning: The MLE may be on the boundary of the parameter space.\n",
      "  warnings.warn(msg, ConvergenceWarning)\n"
     ]
    }
   ],
   "source": [
    "#e.g., if only working memory and sex have significant effects, remove age as a covariate\n",
    "data=task_summary.reset_index()\n",
    "data=data.replace(['Disgust', 'Fear', 'Points'], [1.0,2.0,3.0])\n",
    "formula = 'mean_perseverative_er ~ block_type+prolific_sex+digit_span'\n",
    "md=smf.mixedlm(formula, data, groups=data['participant_no'], missing='drop')\n",
    "results2 = md.fit()\n",
    "print(results2.summary())"
   ]
  },
  {
   "cell_type": "markdown",
   "metadata": {},
   "source": [
    "Will (regardless of outcome) also report on the model without covariates - for completion"
   ]
  },
  {
   "cell_type": "code",
   "execution_count": 96,
   "metadata": {},
   "outputs": [
    {
     "name": "stdout",
     "output_type": "stream",
     "text": [
      "               Mixed Linear Model Regression Results\n",
      "===================================================================\n",
      "Model:            MixedLM Dependent Variable: mean_perseverative_er\n",
      "No. Observations: 42      Method:             REML                 \n",
      "No. Groups:       14      Scale:              6.7006               \n",
      "Min. group size:  3       Log-Likelihood:     -98.3364             \n",
      "Max. group size:  3       Converged:          Yes                  \n",
      "Mean group size:  3.0                                              \n",
      "----------------------------------------------------------------------\n",
      "               Coef.    Std.Err.      z      P>|z|    [0.025    0.975]\n",
      "----------------------------------------------------------------------\n",
      "Intercept      6.088       1.057    5.761    0.000     4.017     8.159\n",
      "block_type     0.060       0.489    0.122    0.903    -0.899     1.018\n",
      "Group Var      0.000       0.414                                      \n",
      "===================================================================\n",
      "\n"
     ]
    },
    {
     "name": "stderr",
     "output_type": "stream",
     "text": [
      "C:\\Users\\eb08\\AppData\\Local\\Programs\\Python\\Python312\\Lib\\site-packages\\statsmodels\\regression\\mixed_linear_model.py:2237: ConvergenceWarning: The MLE may be on the boundary of the parameter space.\n",
      "  warnings.warn(msg, ConvergenceWarning)\n"
     ]
    }
   ],
   "source": [
    "data=task_summary.reset_index()\n",
    "data=data.replace(['Disgust', 'Fear', 'Points'], [1.0,2.0,3.0])\n",
    "formula = 'mean_perseverative_er ~ block_type'\n",
    "md=smf.mixedlm(formula, data, groups=data['participant_no'], missing='drop')\n",
    "results3 = md.fit()\n",
    "print(results3.summary())"
   ]
  },
  {
   "cell_type": "markdown",
   "metadata": {},
   "source": [
    "Next, perform post-hoc tests to interpret any significant results"
   ]
  },
  {
   "cell_type": "code",
   "execution_count": 97,
   "metadata": {},
   "outputs": [],
   "source": [
    "##do so using this function \n",
    "def post_hoc_stats(df, independent_var, dependent_var):\n",
    "    #drop any participants with missing data on the dependent variable\n",
    "    to_exclude=list(df[pd.isna(df[dependent_var])].participant_no)\n",
    "    for participant in to_exclude:\n",
    "        df=df[df['participant_no'] != participant]\n",
    "    post_hoc =[]\n",
    "    if independent_var=='block_type' or independent_var=='prolific_sex': ##categorical variables\n",
    "        conditions=df[independent_var].unique()\n",
    "        pairs=list(itertools.combinations(conditions, 2))\n",
    "\n",
    "        for pair in pairs:\n",
    "            condition1= df[df[independent_var]==pair[0]][dependent_var]\n",
    "            condition2= df[df[independent_var]==pair[1]][dependent_var]\n",
    "\n",
    "            if independent_var=='block_type': ##related t-test\n",
    "                t_stat, p_value=ttest_rel(condition1, condition2)\n",
    "                post_hoc.append((pair[0], pair[1], t_stat, p_value))\n",
    "            elif independent_var=='prolific_sex': ##independent t-test\n",
    "                t_stat, p_value=ttest_ind(condition1, condition2)\n",
    "                post_hoc.append((pair[0], pair[1], t_stat, p_value))\n",
    "        post_hoc=pd.DataFrame(post_hoc, columns=['condition1', 'condition2', 't_stat', 'p_value'])\n",
    "        #Bonferroni corrections for multiple comparisons\n",
    "        n_comparisons=len(post_hoc.index)\n",
    "        post_hoc['corrected_p_value']=post_hoc['p_value']*n_comparisons\n",
    "        post_hoc.loc[post_hoc['corrected_p_value']>1, 'corrected_p_value']=1\n",
    "    else: ##correlations for continuous variables\n",
    "        r, p= scipy.stats.pearsonr(df[dependent_var], df[independent_var])\n",
    "        post_hoc.append((independent_var, r, p))\n",
    "        post_hoc=pd.DataFrame(post_hoc, columns=['independent_var', 'r_stat', 'p_value'])\n",
    "    return post_hoc"
   ]
  },
  {
   "cell_type": "code",
   "execution_count": 98,
   "metadata": {},
   "outputs": [
    {
     "data": {
      "text/html": [
       "<div>\n",
       "<style scoped>\n",
       "    .dataframe tbody tr th:only-of-type {\n",
       "        vertical-align: middle;\n",
       "    }\n",
       "\n",
       "    .dataframe tbody tr th {\n",
       "        vertical-align: top;\n",
       "    }\n",
       "\n",
       "    .dataframe thead th {\n",
       "        text-align: right;\n",
       "    }\n",
       "</style>\n",
       "<table border=\"1\" class=\"dataframe\">\n",
       "  <thead>\n",
       "    <tr style=\"text-align: right;\">\n",
       "      <th></th>\n",
       "      <th>condition1</th>\n",
       "      <th>condition2</th>\n",
       "      <th>t_stat</th>\n",
       "      <th>p_value</th>\n",
       "      <th>corrected_p_value</th>\n",
       "    </tr>\n",
       "  </thead>\n",
       "  <tbody>\n",
       "    <tr>\n",
       "      <th>0</th>\n",
       "      <td>Disgust</td>\n",
       "      <td>Fear</td>\n",
       "      <td>-0.662743</td>\n",
       "      <td>0.519073</td>\n",
       "      <td>1.0</td>\n",
       "    </tr>\n",
       "    <tr>\n",
       "      <th>1</th>\n",
       "      <td>Disgust</td>\n",
       "      <td>Points</td>\n",
       "      <td>-0.142782</td>\n",
       "      <td>0.888652</td>\n",
       "      <td>1.0</td>\n",
       "    </tr>\n",
       "    <tr>\n",
       "      <th>2</th>\n",
       "      <td>Fear</td>\n",
       "      <td>Points</td>\n",
       "      <td>0.549428</td>\n",
       "      <td>0.592025</td>\n",
       "      <td>1.0</td>\n",
       "    </tr>\n",
       "  </tbody>\n",
       "</table>\n",
       "</div>"
      ],
      "text/plain": [
       "  condition1 condition2    t_stat   p_value  corrected_p_value\n",
       "0    Disgust       Fear -0.662743  0.519073                1.0\n",
       "1    Disgust     Points -0.142782  0.888652                1.0\n",
       "2       Fear     Points  0.549428  0.592025                1.0"
      ]
     },
     "execution_count": 98,
     "metadata": {},
     "output_type": "execute_result"
    }
   ],
   "source": [
    "##e.g., if there was a significant effect of feedback type\n",
    "post_hoc_stats(task_summary, 'block_type', 'mean_perseverative_er')"
   ]
  },
  {
   "cell_type": "code",
   "execution_count": 99,
   "metadata": {},
   "outputs": [
    {
     "data": {
      "text/html": [
       "<div>\n",
       "<style scoped>\n",
       "    .dataframe tbody tr th:only-of-type {\n",
       "        vertical-align: middle;\n",
       "    }\n",
       "\n",
       "    .dataframe tbody tr th {\n",
       "        vertical-align: top;\n",
       "    }\n",
       "\n",
       "    .dataframe thead th {\n",
       "        text-align: right;\n",
       "    }\n",
       "</style>\n",
       "<table border=\"1\" class=\"dataframe\">\n",
       "  <thead>\n",
       "    <tr style=\"text-align: right;\">\n",
       "      <th></th>\n",
       "      <th>condition1</th>\n",
       "      <th>condition2</th>\n",
       "      <th>t_stat</th>\n",
       "      <th>p_value</th>\n",
       "      <th>corrected_p_value</th>\n",
       "    </tr>\n",
       "  </thead>\n",
       "  <tbody>\n",
       "    <tr>\n",
       "      <th>0</th>\n",
       "      <td>Male</td>\n",
       "      <td>Female</td>\n",
       "      <td>0.307947</td>\n",
       "      <td>0.759721</td>\n",
       "      <td>0.759721</td>\n",
       "    </tr>\n",
       "  </tbody>\n",
       "</table>\n",
       "</div>"
      ],
      "text/plain": [
       "  condition1 condition2    t_stat   p_value  corrected_p_value\n",
       "0       Male     Female  0.307947  0.759721           0.759721"
      ]
     },
     "execution_count": 99,
     "metadata": {},
     "output_type": "execute_result"
    }
   ],
   "source": [
    "#a significant effect of sex\n",
    "post_hoc_stats(task_summary, 'prolific_sex', 'mean_perseverative_er')"
   ]
  },
  {
   "cell_type": "code",
   "execution_count": 100,
   "metadata": {},
   "outputs": [
    {
     "data": {
      "text/html": [
       "<div>\n",
       "<style scoped>\n",
       "    .dataframe tbody tr th:only-of-type {\n",
       "        vertical-align: middle;\n",
       "    }\n",
       "\n",
       "    .dataframe tbody tr th {\n",
       "        vertical-align: top;\n",
       "    }\n",
       "\n",
       "    .dataframe thead th {\n",
       "        text-align: right;\n",
       "    }\n",
       "</style>\n",
       "<table border=\"1\" class=\"dataframe\">\n",
       "  <thead>\n",
       "    <tr style=\"text-align: right;\">\n",
       "      <th></th>\n",
       "      <th>independent_var</th>\n",
       "      <th>r_stat</th>\n",
       "      <th>p_value</th>\n",
       "    </tr>\n",
       "  </thead>\n",
       "  <tbody>\n",
       "    <tr>\n",
       "      <th>0</th>\n",
       "      <td>prolific_age</td>\n",
       "      <td>-0.048787</td>\n",
       "      <td>0.758981</td>\n",
       "    </tr>\n",
       "  </tbody>\n",
       "</table>\n",
       "</div>"
      ],
      "text/plain": [
       "  independent_var    r_stat   p_value\n",
       "0    prolific_age -0.048787  0.758981"
      ]
     },
     "execution_count": 100,
     "metadata": {},
     "output_type": "execute_result"
    }
   ],
   "source": [
    "#or of age --> a continuous variable so use correlation analysis not a t-test\n",
    "post_hoc_stats(task_summary, 'prolific_age', 'mean_perseverative_er')"
   ]
  },
  {
   "cell_type": "markdown",
   "metadata": {},
   "source": [
    "<h4>Test the assumptions of the final model</h4> \n",
    "<p>The model we are basing our conclusions on\n",
    "<p>(usually will be model 2 -->hypothesis test with only the significant covariates)"
   ]
  },
  {
   "cell_type": "code",
   "execution_count": 101,
   "metadata": {},
   "outputs": [
    {
     "name": "stdout",
     "output_type": "stream",
     "text": [
      "Statistic 0.9481332695897533\n",
      "p-value 0.055384066526514134\n"
     ]
    },
    {
     "data": {
      "text/plain": [
       "Text(0.5, 1.0, 'Q-Q Plot')"
      ]
     },
     "execution_count": 101,
     "metadata": {},
     "output_type": "execute_result"
    },
    {
     "data": {
      "image/png": "[encoded data removed]",
      "text/plain": [
       "<Figure size 640x480 with 1 Axes>"
      ]
     },
     "metadata": {},
     "output_type": "display_data"
    }
   ],
   "source": [
    "#chose the model we are testing \n",
    "results=results2\n",
    "\n",
    "#shapiro-Wilk test of normality of residuals\n",
    "labels = [\"Statistic\", \"p-value\"]\n",
    "norm_res = stats.shapiro(results.resid)\n",
    "\n",
    "for key, val in dict(zip(labels, norm_res)).items():\n",
    "    print(key, val)\n",
    "    ##if test is significant then the assumption is violated\n",
    "\n",
    "## Q-Q PLot\n",
    "fig = plt.figure()\n",
    "ax = fig.add_subplot(111)\n",
    "\n",
    "sm.qqplot(results.resid, dist = stats.norm, line = 's', ax = ax)\n",
    "\n",
    "ax.set_title(\"Q-Q Plot\")"
   ]
  },
  {
   "cell_type": "code",
   "execution_count": 102,
   "metadata": {},
   "outputs": [
    {
     "name": "stdout",
     "output_type": "stream",
     "text": [
      "LM Statistic 8.730086205753938\n",
      "LM-Test p-value 0.36557476922010795\n",
      "F-Statistic 1.0824075415838048\n",
      "F-Test p-value 0.3992288377628533\n"
     ]
    },
    {
     "data": {
      "text/plain": [
       "Text(0, 0.5, 'Residuals')"
      ]
     },
     "execution_count": 102,
     "metadata": {},
     "output_type": "execute_result"
    },
    {
     "data": {
      "image/png": "[encoded data removed]",
      "text/plain": [
       "<Figure size 640x480 with 1 Axes>"
      ]
     },
     "metadata": {},
     "output_type": "display_data"
    }
   ],
   "source": [
    "##homoskedasticity of variance \n",
    "#White Lagrange Multiplier Test for Heteroscedasticity\n",
    "het_white_res = het_white(results.resid, results.model.exog)\n",
    "\n",
    "labels = [\"LM Statistic\", \"LM-Test p-value\", \"F-Statistic\", \"F-Test p-value\"]\n",
    "\n",
    "for key, val in dict(zip(labels, het_white_res)).items():\n",
    "    print(key, val)\n",
    "    ##again, only violated if you get a significant p value (which we don't have here)\n",
    "\n",
    "#RVF plot (residuals vs fitted values)\n",
    "fig = plt.figure()\n",
    "ax = sns.scatterplot(y = results.resid, x = results.fittedvalues)\n",
    "\n",
    "ax.set_title(\"RVF Plot\")\n",
    "ax.set_xlabel(\"Fitted Values\")\n",
    "ax.set_ylabel(\"Residuals\")"
   ]
  },
  {
   "cell_type": "markdown",
   "metadata": {},
   "source": [
    "<h4>Computing Bayes factor to see strength of the null</h4>\n",
    "<li>This part is very much dependent on the outcome of the hypothesis test\n",
    "<li>e.g., if there is no difference between fear and disgust in the hypothesis test --> will follow this up with a Bayesian t-test to see the strength of the null for this key comparison\n",
    "<br>\n",
    "<br>\n",
    "<p>Will interpret this bayes factor using Figure 4 from:\n",
    "<p>Van Doorn, Johnny & van den Bergh, Don & Boehm, Udo & Dablander, Fabian & Derks, Koen & Draws, Tim & Evans, Nathan & Gronau, Quentin & Hinne, Max & Kucharský, Šimon & Ly, Alexander & Marsman, Maarten & Matzke, Dora & Raj, Akash & Sarafoglou, Alexandra & Stefan, Angelika & Voelkel, Jan & Wagenmakers, Eric-Jan. (2019). The JASP Guidelines for Conducting and Reporting a Bayesian Analysis. Psychonomic Bulletin and Review. 10.3758/s13423-020-01798-5"
   ]
  },
  {
   "cell_type": "code",
   "execution_count": 103,
   "metadata": {},
   "outputs": [],
   "source": [
    "##create a function to do this using the pinguouin package\n",
    "        #NB for simplicity just doing pair-wise t-tests for key conditions\n",
    "def bayes_factor(df, dependent_var, condition_1_name, condition_2_name):\n",
    "    to_exclude=list(df[pd.isna(df[dependent_var])].participant_no)\n",
    "    for participant in to_exclude:\n",
    "        df=df[df['participant_no'] != participant]\n",
    "    condition1=task_summary[task_summary.block_type==condition_1_name][dependent_var]\n",
    "    condition2=task_summary[task_summary.block_type==condition_2_name][dependent_var]\n",
    "\n",
    "    ttest=pg.ttest(condition1, condition2, paired=True)\n",
    "    bf_null=1/float(ttest.BF10) ##convert this into a bayes factor for the strength of the null\n",
    "    return bf_null"
   ]
  },
  {
   "cell_type": "code",
   "execution_count": 104,
   "metadata": {},
   "outputs": [
    {
     "data": {
      "text/plain": [
       "3.058103975535168"
      ]
     },
     "execution_count": 104,
     "metadata": {},
     "output_type": "execute_result"
    }
   ],
   "source": [
    "bayes_factor(task_summary, 'mean_perseverative_er', 'Fear', 'Disgust')"
   ]
  },
  {
   "cell_type": "code",
   "execution_count": 105,
   "metadata": {},
   "outputs": [
    {
     "data": {
      "text/plain": [
       "3.2467532467532467"
      ]
     },
     "execution_count": 105,
     "metadata": {},
     "output_type": "execute_result"
    }
   ],
   "source": [
    "bayes_factor(task_summary, 'mean_perseverative_er', 'Fear', 'Points')"
   ]
  },
  {
   "cell_type": "code",
   "execution_count": 106,
   "metadata": {},
   "outputs": [
    {
     "data": {
      "text/plain": [
       "3.2467532467532467"
      ]
     },
     "execution_count": 106,
     "metadata": {},
     "output_type": "execute_result"
    }
   ],
   "source": [
    "bayes_factor(task_summary, 'mean_perseverative_er', 'Fear', 'Points')"
   ]
  },
  {
   "cell_type": "markdown",
   "metadata": {},
   "source": [
    "<b> MODEL 2: REGRESSIVE ERRORS </b>\n",
    "<p> Same again but with regressive rather than perseverative errors</p>\n",
    "<p> This time I have made the outcome variable skewed so show how this would be dealth with </p>"
   ]
  },
  {
   "cell_type": "markdown",
   "metadata": {},
   "source": [
    "Firstly - check the outcome for skewness"
   ]
  },
  {
   "cell_type": "code",
   "execution_count": 107,
   "metadata": {},
   "outputs": [
    {
     "name": "stdout",
     "output_type": "stream",
     "text": [
      "Regressive error skew: 0.7441454483405977\n"
     ]
    },
    {
     "data": {
      "image/png": "[encoded data removed]",
      "text/plain": [
       "<Figure size 640x480 with 1 Axes>"
      ]
     },
     "metadata": {},
     "output_type": "display_data"
    }
   ],
   "source": [
    "##Model assumptions - skew of distribution\n",
    "    #data was created to be a skewed distribution - so skew value >0.5\n",
    "sns.histplot(data=task_summary, x=\"mean_regressive_er\") \n",
    "print('Regressive error skew: '+str(skew(task_summary.mean_regressive_er,  nan_policy='omit')))"
   ]
  },
  {
   "cell_type": "markdown",
   "metadata": {},
   "source": [
    "Given that the distribution was skewed, must perform a transformation"
   ]
  },
  {
   "cell_type": "code",
   "execution_count": 108,
   "metadata": {},
   "outputs": [
    {
     "data": {
      "text/plain": [
       "<Axes: xlabel='regressive_er_transformed', ylabel='Count'>"
      ]
     },
     "execution_count": 108,
     "metadata": {},
     "output_type": "execute_result"
    },
    {
     "data": {
      "image/png": "[encoded data removed]",
      "text/plain": [
       "<Figure size 640x480 with 1 Axes>"
      ]
     },
     "metadata": {},
     "output_type": "display_data"
    }
   ],
   "source": [
    "#All further analyses will be done on this transformed variable\n",
    "pt=PowerTransformer(method='yeo-johnson', standardize=False)\n",
    "skl_yeojohnson=pt.fit(pd.DataFrame(task_summary.mean_regressive_er))\n",
    "skl_yeojohnson=pt.transform(pd.DataFrame(task_summary.mean_regressive_er))\n",
    "task_summary['regressive_er_transformed'] = pt.transform(pd.DataFrame(task_summary.mean_regressive_er))\n",
    "sns.histplot(data=task_summary['regressive_er_transformed'])"
   ]
  },
  {
   "cell_type": "markdown",
   "metadata": {},
   "source": [
    "Now run the hypothesis testing model on the transformed variable"
   ]
  },
  {
   "cell_type": "code",
   "execution_count": 109,
   "metadata": {},
   "outputs": [
    {
     "name": "stdout",
     "output_type": "stream",
     "text": [
      "                 Mixed Linear Model Regression Results\n",
      "=======================================================================\n",
      "Model:            MixedLM Dependent Variable: regressive_er_transformed\n",
      "No. Observations: 41      Method:             REML                     \n",
      "No. Groups:       14      Scale:              0.0604                   \n",
      "Min. group size:  2       Log-Likelihood:     -12.7350                 \n",
      "Max. group size:  3       Converged:          Yes                      \n",
      "Mean group size:  2.9                                                  \n",
      "------------------------------------------------------------------------\n",
      "                         Coef.   Std.Err.    z     P>|z|  [0.025  0.975]\n",
      "------------------------------------------------------------------------\n",
      "Intercept                 0.464     0.166   2.787  0.005   0.138   0.790\n",
      "prolific_sex[T.Male]      0.099     0.098   1.010  0.312  -0.093   0.292\n",
      "block_type               -0.029     0.046  -0.620  0.535  -0.120   0.062\n",
      "prolific_age              0.002     0.004   0.446  0.655  -0.006   0.010\n",
      "digit_span               -0.014     0.017  -0.814  0.416  -0.048   0.020\n",
      "Group Var                 0.003     0.049                               \n",
      "=======================================================================\n",
      "\n"
     ]
    },
    {
     "name": "stderr",
     "output_type": "stream",
     "text": [
      "C:\\Users\\eb08\\AppData\\Local\\Programs\\Python\\Python312\\Lib\\site-packages\\statsmodels\\regression\\mixed_linear_model.py:2237: ConvergenceWarning: The MLE may be on the boundary of the parameter space.\n",
      "  warnings.warn(msg, ConvergenceWarning)\n"
     ]
    }
   ],
   "source": [
    "data=task_summary.reset_index()\n",
    "data=data.replace(['Disgust', 'Fear', 'Points'], [1.0,2.0,3.0])\n",
    "formula = 'regressive_er_transformed ~ block_type+prolific_age+prolific_sex+digit_span'\n",
    "md=smf.mixedlm(formula, data, groups=data['participant_no'], missing='drop')\n",
    "results1 = md.fit()\n",
    "print(results1.summary())"
   ]
  },
  {
   "cell_type": "markdown",
   "metadata": {},
   "source": [
    "If covariates (age, sex, working memory) are not significant, remove them from the analysis in order to maximise power."
   ]
  },
  {
   "cell_type": "code",
   "execution_count": 110,
   "metadata": {},
   "outputs": [
    {
     "name": "stdout",
     "output_type": "stream",
     "text": [
      "                 Mixed Linear Model Regression Results\n",
      "=======================================================================\n",
      "Model:            MixedLM Dependent Variable: regressive_er_transformed\n",
      "No. Observations: 41      Method:             REML                     \n",
      "No. Groups:       14      Scale:              0.0602                   \n",
      "Min. group size:  2       Log-Likelihood:     -8.2103                  \n",
      "Max. group size:  3       Converged:          Yes                      \n",
      "Mean group size:  2.9                                                  \n",
      "------------------------------------------------------------------------\n",
      "                         Coef.   Std.Err.    z     P>|z|  [0.025  0.975]\n",
      "------------------------------------------------------------------------\n",
      "Intercept                 0.515     0.119   4.344  0.000   0.283   0.747\n",
      "prolific_sex[T.Male]      0.116     0.087   1.328  0.184  -0.055   0.287\n",
      "block_type               -0.029     0.046  -0.621  0.535  -0.120   0.062\n",
      "digit_span               -0.013     0.016  -0.786  0.432  -0.045   0.019\n",
      "Group Var                 0.001     0.044                               \n",
      "=======================================================================\n",
      "\n"
     ]
    },
    {
     "name": "stderr",
     "output_type": "stream",
     "text": [
      "C:\\Users\\eb08\\AppData\\Local\\Programs\\Python\\Python312\\Lib\\site-packages\\statsmodels\\regression\\mixed_linear_model.py:2237: ConvergenceWarning: The MLE may be on the boundary of the parameter space.\n",
      "  warnings.warn(msg, ConvergenceWarning)\n"
     ]
    }
   ],
   "source": [
    "#e.g., if only working memory and sex have significant effects, remove age as a covariate\n",
    "data=task_summary.reset_index()\n",
    "data=data.replace(['Disgust', 'Fear', 'Points'], [1.0,2.0,3.0])\n",
    "formula = 'regressive_er_transformed ~ block_type+prolific_sex+digit_span'\n",
    "md=smf.mixedlm(formula, data, groups=data['participant_no'], missing='drop')\n",
    "results2 = md.fit()\n",
    "print(results2.summary())"
   ]
  },
  {
   "cell_type": "markdown",
   "metadata": {},
   "source": [
    "Will (regardless of outcome) also report on the model without covariates - for completion"
   ]
  },
  {
   "cell_type": "code",
   "execution_count": 111,
   "metadata": {},
   "outputs": [
    {
     "name": "stdout",
     "output_type": "stream",
     "text": [
      "                 Mixed Linear Model Regression Results\n",
      "=======================================================================\n",
      "Model:            MixedLM Dependent Variable: regressive_er_transformed\n",
      "No. Observations: 41      Method:             REML                     \n",
      "No. Groups:       14      Scale:              0.0605                   \n",
      "Min. group size:  2       Log-Likelihood:     -4.3165                  \n",
      "Max. group size:  3       Converged:          Yes                      \n",
      "Mean group size:  2.9                                                  \n",
      "--------------------------------------------------------------------------\n",
      "                 Coef.     Std.Err.      z       P>|z|    [0.025    0.975]\n",
      "--------------------------------------------------------------------------\n",
      "Intercept         0.529       0.101     5.253    0.000     0.332     0.727\n",
      "block_type       -0.029       0.046    -0.619    0.536    -0.120     0.062\n",
      "Group Var         0.001       0.041                                       \n",
      "=======================================================================\n",
      "\n"
     ]
    },
    {
     "name": "stderr",
     "output_type": "stream",
     "text": [
      "C:\\Users\\eb08\\AppData\\Local\\Programs\\Python\\Python312\\Lib\\site-packages\\statsmodels\\regression\\mixed_linear_model.py:2237: ConvergenceWarning: The MLE may be on the boundary of the parameter space.\n",
      "  warnings.warn(msg, ConvergenceWarning)\n"
     ]
    }
   ],
   "source": [
    "data=task_summary.reset_index()\n",
    "data=data.replace(['Disgust', 'Fear', 'Points'], [1.0,2.0,3.0])\n",
    "formula = 'regressive_er_transformed ~ block_type'\n",
    "md=smf.mixedlm(formula, data, groups=data['participant_no'], missing='drop')\n",
    "results3 = md.fit()\n",
    "print(results3.summary())"
   ]
  },
  {
   "cell_type": "markdown",
   "metadata": {},
   "source": [
    "Next, perform post-hoc tests to interpret any significant results"
   ]
  },
  {
   "cell_type": "code",
   "execution_count": 112,
   "metadata": {},
   "outputs": [
    {
     "data": {
      "text/html": [
       "<div>\n",
       "<style scoped>\n",
       "    .dataframe tbody tr th:only-of-type {\n",
       "        vertical-align: middle;\n",
       "    }\n",
       "\n",
       "    .dataframe tbody tr th {\n",
       "        vertical-align: top;\n",
       "    }\n",
       "\n",
       "    .dataframe thead th {\n",
       "        text-align: right;\n",
       "    }\n",
       "</style>\n",
       "<table border=\"1\" class=\"dataframe\">\n",
       "  <thead>\n",
       "    <tr style=\"text-align: right;\">\n",
       "      <th></th>\n",
       "      <th>condition1</th>\n",
       "      <th>condition2</th>\n",
       "      <th>t_stat</th>\n",
       "      <th>p_value</th>\n",
       "      <th>corrected_p_value</th>\n",
       "    </tr>\n",
       "  </thead>\n",
       "  <tbody>\n",
       "    <tr>\n",
       "      <th>0</th>\n",
       "      <td>Disgust</td>\n",
       "      <td>Fear</td>\n",
       "      <td>0.634021</td>\n",
       "      <td>0.537965</td>\n",
       "      <td>1.0</td>\n",
       "    </tr>\n",
       "    <tr>\n",
       "      <th>1</th>\n",
       "      <td>Disgust</td>\n",
       "      <td>Points</td>\n",
       "      <td>0.269927</td>\n",
       "      <td>0.791803</td>\n",
       "      <td>1.0</td>\n",
       "    </tr>\n",
       "    <tr>\n",
       "      <th>2</th>\n",
       "      <td>Fear</td>\n",
       "      <td>Points</td>\n",
       "      <td>-0.359993</td>\n",
       "      <td>0.725109</td>\n",
       "      <td>1.0</td>\n",
       "    </tr>\n",
       "  </tbody>\n",
       "</table>\n",
       "</div>"
      ],
      "text/plain": [
       "  condition1 condition2    t_stat   p_value  corrected_p_value\n",
       "0    Disgust       Fear  0.634021  0.537965                1.0\n",
       "1    Disgust     Points  0.269927  0.791803                1.0\n",
       "2       Fear     Points -0.359993  0.725109                1.0"
      ]
     },
     "execution_count": 112,
     "metadata": {},
     "output_type": "execute_result"
    }
   ],
   "source": [
    "#Using the same function as above\n",
    "##e.g., if there was a significant effect of feedback type\n",
    "post_hoc_stats(task_summary, 'block_type', 'regressive_er_transformed')"
   ]
  },
  {
   "cell_type": "code",
   "execution_count": 113,
   "metadata": {},
   "outputs": [
    {
     "name": "stderr",
     "output_type": "stream",
     "text": [
      "C:\\Users\\eb08\\AppData\\Local\\Temp\\ipykernel_13760\\3725866060.py:13: UserWarning: set_ticklabels() should only be used with a fixed number of ticks, i.e. after set_ticks() or using a FixedLocator.\n",
      "  axes[0].set_xticklabels(axes[0].get_xticklabels(), rotation=45)\n",
      "C:\\Users\\eb08\\AppData\\Local\\Temp\\ipykernel_13760\\3725866060.py:21: UserWarning: set_ticklabels() should only be used with a fixed number of ticks, i.e. after set_ticks() or using a FixedLocator.\n",
      "  axes[1].set_xticklabels(axes[1].get_xticklabels(), rotation=45)\n"
     ]
    },
    {
     "data": {
      "text/plain": [
       "Text(0.5, 1.0, 'Perseverative errors')"
      ]
     },
     "execution_count": 113,
     "metadata": {},
     "output_type": "execute_result"
    },
    {
     "data": {
      "image/png": "[encoded data removed]",
      "text/plain": [
       "<Figure size 640x480 with 2 Axes>"
      ]
     },
     "metadata": {},
     "output_type": "display_data"
    }
   ],
   "source": [
    "##NB plotting the data will also be used to help interpret results\n",
    "#example plot:\n",
    "fig, axes = plt.subplots(1,2, sharey=False)\n",
    "title=\"Primary task outcomes\"\n",
    "plt.suptitle(title, fontsize=16)\n",
    "#fig.set_size_inches(15, 5)\n",
    "fig.tight_layout(pad=2)\n",
    "\n",
    "sns.swarmplot(data=task_summary, x=\"block_type\", y=\"regressive_er_transformed\", ax=axes[0], color=\".5\", size=5, )\n",
    "sns.barplot(data=task_summary, x=\"block_type\", y=\"regressive_er_transformed\", ax=axes[0], errorbar=('ci', 95), fill=False, color=\"0\", capsize=.2)\n",
    "#axes[0].set_xlabel(\"Feedback type\")\n",
    "axes[0].set_xlabel(\"\")\n",
    "axes[0].set_xticklabels(axes[0].get_xticklabels(), rotation=45)\n",
    "axes[0].set_ylabel(\"Mean regressive errors per reversal (transformed)\") \n",
    "axes[0].set_title(\"Regressive errors\") \n",
    "\n",
    "sns.swarmplot(data=task_summary, x=\"block_type\", y=\"mean_perseverative_er\", ax=axes[1], color=\".5\", size=5)\n",
    "sns.barplot(data=task_summary, x=\"block_type\", y=\"mean_perseverative_er\", ax=axes[1], errorbar=('ci', 95), fill=False, color=\"0\", capsize=.2)\n",
    "#axes[1].set_xlabel(\"Feedback type\")\n",
    "axes[1].set_xlabel(\"\")\n",
    "axes[1].set_xticklabels(axes[1].get_xticklabels(), rotation=45)\n",
    "axes[1].set_ylabel(\"Mean perseverative errors per reversal\") \n",
    "axes[1].set_title(\"Perseverative errors\") "
   ]
  },
  {
   "cell_type": "markdown",
   "metadata": {},
   "source": [
    "Test the assumptions of this final model"
   ]
  },
  {
   "cell_type": "code",
   "execution_count": 114,
   "metadata": {},
   "outputs": [
    {
     "name": "stdout",
     "output_type": "stream",
     "text": [
      "Statistic 0.9734710634387348\n",
      "p-value 0.4442544245171136\n"
     ]
    },
    {
     "data": {
      "text/plain": [
       "Text(0.5, 1.0, 'Q-Q Plot')"
      ]
     },
     "execution_count": 114,
     "metadata": {},
     "output_type": "execute_result"
    },
    {
     "data": {
      "image/png": "[encoded data removed]",
      "text/plain": [
       "<Figure size 640x480 with 1 Axes>"
      ]
     },
     "metadata": {},
     "output_type": "display_data"
    }
   ],
   "source": [
    "#chose model testing\n",
    "results=results2\n",
    "\n",
    "#shapiro-Wilk test of normality of residuals\n",
    "labels = [\"Statistic\", \"p-value\"]\n",
    "norm_res = stats.shapiro(results.resid)\n",
    "\n",
    "for key, val in dict(zip(labels, norm_res)).items():\n",
    "    print(key, val)\n",
    "    ##if test is significant then the assumption is violated\n",
    "        #not significant here - so that is good!\n",
    "\n",
    "## Q-Q PLot\n",
    "fig = plt.figure()\n",
    "ax = fig.add_subplot(111)\n",
    "\n",
    "sm.qqplot(results.resid, dist = stats.norm, line = 's', ax = ax)\n",
    "\n",
    "ax.set_title(\"Q-Q Plot\")"
   ]
  },
  {
   "cell_type": "code",
   "execution_count": 115,
   "metadata": {},
   "outputs": [
    {
     "name": "stdout",
     "output_type": "stream",
     "text": [
      "LM Statistic 6.452950845289559\n",
      "LM-Test p-value 0.5966309464278803\n",
      "F-Statistic 0.7471492938678045\n",
      "F-Test p-value 0.6501265919493576\n"
     ]
    },
    {
     "data": {
      "text/plain": [
       "Text(0, 0.5, 'Residuals')"
      ]
     },
     "execution_count": 115,
     "metadata": {},
     "output_type": "execute_result"
    },
    {
     "data": {
      "image/png": "[encoded data removed]",
      "text/plain": [
       "<Figure size 640x480 with 1 Axes>"
      ]
     },
     "metadata": {},
     "output_type": "display_data"
    }
   ],
   "source": [
    "##homoskedasticity of variance \n",
    "#White Lagrange Multiplier Test for Heteroscedasticity\n",
    "het_white_res = het_white(results.resid, results.model.exog)\n",
    "\n",
    "labels = [\"LM Statistic\", \"LM-Test p-value\", \"F-Statistic\", \"F-Test p-value\"]\n",
    "\n",
    "for key, val in dict(zip(labels, het_white_res)).items():\n",
    "    print(key, val)\n",
    "    ##again, only violated if you get a significant p value (which we don't have here)\n",
    "\n",
    "#RVF plot (residuals vs fitted values)\n",
    "fig = plt.figure()\n",
    "ax = sns.scatterplot(y = results.resid, x = results.fittedvalues)\n",
    "\n",
    "ax.set_title(\"RVF Plot\")\n",
    "ax.set_xlabel(\"Fitted Values\")\n",
    "ax.set_ylabel(\"Residuals\")"
   ]
  },
  {
   "cell_type": "markdown",
   "metadata": {},
   "source": [
    "Compute the Bayes factors for any null finding"
   ]
  },
  {
   "cell_type": "code",
   "execution_count": 116,
   "metadata": {},
   "outputs": [
    {
     "data": {
      "text/plain": [
       "3.4013605442176873"
      ]
     },
     "execution_count": 116,
     "metadata": {},
     "output_type": "execute_result"
    }
   ],
   "source": [
    "bayes_factor(task_summary, 'regressive_er_transformed', 'Fear', 'Points')"
   ]
  },
  {
   "cell_type": "markdown",
   "metadata": {},
   "source": [
    "<h3><b>Adding video ratings</b></h3>\n",
    "<p>Testing whether this result is modified by adding video ratings: </p>\n",
    "<p>=models 3 and 4 in the analysis plan\n",
    "<p><b>ONLY TO BE RUN IF RESULTS OF VIDEO RATINGS WARRANT IT</b>\n",
    "<li>If there is a difference in valence and arousal across fear and disgusting videos: add this difference as a covariate (fear(T1)-disgust(T1))\n",
    "<li>If there is a difference in habituation between fear and disgusting videos: add this difference in habituation as a covariate (Fear(T1-T2) - Disgust(T1-T2))"
   ]
  },
  {
   "cell_type": "markdown",
   "metadata": {},
   "source": [
    "Firstly calculate the relevant values and add to the dataframe"
   ]
  },
  {
   "cell_type": "code",
   "execution_count": 117,
   "metadata": {},
   "outputs": [],
   "source": [
    "##add these values to the dataframe\n",
    "chosen_stim_df = pd.read_csv(\"csvs/chosen_stim_dummy.csv\")\n",
    "stim_ratings_covariates=pd.DataFrame()\n",
    "for participant_no in set(chosen_stim_df.participant_no):\n",
    "    participant_df=chosen_stim_df[chosen_stim_df.participant_no==participant_no]\n",
    "    disgust=participant_df[participant_df.trial_type==\"disgust\"]\n",
    "    fear=participant_df[participant_df.trial_type==\"fear\"]\n",
    "    #difference scores - fear(T1)- disgust(T1)\n",
    "    valence_diff=int(fear.unpleasant_1)-int(disgust.unpleasant_1)\n",
    "    arousal_diff=int(fear.arousing_1)-int(disgust.arousing_1)\n",
    "\n",
    "    #habituation scores- fear(T1-T2)- Disgust(T1-T2)\n",
    "    valence_habdiff=(int(fear.unpleasant_1)-int(fear.unpleasant_2))-(int(disgust.unpleasant_1)-int(disgust.unpleasant_2))\n",
    "    arousal_habdiff=(int(fear.arousing_1)-int(fear.arousing_2))-(int(disgust.arousing_1)-int(disgust.arousing_2))\n",
    "    \n",
    "    row=pd.DataFrame({\n",
    "        'participant_no': [participant_no],\n",
    "        'valence_diff': [valence_diff],\n",
    "        'arousal_diff': [arousal_diff],\n",
    "        'valence_habdiff': [valence_habdiff],\n",
    "        'arousal_habdiff': [arousal_habdiff],\n",
    "    })\n",
    "    stim_ratings_covariates=pd.concat([stim_ratings_covariates, row])\n",
    "task_and_ratings_summary=pd.merge(task_summary, stim_ratings_covariates, on='participant_no', how='outer')"
   ]
  },
  {
   "cell_type": "markdown",
   "metadata": {},
   "source": [
    "Now add to the mixed effects models: again only running models that are necessary (determined in the video_ratings_analysis)\n",
    "<p>Start with perseverative errors (model 3)</p>"
   ]
  },
  {
   "cell_type": "markdown",
   "metadata": {},
   "source": [
    "<b> MODEL 3: PERSEVERATIVE ERRORS W VIDEO RATINGS </b>"
   ]
  },
  {
   "cell_type": "code",
   "execution_count": 118,
   "metadata": {},
   "outputs": [
    {
     "name": "stdout",
     "output_type": "stream",
     "text": [
      "               Mixed Linear Model Regression Results\n",
      "===================================================================\n",
      "Model:            MixedLM Dependent Variable: mean_perseverative_er\n",
      "No. Observations: 42      Method:             REML                 \n",
      "No. Groups:       14      Scale:              6.8398               \n",
      "Min. group size:  3       Log-Likelihood:     -101.4346            \n",
      "Max. group size:  3       Converged:          Yes                  \n",
      "Mean group size:  3.0                                              \n",
      "-------------------------------------------------------------------\n",
      "                         Coef.  Std.Err.   z    P>|z| [0.025 0.975]\n",
      "-------------------------------------------------------------------\n",
      "Intercept                 6.873    1.721  3.993 0.000  3.500 10.246\n",
      "prolific_sex[T.Male]      0.759    0.967  0.785 0.432 -1.137  2.655\n",
      "block_type                0.060    0.494  0.121 0.904 -0.909  1.028\n",
      "prolific_age             -0.016    0.044 -0.360 0.719 -0.103  0.071\n",
      "digit_span               -0.210    0.189 -1.110 0.267 -0.582  0.161\n",
      "arousal_diff             -0.061    0.130 -0.469 0.639 -0.315  0.194\n",
      "valence_habdiff          -0.089    0.108 -0.821 0.412 -0.302  0.124\n",
      "Group Var                 0.071    0.483                           \n",
      "===================================================================\n",
      "\n"
     ]
    },
    {
     "name": "stderr",
     "output_type": "stream",
     "text": [
      "C:\\Users\\eb08\\AppData\\Local\\Programs\\Python\\Python312\\Lib\\site-packages\\statsmodels\\base\\model.py:607: ConvergenceWarning: Maximum Likelihood optimization failed to converge. Check mle_retvals\n",
      "  warnings.warn(\"Maximum Likelihood optimization failed to \"\n",
      "C:\\Users\\eb08\\AppData\\Local\\Programs\\Python\\Python312\\Lib\\site-packages\\statsmodels\\regression\\mixed_linear_model.py:2200: ConvergenceWarning: Retrying MixedLM optimization with lbfgs\n",
      "  warnings.warn(\n"
     ]
    }
   ],
   "source": [
    "#e.g., if there was a difference in valence habituation and baseline arousal\n",
    "# identified by a difference in valence habituation (valence_habdiff)\n",
    "        #i.e., a time*stimulus type interaction in valence model (model A)\n",
    "# and an effect of stimulus type in arousal model (model B)\n",
    "#so add valence_habdiff and arousal_diff to the model as covariates\n",
    "\n",
    "data=task_and_ratings_summary\n",
    "data=data.replace(['Disgust', 'Fear', 'Points'], [1.0,2.0,3.0])\n",
    "formula = 'mean_perseverative_er ~ block_type + prolific_age + prolific_sex + digit_span + arousal_diff + valence_habdiff'\n",
    "md=smf.mixedlm(formula, data, groups=data['participant_no'], missing='drop')\n",
    "results1 = md.fit()\n",
    "print(results1.summary())"
   ]
  },
  {
   "cell_type": "code",
   "execution_count": 119,
   "metadata": {},
   "outputs": [
    {
     "name": "stdout",
     "output_type": "stream",
     "text": [
      "Statistic 0.959728696651539\n",
      "p-value 0.1444173580861332\n",
      "LM Statistic 21.255563836778197\n",
      "LM-Test p-value 0.3822299098228919\n",
      "F-Statistic 1.0758712289411705\n",
      "F-Test p-value 0.43362635900241814\n"
     ]
    }
   ],
   "source": [
    "#again checking assumptions\n",
    "\n",
    "#chose model\n",
    "results=results1\n",
    "\n",
    "#shapiro-Wilk test of normality of residuals\n",
    "labels = [\"Statistic\", \"p-value\"]\n",
    "norm_res = stats.shapiro(results.resid)\n",
    "\n",
    "for key, val in dict(zip(labels, norm_res)).items():\n",
    "    print(key, val)\n",
    "    ##if test is significant then the assumption is violated\n",
    "        #is significant here\n",
    "\n",
    "##homoskedasticity of variance \n",
    "#White Lagrange Multiplier Test for Heteroscedasticity\n",
    "het_white_res = het_white(results.resid, results.model.exog)\n",
    "\n",
    "labels = [\"LM Statistic\", \"LM-Test p-value\", \"F-Statistic\", \"F-Test p-value\"]\n",
    "\n",
    "for key, val in dict(zip(labels, het_white_res)).items():\n",
    "    print(key, val)\n",
    "    ##again, only violated if you get a significant p value"
   ]
  },
  {
   "cell_type": "markdown",
   "metadata": {},
   "source": [
    "<b> MODEL 4: REGRESSIVE ERRORS W VIDEO RATINGS </b>"
   ]
  },
  {
   "cell_type": "markdown",
   "metadata": {},
   "source": [
    "Do the same for regressive errors"
   ]
  },
  {
   "cell_type": "code",
   "execution_count": 120,
   "metadata": {},
   "outputs": [
    {
     "name": "stdout",
     "output_type": "stream",
     "text": [
      "                 Mixed Linear Model Regression Results\n",
      "=======================================================================\n",
      "Model:            MixedLM Dependent Variable: regressive_er_transformed\n",
      "No. Observations: 41      Method:             REML                     \n",
      "No. Groups:       14      Scale:              0.0550                   \n",
      "Min. group size:  2       Log-Likelihood:     -16.8357                 \n",
      "Max. group size:  3       Converged:          No                       \n",
      "Mean group size:  2.9                                                  \n",
      "------------------------------------------------------------------------\n",
      "                         Coef.   Std.Err.    z     P>|z|  [0.025  0.975]\n",
      "------------------------------------------------------------------------\n",
      "Intercept                 0.557     0.157   3.545  0.000   0.249   0.865\n",
      "prolific_sex[T.Male]      0.127     0.089   1.424  0.154  -0.048   0.302\n",
      "block_type               -0.029     0.044  -0.650  0.516  -0.116   0.058\n",
      "prolific_age             -0.003     0.004  -0.735  0.463  -0.011   0.005\n",
      "digit_span                0.003     0.017   0.199  0.843  -0.030   0.036\n",
      "arousal_diff              0.028     0.011   2.444  0.015   0.006   0.051\n",
      "valence_habdiff          -0.020     0.010  -1.996  0.046  -0.039  -0.000\n",
      "Group Var                 0.000     0.078                               \n",
      "=======================================================================\n",
      "\n"
     ]
    },
    {
     "name": "stderr",
     "output_type": "stream",
     "text": [
      "C:\\Users\\eb08\\AppData\\Local\\Programs\\Python\\Python312\\Lib\\site-packages\\statsmodels\\base\\model.py:607: ConvergenceWarning: Maximum Likelihood optimization failed to converge. Check mle_retvals\n",
      "  warnings.warn(\"Maximum Likelihood optimization failed to \"\n",
      "C:\\Users\\eb08\\AppData\\Local\\Programs\\Python\\Python312\\Lib\\site-packages\\statsmodels\\regression\\mixed_linear_model.py:2200: ConvergenceWarning: Retrying MixedLM optimization with lbfgs\n",
      "  warnings.warn(\n",
      "C:\\Users\\eb08\\AppData\\Local\\Programs\\Python\\Python312\\Lib\\site-packages\\statsmodels\\base\\model.py:607: ConvergenceWarning: Maximum Likelihood optimization failed to converge. Check mle_retvals\n",
      "  warnings.warn(\"Maximum Likelihood optimization failed to \"\n",
      "C:\\Users\\eb08\\AppData\\Local\\Programs\\Python\\Python312\\Lib\\site-packages\\statsmodels\\regression\\mixed_linear_model.py:2200: ConvergenceWarning: Retrying MixedLM optimization with cg\n",
      "  warnings.warn(\n",
      "C:\\Users\\eb08\\AppData\\Local\\Programs\\Python\\Python312\\Lib\\site-packages\\statsmodels\\base\\model.py:607: ConvergenceWarning: Maximum Likelihood optimization failed to converge. Check mle_retvals\n",
      "  warnings.warn(\"Maximum Likelihood optimization failed to \"\n",
      "C:\\Users\\eb08\\AppData\\Local\\Programs\\Python\\Python312\\Lib\\site-packages\\statsmodels\\regression\\mixed_linear_model.py:2206: ConvergenceWarning: MixedLM optimization failed, trying a different optimizer may help.\n",
      "  warnings.warn(msg, ConvergenceWarning)\n",
      "C:\\Users\\eb08\\AppData\\Local\\Programs\\Python\\Python312\\Lib\\site-packages\\statsmodels\\regression\\mixed_linear_model.py:2218: ConvergenceWarning: Gradient optimization failed, |grad| = 0.004360\n",
      "  warnings.warn(msg, ConvergenceWarning)\n",
      "C:\\Users\\eb08\\AppData\\Local\\Programs\\Python\\Python312\\Lib\\site-packages\\statsmodels\\regression\\mixed_linear_model.py:2237: ConvergenceWarning: The MLE may be on the boundary of the parameter space.\n",
      "  warnings.warn(msg, ConvergenceWarning)\n"
     ]
    }
   ],
   "source": [
    "#e.g., same scenario as above\n",
    "#note still using transformed outcome variable (as it is skewed)\n",
    "\n",
    "data=task_and_ratings_summary\n",
    "data=data.replace(['Disgust', 'Fear', 'Points'], [1.0,2.0,3.0])\n",
    "formula = 'regressive_er_transformed ~ block_type + prolific_age + prolific_sex + digit_span + arousal_diff + valence_habdiff'\n",
    "md=smf.mixedlm(formula, data, groups=data['participant_no'], missing='drop')\n",
    "results1 = md.fit()\n",
    "print(results1.summary())"
   ]
  },
  {
   "cell_type": "code",
   "execution_count": 121,
   "metadata": {},
   "outputs": [
    {
     "name": "stdout",
     "output_type": "stream",
     "text": [
      "Statistic 0.9824468250671182\n",
      "p-value 0.7673773803001056\n",
      "LM Statistic 17.700238347757164\n",
      "LM-Test p-value 0.6071476074234707\n",
      "F-Statistic 0.7596746529831279\n",
      "F-Test p-value 0.7277578869122696\n"
     ]
    }
   ],
   "source": [
    "#again checking assumptions\n",
    "#chose model\n",
    "results=results1\n",
    "\n",
    "#shapiro-Wilk test of normality of residuals\n",
    "labels = [\"Statistic\", \"p-value\"]\n",
    "norm_res = stats.shapiro(results.resid)\n",
    "\n",
    "for key, val in dict(zip(labels, norm_res)).items():\n",
    "    print(key, val)\n",
    "    ##if test is significant then the assumption is violated\n",
    "        #is significant here\n",
    "\n",
    "##homoskedasticity of variance \n",
    "#White Lagrange Multiplier Test for Heteroscedasticity\n",
    "het_white_res = het_white(results.resid, results.model.exog)\n",
    "\n",
    "labels = [\"LM Statistic\", \"LM-Test p-value\", \"F-Statistic\", \"F-Test p-value\"]\n",
    "\n",
    "for key, val in dict(zip(labels, het_white_res)).items():\n",
    "    print(key, val)\n",
    "    ##again, only violated if you get a significant p value"
   ]
  },
  {
   "cell_type": "markdown",
   "metadata": {},
   "source": [
    "<h3><b>Win-stay/lose-shift analyses</b></h3>\n",
    "<p>Only to be run if there are differences in regressive or perseverative errors across the block types (significant effects of block type in models 1 or 2)</p>\n",
    "<p>Models to run: </p>\n",
    "<li> 5) 'win_stay ~ block_type + any covariates that were significant in models 1 and 2'\n",
    "<li> 6) 'lose_shift ~ block_type + any covariates that were significant in models 1 and 2'"
   ]
  },
  {
   "cell_type": "markdown",
   "metadata": {},
   "source": [
    "<b> MODEL 5: WIN-STAY </b>"
   ]
  },
  {
   "cell_type": "code",
   "execution_count": 122,
   "metadata": {},
   "outputs": [
    {
     "name": "stdout",
     "output_type": "stream",
     "text": [
      "Win-stay  skew: 0.17518763450050448\n"
     ]
    },
    {
     "data": {
      "image/png": "[encoded data removed]",
      "text/plain": [
       "<Figure size 640x480 with 1 Axes>"
      ]
     },
     "metadata": {},
     "output_type": "display_data"
    }
   ],
   "source": [
    "sns.histplot(data=task_summary, x=\"win_stay\") \n",
    "print('Win-stay  skew: '+str(skew(task_summary.win_stay)))"
   ]
  },
  {
   "cell_type": "markdown",
   "metadata": {},
   "source": [
    "Now run the hypothesis testing model (with any covariates that were significant in models 1-4)"
   ]
  },
  {
   "cell_type": "code",
   "execution_count": 123,
   "metadata": {},
   "outputs": [
    {
     "name": "stdout",
     "output_type": "stream",
     "text": [
      "             Mixed Linear Model Regression Results\n",
      "===============================================================\n",
      "Model:                MixedLM   Dependent Variable:   win_stay \n",
      "No. Observations:     42        Method:               REML     \n",
      "No. Groups:           14        Scale:                7.0578   \n",
      "Min. group size:      3         Log-Likelihood:       -100.3156\n",
      "Max. group size:      3         Converged:            Yes      \n",
      "Mean group size:      3.0                                      \n",
      "---------------------------------------------------------------\n",
      "                     Coef.  Std.Err.   z    P>|z| [0.025 0.975]\n",
      "---------------------------------------------------------------\n",
      "Intercept             8.391    1.695  4.950 0.000  5.068 11.713\n",
      "prolific_sex[T.Male]  1.698    0.963  1.763 0.078 -0.189  3.585\n",
      "block_type           -0.714    0.502 -1.423 0.155 -1.698  0.270\n",
      "prolific_age         -0.064    0.040 -1.615 0.106 -0.142  0.014\n",
      "digit_span           -0.093    0.171 -0.545 0.585 -0.429  0.242\n",
      "Group Var             0.000    0.774                           \n",
      "===============================================================\n",
      "\n"
     ]
    },
    {
     "name": "stderr",
     "output_type": "stream",
     "text": [
      "C:\\Users\\eb08\\AppData\\Local\\Programs\\Python\\Python312\\Lib\\site-packages\\statsmodels\\regression\\mixed_linear_model.py:1634: UserWarning: Random effects covariance is singular\n",
      "  warnings.warn(msg)\n",
      "C:\\Users\\eb08\\AppData\\Local\\Programs\\Python\\Python312\\Lib\\site-packages\\statsmodels\\regression\\mixed_linear_model.py:2237: ConvergenceWarning: The MLE may be on the boundary of the parameter space.\n",
      "  warnings.warn(msg, ConvergenceWarning)\n"
     ]
    }
   ],
   "source": [
    "##e.g., might need all the covariates (age, sex, digit span)\n",
    "data=task_summary.reset_index()\n",
    "data=data.replace(['Disgust', 'Fear', 'Points'], [1.0,2.0,3.0])\n",
    "formula = 'win_stay ~ block_type+prolific_age+prolific_sex+digit_span'\n",
    "md=smf.mixedlm(formula, data, groups=data['participant_no'], missing='drop')\n",
    "results1 = md.fit()\n",
    "print(results1.summary())"
   ]
  },
  {
   "cell_type": "markdown",
   "metadata": {},
   "source": [
    "Next, perform post-hoc tests to interpret any significant results"
   ]
  },
  {
   "cell_type": "code",
   "execution_count": 124,
   "metadata": {},
   "outputs": [
    {
     "data": {
      "text/html": [
       "<div>\n",
       "<style scoped>\n",
       "    .dataframe tbody tr th:only-of-type {\n",
       "        vertical-align: middle;\n",
       "    }\n",
       "\n",
       "    .dataframe tbody tr th {\n",
       "        vertical-align: top;\n",
       "    }\n",
       "\n",
       "    .dataframe thead th {\n",
       "        text-align: right;\n",
       "    }\n",
       "</style>\n",
       "<table border=\"1\" class=\"dataframe\">\n",
       "  <thead>\n",
       "    <tr style=\"text-align: right;\">\n",
       "      <th></th>\n",
       "      <th>condition1</th>\n",
       "      <th>condition2</th>\n",
       "      <th>t_stat</th>\n",
       "      <th>p_value</th>\n",
       "      <th>corrected_p_value</th>\n",
       "    </tr>\n",
       "  </thead>\n",
       "  <tbody>\n",
       "    <tr>\n",
       "      <th>0</th>\n",
       "      <td>Male</td>\n",
       "      <td>Female</td>\n",
       "      <td>0.99408</td>\n",
       "      <td>0.32616</td>\n",
       "      <td>0.32616</td>\n",
       "    </tr>\n",
       "  </tbody>\n",
       "</table>\n",
       "</div>"
      ],
      "text/plain": [
       "  condition1 condition2   t_stat  p_value  corrected_p_value\n",
       "0       Male     Female  0.99408  0.32616            0.32616"
      ]
     },
     "execution_count": 124,
     "metadata": {},
     "output_type": "execute_result"
    }
   ],
   "source": [
    "#e.g., a significant effect of sex\n",
    "post_hoc_stats(task_summary, 'prolific_sex', 'win_stay')"
   ]
  },
  {
   "cell_type": "markdown",
   "metadata": {},
   "source": [
    "Test the assumptions of this model"
   ]
  },
  {
   "cell_type": "code",
   "execution_count": 125,
   "metadata": {},
   "outputs": [
    {
     "name": "stdout",
     "output_type": "stream",
     "text": [
      "Statistic 0.9668465827151141\n",
      "p-value 0.2577882111616633\n"
     ]
    },
    {
     "data": {
      "text/plain": [
       "Text(0.5, 1.0, 'Q-Q Plot')"
      ]
     },
     "execution_count": 125,
     "metadata": {},
     "output_type": "execute_result"
    },
    {
     "data": {
      "image/png": "[encoded data removed]",
      "text/plain": [
       "<Figure size 1600x900 with 1 Axes>"
      ]
     },
     "metadata": {},
     "output_type": "display_data"
    }
   ],
   "source": [
    "#shapiro-Wilk test of normality of residuals\n",
    "results=results1\n",
    "\n",
    "labels = [\"Statistic\", \"p-value\"]\n",
    "norm_res = stats.shapiro(results.resid)\n",
    "\n",
    "for key, val in dict(zip(labels, norm_res)).items():\n",
    "    print(key, val)\n",
    "    ##if test is significant then the assumption is violated\n",
    "        #not significant here - so that is good!\n",
    "\n",
    "## Q-Q PLot\n",
    "fig = plt.figure(figsize = (16, 9))\n",
    "ax = fig.add_subplot(111)\n",
    "\n",
    "sm.qqplot(results.resid, dist = stats.norm, line = 's', ax = ax)\n",
    "\n",
    "ax.set_title(\"Q-Q Plot\")"
   ]
  },
  {
   "cell_type": "code",
   "execution_count": 126,
   "metadata": {},
   "outputs": [
    {
     "name": "stdout",
     "output_type": "stream",
     "text": [
      "LM Statistic 22.096590665346792\n",
      "LM-Test p-value 0.053883125901455296\n",
      "F-Statistic 2.3911811296976095\n",
      "F-Test p-value 0.02597073517664425\n"
     ]
    },
    {
     "data": {
      "text/plain": [
       "Text(0, 0.5, 'Residuals')"
      ]
     },
     "execution_count": 126,
     "metadata": {},
     "output_type": "execute_result"
    },
    {
     "data": {
      "image/png": "[encoded data removed]",
      "text/plain": [
       "<Figure size 640x480 with 1 Axes>"
      ]
     },
     "metadata": {},
     "output_type": "display_data"
    }
   ],
   "source": [
    "##homoskedasticity of variance \n",
    "#White Lagrange Multiplier Test for Heteroscedasticity\n",
    "het_white_res = het_white(results.resid, results.model.exog)\n",
    "\n",
    "labels = [\"LM Statistic\", \"LM-Test p-value\", \"F-Statistic\", \"F-Test p-value\"]\n",
    "\n",
    "for key, val in dict(zip(labels, het_white_res)).items():\n",
    "    print(key, val)\n",
    "    ##again, only violated if you get a significant p value (which we don't have here)\n",
    "\n",
    "#RVF plot (residuals vs fitted values)\n",
    "fig = plt.figure()\n",
    "ax = sns.scatterplot(y = results.resid, x = results.fittedvalues)\n",
    "\n",
    "ax.set_title(\"RVF Plot\")\n",
    "ax.set_xlabel(\"Fitted Values\")\n",
    "ax.set_ylabel(\"Residuals\")"
   ]
  },
  {
   "cell_type": "markdown",
   "metadata": {},
   "source": [
    "Also calculate Bayes factor for strenght of null"
   ]
  },
  {
   "cell_type": "code",
   "execution_count": 131,
   "metadata": {},
   "outputs": [
    {
     "data": {
      "text/plain": [
       "3.6101083032490973"
      ]
     },
     "execution_count": 131,
     "metadata": {},
     "output_type": "execute_result"
    }
   ],
   "source": [
    "bayes_factor(task_summary, 'win_stay', 'Fear', 'Disgust')"
   ]
  },
  {
   "cell_type": "markdown",
   "metadata": {},
   "source": [
    "<b> MODEL 6: LOSE-SHIFT </b>"
   ]
  },
  {
   "cell_type": "code",
   "execution_count": 127,
   "metadata": {},
   "outputs": [
    {
     "name": "stdout",
     "output_type": "stream",
     "text": [
      "lose-shift  skew: 0.17518763450050448\n"
     ]
    },
    {
     "data": {
      "image/png": "[encoded data removed]",
      "text/plain": [
       "<Figure size 640x480 with 1 Axes>"
      ]
     },
     "metadata": {},
     "output_type": "display_data"
    }
   ],
   "source": [
    "sns.histplot(data=task_summary, x=\"lose_shift\") \n",
    "print('lose-shift  skew: '+str(skew(task_summary.win_stay, nan_policy='omit')))"
   ]
  },
  {
   "cell_type": "markdown",
   "metadata": {},
   "source": [
    "Now run the hypothesis testing model (with any covariates that were significant in models 1 and 2)"
   ]
  },
  {
   "cell_type": "code",
   "execution_count": 128,
   "metadata": {},
   "outputs": [
    {
     "name": "stdout",
     "output_type": "stream",
     "text": [
      "             Mixed Linear Model Regression Results\n",
      "===============================================================\n",
      "Model:               MixedLM   Dependent Variable:   lose_shift\n",
      "No. Observations:    42        Method:               REML      \n",
      "No. Groups:          14        Scale:                7.5689    \n",
      "Min. group size:     3         Log-Likelihood:       -101.9669 \n",
      "Max. group size:     3         Converged:            No        \n",
      "Mean group size:     3.0                                       \n",
      "---------------------------------------------------------------\n",
      "                     Coef.  Std.Err.   z    P>|z| [0.025 0.975]\n",
      "---------------------------------------------------------------\n",
      "Intercept             5.705    1.797  3.174 0.002  2.182  9.228\n",
      "prolific_sex[T.Male] -0.524    1.033 -0.507 0.612 -2.550  1.501\n",
      "block_type            0.300    0.520  0.577 0.564 -0.719  1.319\n",
      "prolific_age         -0.018    0.043 -0.429 0.668 -0.102  0.065\n",
      "digit_span           -0.064    0.184 -0.351 0.726 -0.425  0.296\n",
      "Group Var             0.187    0.645                           \n",
      "===============================================================\n",
      "\n"
     ]
    },
    {
     "name": "stderr",
     "output_type": "stream",
     "text": [
      "C:\\Users\\eb08\\AppData\\Local\\Programs\\Python\\Python312\\Lib\\site-packages\\statsmodels\\base\\model.py:607: ConvergenceWarning: Maximum Likelihood optimization failed to converge. Check mle_retvals\n",
      "  warnings.warn(\"Maximum Likelihood optimization failed to \"\n",
      "C:\\Users\\eb08\\AppData\\Local\\Programs\\Python\\Python312\\Lib\\site-packages\\statsmodels\\regression\\mixed_linear_model.py:2200: ConvergenceWarning: Retrying MixedLM optimization with lbfgs\n",
      "  warnings.warn(\n",
      "C:\\Users\\eb08\\AppData\\Local\\Programs\\Python\\Python312\\Lib\\site-packages\\statsmodels\\base\\model.py:607: ConvergenceWarning: Maximum Likelihood optimization failed to converge. Check mle_retvals\n",
      "  warnings.warn(\"Maximum Likelihood optimization failed to \"\n",
      "C:\\Users\\eb08\\AppData\\Local\\Programs\\Python\\Python312\\Lib\\site-packages\\statsmodels\\regression\\mixed_linear_model.py:2200: ConvergenceWarning: Retrying MixedLM optimization with cg\n",
      "  warnings.warn(\n",
      "C:\\Users\\eb08\\AppData\\Local\\Programs\\Python\\Python312\\Lib\\site-packages\\statsmodels\\base\\model.py:607: ConvergenceWarning: Maximum Likelihood optimization failed to converge. Check mle_retvals\n",
      "  warnings.warn(\"Maximum Likelihood optimization failed to \"\n",
      "C:\\Users\\eb08\\AppData\\Local\\Programs\\Python\\Python312\\Lib\\site-packages\\statsmodels\\regression\\mixed_linear_model.py:2206: ConvergenceWarning: MixedLM optimization failed, trying a different optimizer may help.\n",
      "  warnings.warn(msg, ConvergenceWarning)\n",
      "C:\\Users\\eb08\\AppData\\Local\\Programs\\Python\\Python312\\Lib\\site-packages\\statsmodels\\regression\\mixed_linear_model.py:2218: ConvergenceWarning: Gradient optimization failed, |grad| = 0.765490\n",
      "  warnings.warn(msg, ConvergenceWarning)\n"
     ]
    }
   ],
   "source": [
    "data=task_summary.reset_index()\n",
    "data=data.replace(['Disgust', 'Fear', 'Points'], [1.0,2.0,3.0])\n",
    "formula = 'lose_shift ~ block_type+prolific_age+prolific_sex+digit_span'\n",
    "md=smf.mixedlm(formula, data, groups=data['participant_no'], missing='drop')\n",
    "results1 = md.fit()\n",
    "print(results1.summary())"
   ]
  },
  {
   "cell_type": "markdown",
   "metadata": {},
   "source": [
    "Next, perform post-hoc tests to interpret any significant results\n",
    "(or none if there is nothing significant)"
   ]
  },
  {
   "cell_type": "markdown",
   "metadata": {},
   "source": [
    "Test the assumptions of this model"
   ]
  },
  {
   "cell_type": "code",
   "execution_count": 129,
   "metadata": {},
   "outputs": [
    {
     "name": "stdout",
     "output_type": "stream",
     "text": [
      "Statistic 0.9667965668439806\n",
      "p-value 0.2567617850642679\n"
     ]
    },
    {
     "data": {
      "text/plain": [
       "Text(0.5, 1.0, 'Q-Q Plot')"
      ]
     },
     "execution_count": 129,
     "metadata": {},
     "output_type": "execute_result"
    },
    {
     "data": {
      "image/png": "[encoded data removed]",
      "text/plain": [
       "<Figure size 1600x900 with 1 Axes>"
      ]
     },
     "metadata": {},
     "output_type": "display_data"
    }
   ],
   "source": [
    "#shapiro-Wilk test of normality of residuals\n",
    "results=results1\n",
    "\n",
    "labels = [\"Statistic\", \"p-value\"]\n",
    "norm_res = stats.shapiro(results.resid)\n",
    "\n",
    "for key, val in dict(zip(labels, norm_res)).items():\n",
    "    print(key, val)\n",
    "    ##if test is significant then the assumption is violated\n",
    "        #not significant here - so that is good!\n",
    "\n",
    "## Q-Q PLot\n",
    "fig = plt.figure(figsize = (16, 9))\n",
    "ax = fig.add_subplot(111)\n",
    "\n",
    "sm.qqplot(results.resid, dist = stats.norm, line = 's', ax = ax)\n",
    "\n",
    "ax.set_title(\"Q-Q Plot\")"
   ]
  },
  {
   "cell_type": "code",
   "execution_count": 130,
   "metadata": {},
   "outputs": [
    {
     "name": "stdout",
     "output_type": "stream",
     "text": [
      "LM Statistic 11.254774766920391\n",
      "LM-Test p-value 0.5894836824286963\n",
      "F-Statistic 0.7884493660516311\n",
      "F-Test p-value 0.6658610826475301\n"
     ]
    },
    {
     "data": {
      "text/plain": [
       "Text(0, 0.5, 'Residuals')"
      ]
     },
     "execution_count": 130,
     "metadata": {},
     "output_type": "execute_result"
    },
    {
     "data": {
      "image/png": "[encoded data removed]",
      "text/plain": [
       "<Figure size 640x480 with 1 Axes>"
      ]
     },
     "metadata": {},
     "output_type": "display_data"
    }
   ],
   "source": [
    "##homoskedasticity of variance \n",
    "#White Lagrange Multiplier Test for Heteroscedasticity\n",
    "het_white_res = het_white(results.resid, results.model.exog)\n",
    "\n",
    "labels = [\"LM Statistic\", \"LM-Test p-value\", \"F-Statistic\", \"F-Test p-value\"]\n",
    "\n",
    "for key, val in dict(zip(labels, het_white_res)).items():\n",
    "    print(key, val)\n",
    "    ##again, only violated if you get a significant p value (which we don't have here)\n",
    "\n",
    "#RVF plot (residuals vs fitted values)\n",
    "fig = plt.figure()\n",
    "ax = sns.scatterplot(y = results.resid, x = results.fittedvalues)\n",
    "\n",
    "ax.set_title(\"RVF Plot\")\n",
    "ax.set_xlabel(\"Fitted Values\")\n",
    "ax.set_ylabel(\"Residuals\")"
   ]
  },
  {
   "cell_type": "markdown",
   "metadata": {},
   "source": [
    "Calculate Bayes factor (if there is a null)"
   ]
  },
  {
   "cell_type": "code",
   "execution_count": 132,
   "metadata": {},
   "outputs": [
    {
     "data": {
      "text/plain": [
       "2.7777777777777777"
      ]
     },
     "execution_count": 132,
     "metadata": {},
     "output_type": "execute_result"
    }
   ],
   "source": [
    "bayes_factor(task_summary, 'lose_shift', 'Fear', 'Points')"
   ]
  }
 ],
 "metadata": {
  "interpreter": {
   "hash": "a19328ca44b954ed06e43a2e0ca9e2fb64feda7c5658a8f92922d9dadf68cb6c"
  },
  "kernelspec": {
   "display_name": "Python 3.11.5 64-bit ('anaconda3')",
   "language": "python",
   "name": "python3"
  },
  "language_info": {
   "codemirror_mode": {
    "name": "ipython",
    "version": 3
   },
   "file_extension": ".py",
   "mimetype": "text/x-python",
   "name": "python",
   "nbconvert_exporter": "python",
   "pygments_lexer": "ipython3",
   "version": "3.12.1"
  },
  "orig_nbformat": 4
 },
 "nbformat": 4,
 "nbformat_minor": 2
}
