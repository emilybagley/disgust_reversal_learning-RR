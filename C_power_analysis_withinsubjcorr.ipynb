{
 "cells": [
  {
   "cell_type": "code",
   "execution_count": 1,
   "metadata": {},
   "outputs": [],
   "source": [
    "import numpy as np\n",
    "import pandas as pd\n",
    "import statsmodels.formula.api as smf\n",
    "import pingouin as pg\n",
    "import scipy.stats\n",
    "from scipy.stats import multivariate_normal as mvn"
   ]
  },
  {
   "cell_type": "code",
   "execution_count": 2,
   "metadata": {},
   "outputs": [],
   "source": [
    "##getting rid of convergence warnings\n",
    "import sys\n",
    "if not sys.warnoptions:\n",
    "    import warnings\n",
    "    warnings.simplefilter(\"ignore\")"
   ]
  },
  {
   "cell_type": "markdown",
   "metadata": {},
   "source": [
    "<h3>Within-subject correlation parameter</h3>"
   ]
  },
  {
   "cell_type": "markdown",
   "metadata": {},
   "source": [
    "<p>The within-subject correlation parameter for the initial power analysis was set at 0.5. This was based off of standard convention (including the g*power default setting) due to concerns about the reliability of n=11 pilot data </p>\n",
    "<p>However, as an additional check, we opted to assess the within-subject correlation in the pilot data, and on the basis of this check, run some power calculations using a more conservative within-subject correlation estimates </P>"
   ]
  },
  {
   "cell_type": "code",
   "execution_count": 3,
   "metadata": {},
   "outputs": [],
   "source": [
    "## load in the pilot data\n",
    "task_summary=pd.read_csv(\"csvs/pilot_data_for_power.csv\")\n",
    "task_summary=task_summary.replace(['Disgust', 'Fear', 'Points'], [1.0,2.0,3.0])"
   ]
  },
  {
   "cell_type": "code",
   "execution_count": 4,
   "metadata": {},
   "outputs": [],
   "source": [
    "#transform outcome variables as they are skewed\n",
    "    #analysis plan specifies yeojoohnson transforms for skewed outcome variables\n",
    "task_summary['regressive_er_transformed'] = scipy.stats.yeojohnson(task_summary.mean_regressive_er)[0]\n",
    "task_summary['perseverative_er_transformed']= scipy.stats.yeojohnson(task_summary.mean_perseverative_er)[0]"
   ]
  },
  {
   "cell_type": "code",
   "execution_count": 5,
   "metadata": {},
   "outputs": [
    {
     "data": {
      "text/html": [
       "<div>\n",
       "<style scoped>\n",
       "    .dataframe tbody tr th:only-of-type {\n",
       "        vertical-align: middle;\n",
       "    }\n",
       "\n",
       "    .dataframe tbody tr th {\n",
       "        vertical-align: top;\n",
       "    }\n",
       "\n",
       "    .dataframe thead th {\n",
       "        text-align: right;\n",
       "    }\n",
       "</style>\n",
       "<table border=\"1\" class=\"dataframe\">\n",
       "  <thead>\n",
       "    <tr style=\"text-align: right;\">\n",
       "      <th></th>\n",
       "      <th>r</th>\n",
       "      <th>dof</th>\n",
       "      <th>pval</th>\n",
       "      <th>CI95%</th>\n",
       "      <th>power</th>\n",
       "    </tr>\n",
       "  </thead>\n",
       "  <tbody>\n",
       "    <tr>\n",
       "      <th>rm_corr</th>\n",
       "      <td>0.534214</td>\n",
       "      <td>21</td>\n",
       "      <td>0.008644</td>\n",
       "      <td>[0.16, 0.78]</td>\n",
       "      <td>0.774637</td>\n",
       "    </tr>\n",
       "  </tbody>\n",
       "</table>\n",
       "</div>"
      ],
      "text/plain": [
       "                r  dof      pval         CI95%     power\n",
       "rm_corr  0.534214   21  0.008644  [0.16, 0.78]  0.774637"
      ]
     },
     "execution_count": 5,
     "metadata": {},
     "output_type": "execute_result"
    }
   ],
   "source": [
    "#check within subject correlation in pilot data - regressive error\n",
    "pg.rm_corr(data=task_summary, x='regressive_er_transformed', y='block_type', subject='participant_no')\n",
    "    #finds a significant within subject correlation of 0.53 (p=0.008)"
   ]
  },
  {
   "cell_type": "code",
   "execution_count": 6,
   "metadata": {},
   "outputs": [
    {
     "data": {
      "text/html": [
       "<div>\n",
       "<style scoped>\n",
       "    .dataframe tbody tr th:only-of-type {\n",
       "        vertical-align: middle;\n",
       "    }\n",
       "\n",
       "    .dataframe tbody tr th {\n",
       "        vertical-align: top;\n",
       "    }\n",
       "\n",
       "    .dataframe thead th {\n",
       "        text-align: right;\n",
       "    }\n",
       "</style>\n",
       "<table border=\"1\" class=\"dataframe\">\n",
       "  <thead>\n",
       "    <tr style=\"text-align: right;\">\n",
       "      <th></th>\n",
       "      <th>r</th>\n",
       "      <th>dof</th>\n",
       "      <th>pval</th>\n",
       "      <th>CI95%</th>\n",
       "      <th>power</th>\n",
       "    </tr>\n",
       "  </thead>\n",
       "  <tbody>\n",
       "    <tr>\n",
       "      <th>rm_corr</th>\n",
       "      <td>-0.129557</td>\n",
       "      <td>21</td>\n",
       "      <td>0.555743</td>\n",
       "      <td>[-0.51, 0.3]</td>\n",
       "      <td>0.090593</td>\n",
       "    </tr>\n",
       "  </tbody>\n",
       "</table>\n",
       "</div>"
      ],
      "text/plain": [
       "                r  dof      pval         CI95%     power\n",
       "rm_corr -0.129557   21  0.555743  [-0.51, 0.3]  0.090593"
      ]
     },
     "execution_count": 6,
     "metadata": {},
     "output_type": "execute_result"
    }
   ],
   "source": [
    "#check within subject correlation in pilot data\n",
    "pg.rm_corr(data=task_summary, x='perseverative_er_transformed', y='block_type', subject='participant_no')\n",
    "    #no significant within subject correlation"
   ]
  },
  {
   "cell_type": "code",
   "execution_count": 7,
   "metadata": {},
   "outputs": [],
   "source": [
    "#check power from initial power analysis with a more conservative estimate\n",
    "    #within-subject corr = 0.25 (half initial estimate)"
   ]
  },
  {
   "cell_type": "code",
   "execution_count": 8,
   "metadata": {},
   "outputs": [],
   "source": [
    "#use the same function as in the initial power analysis\n",
    "    #only alteration is ability to change effect size and within subject correlation parameters\n",
    "def original_mixed_effects_power_analysis(num_subjects, num_sims,  effect_size, within_subject_corr):\n",
    "    sim_table=pd.DataFrame()\n",
    "    for n in range(num_sims):\n",
    "        #simulate data\n",
    "        std_dev=1\n",
    "        conditions=['Disgust', 'Fear', 'Points']\n",
    "        mean_diff=effect_size*std_dev\n",
    "        means=[1+mean_diff, 1, 1]\n",
    "        cov_matrix=np.eye(len(conditions))*(1-within_subject_corr)+within_subject_corr\n",
    "        scores=mvn.rvs(mean=means, cov=cov_matrix, size=num_subjects)\n",
    "        df=pd.DataFrame(data=scores, columns=['Disgust', 'Fear', 'Points'])\n",
    "        df['participant_no']=df.index+1\n",
    "        df=pd.melt(df, id_vars=['participant_no'], var_name='Condition', value_name='Perseveration') ##convert to long form\n",
    "\n",
    "        #run mixed effects model on simulated data\n",
    "        formula = 'Perseveration ~ Condition'\n",
    "        md=smf.mixedlm(formula, df, groups=df['participant_no'], missing='drop')\n",
    "        results=md.fit()\n",
    "        \n",
    "        #is it significant\n",
    "        if results.pvalues['Condition[T.Fear]'] < alpha:\n",
    "            result=\"Sig\"\n",
    "        else:\n",
    "            result=\"Non Sig\"\n",
    "        \n",
    "        #save into a table\n",
    "        sim_row=pd.DataFrame({'simulation': [n], 'result': [result]})\n",
    "        sim_table=pd.concat([sim_table, sim_row])\n",
    "    return sim_table"
   ]
  },
  {
   "cell_type": "code",
   "execution_count": 9,
   "metadata": {},
   "outputs": [
    {
     "name": "stdout",
     "output_type": "stream",
     "text": [
      "0.8289\n"
     ]
    }
   ],
   "source": [
    "# within subject corr =0.25\n",
    "alpha=0.05\n",
    "effect_size=0.2\n",
    "power=0.95\n",
    "num_subjects=323\n",
    "num_sims=10000\n",
    "within_subject_corr=0.25\n",
    "sim_table=pd.DataFrame()\n",
    "\n",
    "sim_table=original_mixed_effects_power_analysis(num_subjects, num_sims, effect_size, within_subject_corr)\n",
    "power=len(sim_table[sim_table.result=='Sig'].simulation)/len(sim_table.simulation)\n",
    "print(power)"
   ]
  },
  {
   "cell_type": "code",
   "execution_count": 10,
   "metadata": {},
   "outputs": [
    {
     "name": "stdout",
     "output_type": "stream",
     "text": [
      "0.7213\n"
     ]
    }
   ],
   "source": [
    "# within subject corr = 0 (very conservative)\n",
    "alpha=0.05\n",
    "effect_size=0.2\n",
    "power=0.95\n",
    "num_subjects=323\n",
    "num_sims=10000\n",
    "within_subject_corr=0\n",
    "\n",
    "sim_table=original_mixed_effects_power_analysis(num_subjects, num_sims, effect_size, within_subject_corr)\n",
    "power=len(sim_table[sim_table.result=='Sig'].simulation)/len(sim_table.simulation)\n",
    "print(power)"
   ]
  },
  {
   "cell_type": "code",
   "execution_count": 11,
   "metadata": {},
   "outputs": [
    {
     "name": "stdout",
     "output_type": "stream",
     "text": [
      "0.8884\n"
     ]
    }
   ],
   "source": [
    "# within subject corr = 0 (very conservative)\n",
    "    #slightly larger effect size\n",
    "alpha=0.05\n",
    "effect_size=0.25\n",
    "power=0.95\n",
    "num_subjects=323\n",
    "num_sims=10000\n",
    "within_subject_corr=0\n",
    "\n",
    "sim_table=original_mixed_effects_power_analysis(num_subjects, num_sims, effect_size, within_subject_corr)\n",
    "power=len(sim_table[sim_table.result=='Sig'].simulation)/len(sim_table.simulation)\n",
    "print(power)"
   ]
  }
 ],
 "metadata": {
  "interpreter": {
   "hash": "c2362e1d9e86c84968e4609eefe3ccfecbdff67aed21052e0a475fae47f02e22"
  },
  "kernelspec": {
   "display_name": "Python 3.12.1 64-bit",
   "language": "python",
   "name": "python3"
  },
  "language_info": {
   "codemirror_mode": {
    "name": "ipython",
    "version": 3
   },
   "file_extension": ".py",
   "mimetype": "text/x-python",
   "name": "python",
   "nbconvert_exporter": "python",
   "pygments_lexer": "ipython3",
   "version": "3.12.1"
  },
  "orig_nbformat": 4
 },
 "nbformat": 4,
 "nbformat_minor": 2
}
