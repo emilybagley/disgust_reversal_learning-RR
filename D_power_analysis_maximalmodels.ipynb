{
 "cells": [
  {
   "cell_type": "code",
   "execution_count": 1,
   "metadata": {},
   "outputs": [],
   "source": [
    "import numpy as np\n",
    "import pandas as pd\n",
    "import statsmodels.formula.api as smf\n",
    "import pingouin as pg\n",
    "import scipy.stats\n",
    "from scipy.stats import multivariate_normal as mvn"
   ]
  },
  {
   "cell_type": "code",
   "execution_count": 2,
   "metadata": {},
   "outputs": [],
   "source": [
    "##getting rid of convergence warnings\n",
    "import sys\n",
    "if not sys.warnoptions:\n",
    "    import warnings\n",
    "    warnings.simplefilter(\"ignore\")\n",
    "    warnings.simplefilter(action='ignore', category=FutureWarning)"
   ]
  },
  {
   "cell_type": "markdown",
   "metadata": {},
   "source": [
    "This notebook checks whether the more complex models which may be used for hypothesis testing will be sufficiently powered\n",
    "<p>i.e., models which add covariates (age, sex, digit span), by-participant random slopes, and random effects of stimuli/fractals\n",
    "<br>\n",
    "<p>Will test this with data that simulates these effects (as the extent of power loss depends on their presence in the data)"
   ]
  },
  {
   "cell_type": "code",
   "execution_count": 3,
   "metadata": {},
   "outputs": [],
   "source": [
    "#this requires a new way of simulating data\n",
    "    #recreates structures that mixed effects model will model\n",
    "\n",
    "# Parameters\n",
    "np.random.seed(42)\n",
    "condition_names = ['disgust', 'fear', 'points']  # Names of experimental conditions \n",
    "mean_age, age_sd = 45, 15  # Mean and SD of participant age - using numbers from Mehrhof and Nord 2024- used the same recruitment method\n",
    "n_reps = 10000 # Number of simulations for power estimation\n",
    "n_participants=323 #number of participants from initial power analysis\n",
    "\n",
    "# Effect sizes\n",
    "true_intercept = 5          # Baseline intercept\n",
    "true_slope_condition = 0.2\n",
    "true_slope_age = -0.05      # Age effect\n",
    "true_slope_sex = 0.005      # Sex effect (1 for male, 0 for female)\n",
    "\n",
    "# Variability\n",
    "sd_intercept_participant = 1  # Random intercept for participants\n",
    "sd_slope_condition = 0.5        # Random slope for condition per participant\n",
    "sd_residual = 0.5               # Residual error"
   ]
  },
  {
   "cell_type": "code",
   "execution_count": 4,
   "metadata": {},
   "outputs": [],
   "source": [
    "# Function to simulate a single dataset and fit the simplest model\n",
    "n_conditions = len(condition_names)   # Number of experimental conditions\n",
    "def simple_model_simulate_and_fit():\n",
    "    # Simulate participant data\n",
    "    participant_data = pd.DataFrame({\n",
    "        'participant_id': np.arange(n_participants),\n",
    "        'age': np.random.normal(mean_age, age_sd, n_participants),  # Age centered around mean_age with age_sd\n",
    "        'sex': np.random.choice([0, 1], size=n_participants),        # Randomly assign male/female\n",
    "        'fractals': np.random.choice(range(1,29), size=n_participants), #randomly assign fractals used\n",
    "        'digit_span': np.random.normal(7, 1.5, n_participants) #guessed mean and sdev on prev lit        \n",
    "    })\n",
    "    # Create trial-level data\n",
    "    data = pd.DataFrame({\n",
    "        'participant_id': np.repeat(participant_data['participant_id'], n_conditions),\n",
    "        'condition': np.tile(condition_names, n_participants)\n",
    "    })\n",
    "    # Merge with participant data\n",
    "    data = data.merge(participant_data, on='participant_id')\n",
    "    # Create a mapping dictionary based on condition names\n",
    "    condition_map = {name: i for i, name in enumerate(condition_names)}\n",
    "    # Encode condition using the mapping\n",
    "    data['condition_num'] = data['condition'].map(condition_map)\n",
    "    \n",
    "    # Random effects\n",
    "    random_intercepts = np.random.normal(0, sd_intercept_participant, n_participants)\n",
    "    random_slopes = np.random.normal(0, sd_slope_condition, n_participants)\n",
    "    data['random_intercept'] = data['participant_id'].map(lambda x: random_intercepts[x])\n",
    "    data['random_slope'] = data['participant_id'].map(lambda x: random_slopes[x])\n",
    "    \n",
    "    # Simulate outcome variable\n",
    "    data['outcome'] = (\n",
    "        true_intercept\n",
    "        + data['random_intercept']\n",
    "        + data['condition_num'] * (true_slope_condition + data['random_slope'])\n",
    "        + data['age'] * true_slope_age\n",
    "        + data['sex'] * true_slope_sex\n",
    "        + np.random.normal(0, sd_residual, len(data))  # Residual error\n",
    "    )\n",
    "\n",
    "    conditions = [data['condition']=='disgust',data['condition']=='fear',data['condition']=='points']\n",
    "    choices = [np.random.randint(1,6, size=len(data)),np.random.randint(6,11, size=len(data)),11]\n",
    "\n",
    "    data['feedback_details']=np.select(conditions, choices, n_participants)\n",
    "    \n",
    "    # Fit mixed-effects model\n",
    "    formula = 'outcome ~ C(condition_num)'\n",
    "    model=smf.mixedlm(formula, data, groups=data['participant_id'], missing='drop')\n",
    "    result = model.fit()\n",
    "    return result, data"
   ]
  },
  {
   "cell_type": "code",
   "execution_count": 5,
   "metadata": {},
   "outputs": [
    {
     "name": "stdout",
     "output_type": "stream",
     "text": [
      "\n",
      "Estimated Power for condition effect: 0.97\n"
     ]
    }
   ],
   "source": [
    "# Perform repeated simulations for power estimation\n",
    "power_results = []\n",
    "for i in range(n_reps):\n",
    "    result, _ = simple_model_simulate_and_fit()\n",
    "    power_results.append(result.pvalues['C(condition_num)[T.1]'] < 0.05) # Check if condition effect is significant\n",
    "# Calculate and display estimated power\n",
    "estimated_power = np.mean(power_results)\n",
    "print(f\"\\nEstimated Power for condition effect: {estimated_power:.2f}\")"
   ]
  },
  {
   "cell_type": "code",
   "execution_count": null,
   "metadata": {},
   "outputs": [],
   "source": [
    "#do the same for a medium model\n",
    "    #just includes effects used to simulate the data"
   ]
  },
  {
   "cell_type": "code",
   "execution_count": 6,
   "metadata": {},
   "outputs": [],
   "source": [
    "def medium_model_simulate_and_fit():\n",
    "    # Simulate participant data\n",
    "    participant_data = pd.DataFrame({\n",
    "        'participant_id': np.arange(n_participants),\n",
    "        'age': np.random.normal(mean_age, age_sd, n_participants),  # Age centered around mean_age with age_sd\n",
    "        'sex': np.random.choice([0, 1], size=n_participants)        # Randomly assign male/female\n",
    "    })\n",
    "    # Create trial-level data\n",
    "    data = pd.DataFrame({\n",
    "        'participant_id': np.repeat(participant_data['participant_id'], n_conditions),\n",
    "        'condition': np.tile(condition_names, n_participants)\n",
    "    })\n",
    "    # Merge with participant data\n",
    "    data = data.merge(participant_data, on='participant_id')\n",
    "    # Create a mapping dictionary based on condition names\n",
    "    condition_map = {name: i for i, name in enumerate(condition_names)}\n",
    "    # Encode condition using the mapping\n",
    "    data['condition_num'] = data['condition'].map(condition_map)\n",
    "    \n",
    "    # Random effects\n",
    "    random_intercepts = np.random.normal(0, sd_intercept_participant, n_participants)\n",
    "    random_slopes = np.random.normal(0, sd_slope_condition, n_participants)\n",
    "    data['random_intercept'] = data['participant_id'].map(lambda x: random_intercepts[x])\n",
    "    data['random_slope'] = data['participant_id'].map(lambda x: random_slopes[x])\n",
    "    \n",
    "    # Simulate outcome variable\n",
    "    data['outcome'] = (\n",
    "        true_intercept\n",
    "        + data['random_intercept']\n",
    "        + data['condition_num'] * (true_slope_condition + data['random_slope'])\n",
    "        + data['age'] * true_slope_age\n",
    "        + data['sex'] * true_slope_sex\n",
    "        + np.random.normal(0, sd_residual, len(data))  # Residual error\n",
    "    )\n",
    "    \n",
    "    # Fit mixed-effects model\n",
    "    model = smf.mixedlm(\"outcome ~ C(condition_num)+age+sex\", data,\n",
    "                        groups=data[\"participant_id\"], re_formula='~condition_num')\n",
    "    result = model.fit()\n",
    "    return result, data"
   ]
  },
  {
   "cell_type": "code",
   "execution_count": 7,
   "metadata": {},
   "outputs": [
    {
     "name": "stdout",
     "output_type": "stream",
     "text": [
      "\n",
      "Estimated Power for condition effect: 0.99\n"
     ]
    }
   ],
   "source": [
    "# Perform repeated simulations for power estimation\n",
    "power_results = []\n",
    "for i in range(n_reps):\n",
    "    result, _ = medium_model_simulate_and_fit()\n",
    "    power_results.append(result.pvalues['C(condition_num)[T.1]'] < 0.05) # Check if condition effect is significant\n",
    "# Calculate and display estimated power\n",
    "estimated_power = np.mean(power_results)\n",
    "print(f\"\\nEstimated Power for condition effect: {estimated_power:.2f}\")"
   ]
  },
  {
   "cell_type": "code",
   "execution_count": null,
   "metadata": {},
   "outputs": [],
   "source": [
    "#finally, test the power for the most maximal model\n",
    "    #this includes modeling effects which are not present in the data"
   ]
  },
  {
   "cell_type": "code",
   "execution_count": 8,
   "metadata": {},
   "outputs": [],
   "source": [
    "def maximal_model_simulate_and_fit():\n",
    "    # Simulate participant data\n",
    "    participant_data = pd.DataFrame({\n",
    "        'participant_id': np.arange(n_participants),\n",
    "        'age': np.random.normal(mean_age, age_sd, n_participants),  # Age centered around mean_age with age_sd\n",
    "        'sex': np.random.choice([0, 1], size=n_participants),        # Randomly assign male/female\n",
    "        'fractals': np.random.choice(range(1,29), size=n_participants), #randomly assign fractals used\n",
    "        'digit_span': np.random.normal(7, 1.5, n_participants) #guessed mean and sdev on prev lit        \n",
    "    })\n",
    "    # Create trial-level data\n",
    "    data = pd.DataFrame({\n",
    "        'participant_id': np.repeat(participant_data['participant_id'], n_conditions),\n",
    "        'condition': np.tile(condition_names, n_participants)\n",
    "    })\n",
    "    # Merge with participant data\n",
    "    data = data.merge(participant_data, on='participant_id')\n",
    "    # Create a mapping dictionary based on condition names\n",
    "    condition_map = {name: i for i, name in enumerate(condition_names)}\n",
    "    # Encode condition using the mapping\n",
    "    data['condition_num'] = data['condition'].map(condition_map)\n",
    "    \n",
    "    # Random effects\n",
    "    random_intercepts = np.random.normal(0, sd_intercept_participant, n_participants)\n",
    "    random_slopes = np.random.normal(0, sd_slope_condition, n_participants)\n",
    "    data['random_intercept'] = data['participant_id'].map(lambda x: random_intercepts[x])\n",
    "    data['random_slope'] = data['participant_id'].map(lambda x: random_slopes[x])\n",
    "    \n",
    "    # Simulate outcome variable\n",
    "    data['outcome'] = (\n",
    "        true_intercept\n",
    "        + data['random_intercept']\n",
    "        + data['condition_num'] * (true_slope_condition + data['random_slope'])\n",
    "        + data['age'] * true_slope_age\n",
    "        + data['sex'] * true_slope_sex\n",
    "        + np.random.normal(0, sd_residual, len(data))  # Residual error\n",
    "    )\n",
    "\n",
    "    conditions = [data['condition']=='disgust',data['condition']=='fear',data['condition']=='points']\n",
    "    choices = [np.random.randint(1,6, size=len(data)),np.random.randint(6,11, size=len(data)),11]\n",
    "\n",
    "    data['feedback_details']=np.select(conditions, choices, n_participants)\n",
    "    \n",
    "    # Fit mixed-effects model\n",
    "    formula = 'outcome ~ C(condition_num)+age+sex+digit_span'\n",
    "    model=smf.mixedlm(formula, data, groups=data['participant_id'], missing='drop', \n",
    "        vc_formula={'feedback_details': '0+feedback_details', \"fractals\": \"0 + fractals\"}, \n",
    "        re_formula='~condition_num')\n",
    "    result = model.fit()\n",
    "    return result, data"
   ]
  },
  {
   "cell_type": "code",
   "execution_count": 9,
   "metadata": {},
   "outputs": [
    {
     "name": "stdout",
     "output_type": "stream",
     "text": [
      "\n",
      "Estimated Power for condition effect: 0.97\n"
     ]
    }
   ],
   "source": [
    "# Perform repeated simulations for power estimation\n",
    "power_results = []\n",
    "for i in range(n_reps):\n",
    "    result, _ = maximal_model_simulate_and_fit()\n",
    "    power_results.append(result.pvalues['C(condition_num)[T.1]'] < 0.05) # Check if condition effect is significant\n",
    "# Calculate and display estimated power\n",
    "estimated_power = np.mean(power_results)\n",
    "print(f\"\\nEstimated Power for condition effect: {estimated_power:.2f}\")"
   ]
  }
 ],
 "metadata": {
  "interpreter": {
   "hash": "c2362e1d9e86c84968e4609eefe3ccfecbdff67aed21052e0a475fae47f02e22"
  },
  "kernelspec": {
   "display_name": "Python 3.12.1 64-bit",
   "language": "python",
   "name": "python3"
  },
  "language_info": {
   "codemirror_mode": {
    "name": "ipython",
    "version": 3
   },
   "file_extension": ".py",
   "mimetype": "text/x-python",
   "name": "python",
   "nbconvert_exporter": "python",
   "pygments_lexer": "ipython3",
   "version": "3.12.1"
  },
  "orig_nbformat": 4
 },
 "nbformat": 4,
 "nbformat_minor": 2
}
